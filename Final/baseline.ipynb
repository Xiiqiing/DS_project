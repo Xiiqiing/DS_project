{
  "nbformat": 4,
  "nbformat_minor": 5,
  "metadata": {
    "kernelspec": {
      "display_name": "Python 3",
      "language": "python",
      "name": "python3"
    },
    "language_info": {
      "codemirror_mode": {
        "name": "ipython",
        "version": 3
      },
      "file_extension": ".py",
      "mimetype": "text/x-python",
      "name": "python",
      "nbconvert_exporter": "python",
      "pygments_lexer": "ipython3",
      "version": "3.8.3"
    },
    "colab": {
      "name": "baseline.ipynb",
      "provenance": [],
      "collapsed_sections": []
    }
  },
  "cells": [
    {
      "cell_type": "code",
      "metadata": {
        "id": "ONfH09KZhNjp"
      },
      "source": [
        "import pandas as pd\n",
        "import numpy as np\n",
        "#import torch"
      ],
      "id": "ONfH09KZhNjp",
      "execution_count": null,
      "outputs": []
    },
    {
      "cell_type": "code",
      "metadata": {
        "colab": {
          "base_uri": "https://localhost:8080/"
        },
        "id": "UTwG5cenhNjr",
        "outputId": "5073b560-cc49-48a7-c9b7-da6a2ead959c"
      },
      "source": [
        "from google.colab import drive\n",
        "drive.mount('/content/drive')"
      ],
      "id": "UTwG5cenhNjr",
      "execution_count": null,
      "outputs": [
        {
          "output_type": "stream",
          "text": [
            "Mounted at /content/drive\n"
          ],
          "name": "stdout"
        }
      ]
    },
    {
      "cell_type": "code",
      "metadata": {
        "id": "1-ewp67FMnN7"
      },
      "source": [
        "#load data\n",
        "news = pd.read_csv('/content/drive/MyDrive/Colab Notebooks/Final/archive/all_news.csv')"
      ],
      "id": "1-ewp67FMnN7",
      "execution_count": null,
      "outputs": []
    },
    {
      "cell_type": "code",
      "metadata": {
        "colab": {
          "base_uri": "https://localhost:8080/",
          "height": 204
        },
        "id": "uNWsHU45NoKm",
        "outputId": "891792f3-f793-42ad-a21d-be8702952ed4"
      },
      "source": [
        "news.head()"
      ],
      "id": "uNWsHU45NoKm",
      "execution_count": null,
      "outputs": [
        {
          "output_type": "execute_result",
          "data": {
            "text/html": [
              "<div>\n",
              "<style scoped>\n",
              "    .dataframe tbody tr th:only-of-type {\n",
              "        vertical-align: middle;\n",
              "    }\n",
              "\n",
              "    .dataframe tbody tr th {\n",
              "        vertical-align: top;\n",
              "    }\n",
              "\n",
              "    .dataframe thead th {\n",
              "        text-align: right;\n",
              "    }\n",
              "</style>\n",
              "<table border=\"1\" class=\"dataframe\">\n",
              "  <thead>\n",
              "    <tr style=\"text-align: right;\">\n",
              "      <th></th>\n",
              "      <th>title</th>\n",
              "      <th>content</th>\n",
              "      <th>type</th>\n",
              "    </tr>\n",
              "  </thead>\n",
              "  <tbody>\n",
              "    <tr>\n",
              "      <th>0</th>\n",
              "      <td>\"Jihad\" Jack Thomas acquitted of terrorism con...</td>\n",
              "      <td>Melbourne man Jack Thomas has been acquitted o...</td>\n",
              "      <td>political</td>\n",
              "    </tr>\n",
              "    <tr>\n",
              "      <th>1</th>\n",
              "      <td>'Afghanistan is a 20-year venture' warns Canad...</td>\n",
              "      <td>Maj.-Gen. Andrew Leslie, one of Canada's top g...</td>\n",
              "      <td>political</td>\n",
              "    </tr>\n",
              "    <tr>\n",
              "      <th>2</th>\n",
              "      <td>2006 New Zealand Maori Electoral Option</td>\n",
              "      <td>Today marks the beginning of the 2006 Māori El...</td>\n",
              "      <td>political</td>\n",
              "    </tr>\n",
              "    <tr>\n",
              "      <th>3</th>\n",
              "      <td>2008 GOP convention to be in Minnesota</td>\n",
              "      <td>The Republican National Committee Site Selecti...</td>\n",
              "      <td>political</td>\n",
              "    </tr>\n",
              "    <tr>\n",
              "      <th>4</th>\n",
              "      <td>30 civillians killed by roadside bomb in Afgha...</td>\n",
              "      <td>Local officials in southern Afghanistan say a ...</td>\n",
              "      <td>political</td>\n",
              "    </tr>\n",
              "  </tbody>\n",
              "</table>\n",
              "</div>"
            ],
            "text/plain": [
              "                                               title  ...       type\n",
              "0  \"Jihad\" Jack Thomas acquitted of terrorism con...  ...  political\n",
              "1  'Afghanistan is a 20-year venture' warns Canad...  ...  political\n",
              "2            2006 New Zealand Maori Electoral Option  ...  political\n",
              "3             2008 GOP convention to be in Minnesota  ...  political\n",
              "4  30 civillians killed by roadside bomb in Afgha...  ...  political\n",
              "\n",
              "[5 rows x 3 columns]"
            ]
          },
          "metadata": {
            "tags": []
          },
          "execution_count": 9
        }
      ]
    },
    {
      "cell_type": "code",
      "metadata": {
        "id": "DG3BW55FPKuu"
      },
      "source": [
        "news = news[~((news['type'] == 'unknown')|(news.type == 'rumor'))]"
      ],
      "id": "DG3BW55FPKuu",
      "execution_count": null,
      "outputs": []
    },
    {
      "cell_type": "code",
      "metadata": {
        "colab": {
          "base_uri": "https://localhost:8080/"
        },
        "id": "jIQcsrLaOULi",
        "outputId": "a45b1760-e8dc-4438-94ac-8cd9f90d78ea"
      },
      "source": [
        "news.groupby('type').size().sort_values(ascending = False)"
      ],
      "id": "jIQcsrLaOULi",
      "execution_count": null,
      "outputs": [
        {
          "output_type": "execute_result",
          "data": {
            "text/plain": [
              "type\n",
              "political     265791\n",
              "unreliable    139659\n",
              "bias          124074\n",
              "fake          121772\n",
              "conspiracy     76658\n",
              "clickbait      20917\n",
              "junksci        15029\n",
              "satire         14252\n",
              "reliable        5417\n",
              "hate            3567\n",
              "dtype: int64"
            ]
          },
          "metadata": {
            "tags": []
          },
          "execution_count": 11
        }
      ]
    },
    {
      "cell_type": "code",
      "metadata": {
        "id": "38pfrg0p_TOQ"
      },
      "source": [
        "# marge labels\n",
        "news['type'].replace(['political','reliable','clickbait'], 1, inplace = True)\n",
        "news['type'].replace(['fake','bias','conspiracy','junksci','unreliable','hate','satire'], 0, inplace = True)\n",
        "news['type']=pd.to_numeric(news['type'])\n",
        "# remove NaN\n",
        "#news = news.dropna()"
      ],
      "id": "38pfrg0p_TOQ",
      "execution_count": null,
      "outputs": []
    },
    {
      "cell_type": "code",
      "metadata": {
        "colab": {
          "base_uri": "https://localhost:8080/"
        },
        "id": "48siVE99ObSr",
        "outputId": "e78d3827-9901-404b-f2e8-1647025e60d5"
      },
      "source": [
        "news.groupby('type').size().sort_values(ascending = False)"
      ],
      "id": "48siVE99ObSr",
      "execution_count": null,
      "outputs": [
        {
          "output_type": "execute_result",
          "data": {
            "text/plain": [
              "type\n",
              "0    495011\n",
              "1    292125\n",
              "dtype: int64"
            ]
          },
          "metadata": {
            "tags": []
          },
          "execution_count": 13
        }
      ]
    },
    {
      "cell_type": "code",
      "metadata": {
        "id": "nKtAkUya020R"
      },
      "source": [
        "sub_news=news.sample(frac=0.1,random_state=42)"
      ],
      "id": "nKtAkUya020R",
      "execution_count": null,
      "outputs": []
    },
    {
      "cell_type": "code",
      "metadata": {
        "id": "lakEMrZp5zTi"
      },
      "source": [
        "sub_news=pd.read_csv('/content/drive/MyDrive/Colab Notebooks/Final/processed_sub_news.csv')"
      ],
      "id": "lakEMrZp5zTi",
      "execution_count": null,
      "outputs": []
    },
    {
      "cell_type": "code",
      "metadata": {
        "id": "Sj3UJGS0QL5K"
      },
      "source": [
        "# without title\n",
        "wot_sub_news= sub_news[['content', 'type']]\n",
        "wot_sub_news= wot_sub_news.dropna()\n",
        "# # with title\n",
        "# wt_sub_news = sub_news[['title','content', 'type']]\n",
        "# wt_sub_news= wt_sub_news.dropna()"
      ],
      "id": "Sj3UJGS0QL5K",
      "execution_count": null,
      "outputs": []
    },
    {
      "cell_type": "code",
      "metadata": {
        "id": "9OrpvWh_aXdZ"
      },
      "source": [
        "liar = pd.read_csv('/content/test.csv',header=None)"
      ],
      "id": "9OrpvWh_aXdZ",
      "execution_count": null,
      "outputs": []
    },
    {
      "cell_type": "code",
      "metadata": {
        "colab": {
          "base_uri": "https://localhost:8080/"
        },
        "id": "3yt9sCzIaXdb",
        "outputId": "2fb1d6ac-8a8c-40c7-80b3-928d94e061fa"
      },
      "source": [
        "liar.groupby(1).size().sort_values(ascending = False)"
      ],
      "id": "3yt9sCzIaXdb",
      "execution_count": null,
      "outputs": [
        {
          "output_type": "execute_result",
          "data": {
            "text/plain": [
              "1\n",
              "half-true      265\n",
              "FALSE          249\n",
              "mostly-true    241\n",
              "barely-true    212\n",
              "TRUE           208\n",
              "pants-fire      92\n",
              "dtype: int64"
            ]
          },
          "metadata": {
            "tags": []
          },
          "execution_count": 17
        }
      ]
    },
    {
      "cell_type": "code",
      "metadata": {
        "id": "76Qz3UB8aXdb"
      },
      "source": [
        "liar = liar[((liar[1] == 'FALSE')|(liar[1] == 'TRUE'))]"
      ],
      "id": "76Qz3UB8aXdb",
      "execution_count": null,
      "outputs": []
    },
    {
      "cell_type": "code",
      "metadata": {
        "id": "mFXK-GRFaXdb"
      },
      "source": [
        "liar[1].replace(['FALSE'], 0, inplace = True)\n",
        "liar[1].replace(['TRUE'], 1, inplace = True)"
      ],
      "id": "mFXK-GRFaXdb",
      "execution_count": null,
      "outputs": []
    },
    {
      "cell_type": "code",
      "metadata": {
        "colab": {
          "base_uri": "https://localhost:8080/",
          "height": 476
        },
        "id": "m1zwYfGtaXdc",
        "outputId": "cc418c6e-6173-4de5-8432-d4d68759c383"
      },
      "source": [
        "liar.head()"
      ],
      "id": "m1zwYfGtaXdc",
      "execution_count": null,
      "outputs": [
        {
          "output_type": "execute_result",
          "data": {
            "text/html": [
              "<div>\n",
              "<style scoped>\n",
              "    .dataframe tbody tr th:only-of-type {\n",
              "        vertical-align: middle;\n",
              "    }\n",
              "\n",
              "    .dataframe tbody tr th {\n",
              "        vertical-align: top;\n",
              "    }\n",
              "\n",
              "    .dataframe thead th {\n",
              "        text-align: right;\n",
              "    }\n",
              "</style>\n",
              "<table border=\"1\" class=\"dataframe\">\n",
              "  <thead>\n",
              "    <tr style=\"text-align: right;\">\n",
              "      <th></th>\n",
              "      <th>0</th>\n",
              "      <th>1</th>\n",
              "      <th>2</th>\n",
              "      <th>3</th>\n",
              "      <th>4</th>\n",
              "      <th>5</th>\n",
              "      <th>6</th>\n",
              "      <th>7</th>\n",
              "      <th>8</th>\n",
              "      <th>9</th>\n",
              "      <th>10</th>\n",
              "      <th>11</th>\n",
              "      <th>12</th>\n",
              "      <th>13</th>\n",
              "    </tr>\n",
              "  </thead>\n",
              "  <tbody>\n",
              "    <tr>\n",
              "      <th>0</th>\n",
              "      <td>11972.json</td>\n",
              "      <td>1</td>\n",
              "      <td>Building a wall on the U.S.-Mexico border will...</td>\n",
              "      <td>immigration</td>\n",
              "      <td>rick-perry</td>\n",
              "      <td>Governor</td>\n",
              "      <td>Texas</td>\n",
              "      <td>republican</td>\n",
              "      <td>30</td>\n",
              "      <td>30</td>\n",
              "      <td>42</td>\n",
              "      <td>23</td>\n",
              "      <td>18</td>\n",
              "      <td>Radio interview</td>\n",
              "    </tr>\n",
              "    <tr>\n",
              "      <th>1</th>\n",
              "      <td>11685.json</td>\n",
              "      <td>0</td>\n",
              "      <td>Wisconsin is on pace to double the number of l...</td>\n",
              "      <td>jobs</td>\n",
              "      <td>katrina-shankland</td>\n",
              "      <td>State representative</td>\n",
              "      <td>Wisconsin</td>\n",
              "      <td>democrat</td>\n",
              "      <td>2</td>\n",
              "      <td>1</td>\n",
              "      <td>0</td>\n",
              "      <td>0</td>\n",
              "      <td>0</td>\n",
              "      <td>a news conference</td>\n",
              "    </tr>\n",
              "    <tr>\n",
              "      <th>2</th>\n",
              "      <td>11096.json</td>\n",
              "      <td>0</td>\n",
              "      <td>Says John McCain has done nothing to help the ...</td>\n",
              "      <td>military,veterans,voting-record</td>\n",
              "      <td>donald-trump</td>\n",
              "      <td>President-Elect</td>\n",
              "      <td>New York</td>\n",
              "      <td>republican</td>\n",
              "      <td>63</td>\n",
              "      <td>114</td>\n",
              "      <td>51</td>\n",
              "      <td>37</td>\n",
              "      <td>61</td>\n",
              "      <td>comments on ABC's This Week.</td>\n",
              "    </tr>\n",
              "    <tr>\n",
              "      <th>5</th>\n",
              "      <td>5962.json</td>\n",
              "      <td>1</td>\n",
              "      <td>Over the past five years the federal governmen...</td>\n",
              "      <td>federal-budget,pensions,retirement</td>\n",
              "      <td>brendan-doherty</td>\n",
              "      <td>NaN</td>\n",
              "      <td>Rhode Island</td>\n",
              "      <td>republican</td>\n",
              "      <td>1</td>\n",
              "      <td>2</td>\n",
              "      <td>1</td>\n",
              "      <td>1</td>\n",
              "      <td>0</td>\n",
              "      <td>a campaign website</td>\n",
              "    </tr>\n",
              "    <tr>\n",
              "      <th>6</th>\n",
              "      <td>7070.json</td>\n",
              "      <td>1</td>\n",
              "      <td>Says that Tennessee law requires that schools ...</td>\n",
              "      <td>county-budget,county-government,education,taxes</td>\n",
              "      <td>stand-children-tennessee</td>\n",
              "      <td>Child and education advocacy organization.</td>\n",
              "      <td>Tennessee</td>\n",
              "      <td>none</td>\n",
              "      <td>0</td>\n",
              "      <td>0</td>\n",
              "      <td>0</td>\n",
              "      <td>0</td>\n",
              "      <td>0</td>\n",
              "      <td>in a post on Facebook.</td>\n",
              "    </tr>\n",
              "  </tbody>\n",
              "</table>\n",
              "</div>"
            ],
            "text/plain": [
              "           0   1   ...  12                            13\n",
              "0  11972.json   1  ...  18               Radio interview\n",
              "1  11685.json   0  ...   0             a news conference\n",
              "2  11096.json   0  ...  61  comments on ABC's This Week.\n",
              "5   5962.json   1  ...   0            a campaign website\n",
              "6   7070.json   1  ...   0        in a post on Facebook.\n",
              "\n",
              "[5 rows x 14 columns]"
            ]
          },
          "metadata": {
            "tags": []
          },
          "execution_count": 20
        }
      ]
    },
    {
      "cell_type": "code",
      "metadata": {
        "id": "kuhXgJke3_4o"
      },
      "source": [
        "kaggle = pd.read_csv('/content/drive/MyDrive/Colab Notebooks/Final/kaggle.csv')"
      ],
      "id": "kuhXgJke3_4o",
      "execution_count": null,
      "outputs": []
    },
    {
      "cell_type": "code",
      "metadata": {
        "id": "iYU0sEUQ6mvq"
      },
      "source": [
        "kaggle=kaggle[((kaggle['label'] == 'REAL')|(kaggle['label'] == 'FAKE'))]"
      ],
      "id": "iYU0sEUQ6mvq",
      "execution_count": null,
      "outputs": []
    },
    {
      "cell_type": "code",
      "metadata": {
        "id": "lotIzT5t4fmx"
      },
      "source": [
        "kaggle['label'].replace(['FAKE'], 0, inplace = True)\n",
        "kaggle['label'].replace(['REAL'], 1, inplace = True)"
      ],
      "id": "lotIzT5t4fmx",
      "execution_count": null,
      "outputs": []
    },
    {
      "cell_type": "code",
      "metadata": {
        "id": "lmNohjnS6vKb"
      },
      "source": [
        ""
      ],
      "id": "lmNohjnS6vKb",
      "execution_count": null,
      "outputs": []
    },
    {
      "cell_type": "markdown",
      "metadata": {
        "id": "vMfJ6wP5hNjt"
      },
      "source": [
        "# tf-idf"
      ],
      "id": "vMfJ6wP5hNjt"
    },
    {
      "cell_type": "code",
      "metadata": {
        "id": "nkxnaXu8hNju"
      },
      "source": [
        "# Import Tfidf vectorizer from sklearn and apply the vectorizer\n",
        "from sklearn.feature_extraction.text import TfidfVectorizer\n",
        "\n",
        "vect = TfidfVectorizer(max_features = 256)\n",
        "content_tfidf = vect.fit_transform(wot_sub_news.content)"
      ],
      "id": "nkxnaXu8hNju",
      "execution_count": null,
      "outputs": []
    },
    {
      "cell_type": "code",
      "metadata": {
        "id": "ALwNGMTjRkyo"
      },
      "source": [
        "content_wt_tfidf = vect.fit_transform(wt_sub_news['content']+wt_sub_news['title'])"
      ],
      "id": "ALwNGMTjRkyo",
      "execution_count": null,
      "outputs": []
    },
    {
      "cell_type": "code",
      "metadata": {
        "id": "SWuq2V13bpsG"
      },
      "source": [
        "liar_tfidf = vect.fit_transform(liar[2])"
      ],
      "id": "SWuq2V13bpsG",
      "execution_count": null,
      "outputs": []
    },
    {
      "cell_type": "code",
      "metadata": {
        "id": "pBvwDfSG4u5e"
      },
      "source": [
        "kaggle_tfidf = vect.fit_transform(kaggle['text'])"
      ],
      "id": "pBvwDfSG4u5e",
      "execution_count": null,
      "outputs": []
    },
    {
      "cell_type": "markdown",
      "metadata": {
        "id": "13uU-mD-hNjv"
      },
      "source": [
        "# Training a classifier"
      ],
      "id": "13uU-mD-hNjv"
    },
    {
      "cell_type": "markdown",
      "metadata": {
        "id": "rd91I81yhNjw"
      },
      "source": [
        "### Split the data into training, validation and testing sets"
      ],
      "id": "rd91I81yhNjw"
    },
    {
      "cell_type": "code",
      "metadata": {
        "id": "Dq-SZlqqIWHl"
      },
      "source": [
        "from sklearn.model_selection import train_test_split\n",
        "# Size of training is 80%\n",
        "X_train, X_test, y_train, y_test = train_test_split(\n",
        "    content_wt_tfidf, wt_sub_news['type'], test_size=0.20, random_state=42)\n",
        "\n",
        "# Use the 40% test set to split further into test and validation set with 50/50 split\n",
        "X_test, X_val, y_test, y_val = train_test_split(X_test, y_test, test_size=0.50, random_state=42)"
      ],
      "id": "Dq-SZlqqIWHl",
      "execution_count": null,
      "outputs": []
    },
    {
      "cell_type": "code",
      "metadata": {
        "colab": {
          "base_uri": "https://localhost:8080/"
        },
        "id": "souVUoMYVRf8",
        "outputId": "49b77e65-fff2-46f3-c7cd-ca9840f67bd5"
      },
      "source": [
        "from sklearn.neighbors import KNeighborsClassifier\n",
        "from sklearn.ensemble import RandomForestClassifier\n",
        "from sklearn.tree import DecisionTreeClassifier\n",
        "from sklearn.linear_model import LogisticRegression\n",
        "from sklearn.svm import SVC\n",
        "\n",
        "names = [\"Nearest Neighbors\",\"Random Forest\", \"Neural Net\",\"LogReg\"]#\"SVC\"]\n",
        "\n",
        "classifiers = [\n",
        "    KNeighborsClassifier(3),\n",
        "    RandomForestClassifier(max_depth=5, n_estimators=10, max_features=1),\n",
        "    DecisionTreeClassifier(max_depth=5),\n",
        "    LogisticRegression(penalty='l1',solver='saga', max_iter=10000)]\n",
        "    #SVC(kernel='linear')]\n",
        "\n",
        "for name, clf in zip(names, classifiers):\n",
        "        clf.fit(X_train, y_train)\n",
        "        print(name,' score:',clf.score(X_test, y_test))\n",
        "        print(name,' liar score:',clf.score(liar_tfidf, liar[1]))"
      ],
      "id": "souVUoMYVRf8",
      "execution_count": null,
      "outputs": [
        {
          "output_type": "stream",
          "text": [
            "Nearest Neighbors  score: 0.7675098512774883\n",
            "Nearest Neighbors  liar score: 0.5361050328227571\n",
            "Random Forest  score: 0.6710308885216728\n",
            "Random Forest  liar score: 0.5448577680525164\n",
            "Neural Net  score: 0.7503495614592602\n",
            "Neural Net  liar score: 0.5361050328227571\n",
            "LogReg  score: 0.8107283589678403\n",
            "LogReg  liar score: 0.474835886214442\n"
          ],
          "name": "stdout"
        }
      ]
    },
    {
      "cell_type": "code",
      "metadata": {
        "id": "BHfmHRbahNjw"
      },
      "source": [
        "from sklearn.model_selection import train_test_split\n",
        "# without title\n",
        "# Size of training is 60%\n",
        "X_train, X_test, y_train, y_test = train_test_split(\n",
        "    content_tfidf, wot_sub_news['type'], test_size=0.20, random_state=42)\n",
        "\n",
        "# Use the 40% test set to split further into test and validation set with 50/50 split\n",
        "X_test, X_val, y_test, y_val = train_test_split(X_test, y_test, test_size=0.50, random_state=42)"
      ],
      "id": "BHfmHRbahNjw",
      "execution_count": null,
      "outputs": []
    },
    {
      "cell_type": "code",
      "metadata": {
        "id": "hT6WsnMmrdE_"
      },
      "source": [
        "from sklearn.neighbors import KNeighborsClassifier\n",
        "from sklearn.ensemble import RandomForestClassifier\n",
        "from sklearn.tree import DecisionTreeClassifier\n",
        "from sklearn.linear_model import LogisticRegression\n",
        "#from sklearn.svm import SVC\n",
        "names = [\"Nearest Neighbors\",\"Random Forest\", \"Neural Net\",\"LogReg\"]#,\"SVC\"]\n",
        "\n",
        "classifiers = [\n",
        "    KNeighborsClassifier(3),\n",
        "    RandomForestClassifier(max_depth=5, n_estimators=10, max_features=1),\n",
        "    DecisionTreeClassifier(max_depth=5),\n",
        "    LogisticRegression(penalty='l1',solver='saga', max_iter=10000)]\n",
        "    #SVC(kernel='linear')]\n",
        "\n",
        "for name, clf in zip(names, classifiers):\n",
        "        clf.fit(X_train, y_train)\n",
        "        #print(name,' score:',clf.score(X_test, y_test))\n",
        "        #print(name,' liar score:',clf.score(liar_tfidf, liar[1]))\n",
        "        #print(name,' kaggle score:',clf.score(kaggle_tfidf, kaggle['label']))\n"
      ],
      "id": "hT6WsnMmrdE_",
      "execution_count": null,
      "outputs": []
    },
    {
      "cell_type": "code",
      "metadata": {
        "id": "1igNPpKi6qFn"
      },
      "source": [
        "y_pred = clf.predict(X_test)"
      ],
      "id": "1igNPpKi6qFn",
      "execution_count": null,
      "outputs": []
    },
    {
      "cell_type": "code",
      "metadata": {
        "colab": {
          "base_uri": "https://localhost:8080/"
        },
        "id": "16pQubo06wG5",
        "outputId": "67076b03-994f-4573-8706-a820006c82cb"
      },
      "source": [
        "from sklearn.metrics import classification_report\n",
        "print(classification_report(y_test, y_pred))"
      ],
      "id": "16pQubo06wG5",
      "execution_count": null,
      "outputs": [
        {
          "output_type": "stream",
          "text": [
            "              precision    recall  f1-score   support\n",
            "\n",
            "           0       0.84      0.87      0.85      5387\n",
            "           1       0.75      0.69      0.72      2948\n",
            "\n",
            "    accuracy                           0.81      8335\n",
            "   macro avg       0.79      0.78      0.79      8335\n",
            "weighted avg       0.81      0.81      0.81      8335\n",
            "\n"
          ],
          "name": "stdout"
        }
      ]
    },
    {
      "cell_type": "code",
      "metadata": {
        "id": "OLoE79Ze9DcB"
      },
      "source": [
        "kaggle_challenge=pd.read_csv('/content/drive/MyDrive/Colab Notebooks/Final/kaggle_json_to_csv.csv')"
      ],
      "id": "OLoE79Ze9DcB",
      "execution_count": null,
      "outputs": []
    },
    {
      "cell_type": "code",
      "metadata": {
        "id": "KQgchFWM9VAl"
      },
      "source": [
        "kaggle_challenge['article'] =kaggle_challenge['article'].astype(str)"
      ],
      "id": "KQgchFWM9VAl",
      "execution_count": null,
      "outputs": []
    },
    {
      "cell_type": "code",
      "metadata": {
        "id": "EMkWf1oX9aWZ"
      },
      "source": [
        "kaggle_challenge_tfidf = vect.fit_transform(kaggle_challenge['article'])"
      ],
      "id": "EMkWf1oX9aWZ",
      "execution_count": null,
      "outputs": []
    },
    {
      "cell_type": "code",
      "metadata": {
        "id": "eQr32imJ6VUa"
      },
      "source": [
        "kaggle_challenge['label'] = clf.predict(kaggle_challenge_tfidf)"
      ],
      "id": "eQr32imJ6VUa",
      "execution_count": null,
      "outputs": []
    },
    {
      "cell_type": "code",
      "metadata": {
        "id": "__Vau9Sr9oTQ"
      },
      "source": [
        "kaggle_challenge['label'] = np.where(kaggle_challenge['label']==0, 'FAKE', 'REAL')"
      ],
      "id": "__Vau9Sr9oTQ",
      "execution_count": null,
      "outputs": []
    },
    {
      "cell_type": "code",
      "metadata": {
        "id": "1jO2ofn99waK"
      },
      "source": [
        "res = kaggle_challenge[['id','label']]\n",
        "res.to_csv('res.csv',index=False)"
      ],
      "id": "1jO2ofn99waK",
      "execution_count": null,
      "outputs": []
    },
    {
      "cell_type": "code",
      "metadata": {
        "id": "B67tpBbP97xu"
      },
      "source": [
        ""
      ],
      "id": "B67tpBbP97xu",
      "execution_count": null,
      "outputs": []
    }
  ]
}