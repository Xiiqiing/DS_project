{
  "nbformat": 4,
  "nbformat_minor": 0,
  "metadata": {
    "colab": {
      "name": "wiki.ipynb",
      "provenance": []
    },
    "kernelspec": {
      "name": "python3",
      "display_name": "Python 3",
      "language": "python"
    }
  },
  "cells": [
    {
      "cell_type": "code",
      "metadata": {
        "id": "Tn0Cjtu5HQig"
      },
      "source": [
        "#group 12"
      ],
      "execution_count": null,
      "outputs": []
    },
    {
      "cell_type": "code",
      "metadata": {
        "id": "lpBF9oFQHQjt"
      },
      "source": [
        "import requests\n",
        "from bs4 import BeautifulSoup\n",
        "import codecs\n",
        "import csv\n",
        "import os\n",
        "import re\n",
        "from tqdm.notebook import tqdm\n",
        "import time\n",
        "import pandas as pd\n",
        "#!pip install newspaper3k\n",
        "from newspaper import Article\n",
        "import nltk\n",
        "nltk.download('punkt')"
      ],
      "execution_count": null,
      "outputs": []
    },
    {
      "cell_type": "code",
      "metadata": {
        "colab": {
          "base_uri": "https://localhost:8080/"
        },
        "id": "f1GxSrHxIARl",
        "outputId": "4d2a4535-fb83-4a55-c06f-bbf6ab0ca50b"
      },
      "source": [
        "from google.colab import drive\n",
        "drive.mount('/content/drive')"
      ],
      "execution_count": 2,
      "outputs": [
        {
          "output_type": "stream",
          "text": [
            "Mounted at /content/drive\n"
          ],
          "name": "stdout"
        }
      ]
    },
    {
      "cell_type": "code",
      "metadata": {
        "id": "NMBQEEqC7dbI"
      },
      "source": [
        "# scrape data from the \"Politics and Conflict\" section of the Wikinews "
      ],
      "execution_count": null,
      "outputs": []
    },
    {
      "cell_type": "code",
      "metadata": {
        "id": "k-ntAmkqHQju"
      },
      "source": [
        "url = 'https://en.wikinews.org/wiki/Category:Politics_and_conflicts'"
      ],
      "execution_count": 24,
      "outputs": []
    },
    {
      "cell_type": "code",
      "metadata": {
        "id": "yrjCMUF36QOb"
      },
      "source": [
        "# initilize the home page\n",
        "response = requests.get(url)\n",
        "contents = response.text\n",
        "soup = BeautifulSoup(contents, 'html.parser')\n",
        "current_page = soup.find(id = \"mw-pages\")\n",
        "# regexp of \"next page url\"\n",
        "reg = r\"<a href=\\\"\\/w\\/index\\.php\\?title=Category:Politics_and_conflicts&amp;(pagefrom=[^#]*#mw-pages)\\\" title=\\\"Category:Politics and conflicts\\\">next page</a>\"\n",
        "next_page = re.findall(reg, str(current_page))"
      ],
      "execution_count": 25,
      "outputs": []
    },
    {
      "cell_type": "code",
      "metadata": {
        "id": "-8hlp_8WItfv"
      },
      "source": [
        "# write csv header\n",
        "with codecs.open('/content/drive/MyDrive/Colab Notebooks/Final/news.csv','w', encoding='utf-8') as f:\n",
        "        writer = csv.writer(f)\n",
        "        writer.writerow(['title','scrape_at','url', 'pub_date', 'content','category','keyword','summary'])\n",
        "\n",
        "# collect news\n",
        "while next_page:\n",
        "  soup = BeautifulSoup(contents, 'html.parser')\n",
        "  current_page = soup.find(id = \"mw-pages\")\n",
        "  news_row = []\n",
        "  # find news title start with 'MNOPRSTUVW' in current page\n",
        "  filtered = current_page.findAll(name='a',attrs={\"href\":re.compile(r'^(\\/wiki\\/[\\s\\S]*)')}) #'^(/wiki/[MNOPRSTUVW])')})\n",
        "  if filtered:\n",
        "      for i in filtered:\n",
        "        # news title and url\n",
        "        title = i.get_text()\n",
        "        title_url = 'https://en.wikinews.org'+i['href']\n",
        "        news_page = BeautifulSoup(requests.get(title_url).text, 'html.parser').find(class_=\"mw-parser-output\")\n",
        "        # publish date\n",
        "        pub_date = [i.get('title') for i in news_page.findAll(name='span',attrs={\"id\":re.compile(r'publishDate')})]\n",
        "        pub_date = ''.join(pub_date)\n",
        "        # scrape time\n",
        "        scrape_at = time.strftime(\"%Y.%m.%d %H:%M:%S\", time.localtime())\n",
        "        # category word\n",
        "        cat_word = BeautifulSoup(requests.get(title_url).text, 'html.parser').find(class_=\"catlinks\")\n",
        "        category =[i.get_text() for i in cat_word.findAll(name='a',attrs={\"href\":re.compile(r'(\\/wiki\\/Category:)\\b(?!Jan|Feb|Mar|Apr|May|Jun|Jul|Aug|Sep|Oct|Nov|Dec)[\\s\\S]*[^\"]')})]\n",
        "        category = ','.join(category)\n",
        "        # use newspaper3k and nlp to generate info about news\n",
        "        article = Article(title_url)\n",
        "        article.download()\n",
        "        article.html\n",
        "        article.parse()\n",
        "        article.nlp()\n",
        "        # content\n",
        "        content = article.text\n",
        "        # keyword\n",
        "        key_word = article.keywords\n",
        "        # summary\n",
        "        summary = article.summary\n",
        "        news_row.append([title, scrape_at, title_url, pub_date, content, category, key_word, summary])\n",
        "      with codecs.open('/content/drive/MyDrive/Colab Notebooks/Final/news.csv','a+', encoding='utf-8') as f:\n",
        "        writer = csv.writer(f)\n",
        "        for data in news_row:\n",
        "            writer.writerow(data)\n",
        "  next_page = re.findall(reg, str(current_page))\n",
        "  if next_page:\n",
        "    response = requests.get(\"https://en.wikinews.org/w/index.php?title=Category:Politics_and_conflicts&\" + next_page[0])\n",
        "    contents = response.text\n",
        "  #time.sleep(0.01)"
      ],
      "execution_count": null,
      "outputs": []
    },
    {
      "cell_type": "code",
      "metadata": {
        "id": "yuQDPqj2tppB"
      },
      "source": [
        "# read csv\n",
        "CSV_PATH = '/content/drive/MyDrive/Colab Notebooks/Final/news.csv'\n",
        "df = pd.read_csv(CSV_PATH)\n",
        "#df=df.drop(labels=range(0,10),axis=0)\n",
        "#df=df.reset_index(drop=True)"
      ],
      "execution_count": 5,
      "outputs": []
    },
    {
      "cell_type": "code",
      "metadata": {
        "id": "AkizRwl7UWQS"
      },
      "source": [
        "# add type\n",
        "df['type']='political'\n",
        "# add domain\n",
        "df['domain']='wikinews.org'\n",
        "# add domain\n",
        "df['author']='wikinews'"
      ],
      "execution_count": 7,
      "outputs": []
    },
    {
      "cell_type": "code",
      "metadata": {
        "colab": {
          "base_uri": "https://localhost:8080/",
          "height": 598
        },
        "id": "R1ZL5RpsdpBV",
        "outputId": "b68dfa90-e5f8-4726-a99f-17edf43d44db"
      },
      "source": [
        "df.head(5)"
      ],
      "execution_count": 23,
      "outputs": [
        {
          "output_type": "execute_result",
          "data": {
            "text/html": [
              "<div>\n",
              "<style scoped>\n",
              "    .dataframe tbody tr th:only-of-type {\n",
              "        vertical-align: middle;\n",
              "    }\n",
              "\n",
              "    .dataframe tbody tr th {\n",
              "        vertical-align: top;\n",
              "    }\n",
              "\n",
              "    .dataframe thead th {\n",
              "        text-align: right;\n",
              "    }\n",
              "</style>\n",
              "<table border=\"1\" class=\"dataframe\">\n",
              "  <thead>\n",
              "    <tr style=\"text-align: right;\">\n",
              "      <th></th>\n",
              "      <th>title</th>\n",
              "      <th>scrape_at</th>\n",
              "      <th>url</th>\n",
              "      <th>pub_date</th>\n",
              "      <th>content</th>\n",
              "      <th>category</th>\n",
              "      <th>keyword</th>\n",
              "      <th>summary</th>\n",
              "      <th>type</th>\n",
              "      <th>domain</th>\n",
              "      <th>author</th>\n",
              "    </tr>\n",
              "  </thead>\n",
              "  <tbody>\n",
              "    <tr>\n",
              "      <th>0</th>\n",
              "      <td>Ma Ying-jeou becomes President of Republic of ...</td>\n",
              "      <td>2021.06.01 16:53:08</td>\n",
              "      <td>https://en.wikinews.org/wiki/Ma_Ying-jeou_beco...</td>\n",
              "      <td>2008-05-20</td>\n",
              "      <td>Tuesday, May 20, 2008\\n\\nToday, Ma Ying-jeou w...</td>\n",
              "      <td>Translated news,Published,Archived,Politics an...</td>\n",
              "      <td>['yuan', 'president', 'ma', 'winwin', 'hopes',...</td>\n",
              "      <td>Tuesday, May 20, 2008Today, Ma Ying-jeou was s...</td>\n",
              "      <td>political</td>\n",
              "      <td>wikinews.org</td>\n",
              "      <td>wikinews</td>\n",
              "    </tr>\n",
              "    <tr>\n",
              "      <th>1</th>\n",
              "      <td>Ma Ying-jeou wins 2008 Taiwan presidential ele...</td>\n",
              "      <td>2021.06.01 16:53:08</td>\n",
              "      <td>https://en.wikinews.org/wiki/Ma_Ying-jeou_wins...</td>\n",
              "      <td>2008-03-22</td>\n",
              "      <td>Saturday, March 22, 2008\\n\\n\\n\\n\\n\\nMa Ying-je...</td>\n",
              "      <td>Asia,Politics and conflicts,Taiwan,Published,A...</td>\n",
              "      <td>['taiwan', 'ma', 'wins', 'president', 'ties', ...</td>\n",
              "      <td>The results of the election has been confirmed...</td>\n",
              "      <td>political</td>\n",
              "      <td>wikinews.org</td>\n",
              "      <td>wikinews</td>\n",
              "    </tr>\n",
              "    <tr>\n",
              "      <th>2</th>\n",
              "      <td>Macedonia says compromise with Greece over nam...</td>\n",
              "      <td>2021.06.01 16:53:08</td>\n",
              "      <td>https://en.wikinews.org/wiki/Macedonia_says_co...</td>\n",
              "      <td>2009-10-09</td>\n",
              "      <td>Friday, October 9, 2009\\n\\nMacedonian Presiden...</td>\n",
              "      <td>North Macedonia,Published,Politics and conflic...</td>\n",
              "      <td>['yugoslaviasources', 'greece', 'dispute', 'ma...</td>\n",
              "      <td>Friday, October 9, 2009Macedonian President Gj...</td>\n",
              "      <td>political</td>\n",
              "      <td>wikinews.org</td>\n",
              "      <td>wikinews</td>\n",
              "    </tr>\n",
              "    <tr>\n",
              "      <th>3</th>\n",
              "      <td>Macedonian police kill four militants in mount...</td>\n",
              "      <td>2021.06.01 16:53:09</td>\n",
              "      <td>https://en.wikinews.org/wiki/Macedonian_police...</td>\n",
              "      <td>2007-11-07</td>\n",
              "      <td>Wednesday, November 7, 2007\\n\\nAt least four m...</td>\n",
              "      <td>North Macedonia,Published,Archived,Europe,Crim...</td>\n",
              "      <td>['village', 'told', 'kosovo', 'šar', 'spokesma...</td>\n",
              "      <td>Locals from the village of Brodec, a Šar Mount...</td>\n",
              "      <td>political</td>\n",
              "      <td>wikinews.org</td>\n",
              "      <td>wikinews</td>\n",
              "    </tr>\n",
              "    <tr>\n",
              "      <th>4</th>\n",
              "      <td>Macedonian policeman killed in attack near Kosovo</td>\n",
              "      <td>2021.06.01 16:53:09</td>\n",
              "      <td>https://en.wikinews.org/wiki/Macedonian_police...</td>\n",
              "      <td>2007-10-25</td>\n",
              "      <td>Thursday, October 25, 2007\\n\\nA Macedonian pol...</td>\n",
              "      <td>North Macedonia,Published,Archived,Serbia,Euro...</td>\n",
              "      <td>['village', 'kosovo', 'wounded', 'scene', 'yes...</td>\n",
              "      <td>Thursday, October 25, 2007A Macedonian police ...</td>\n",
              "      <td>political</td>\n",
              "      <td>wikinews.org</td>\n",
              "      <td>wikinews</td>\n",
              "    </tr>\n",
              "  </tbody>\n",
              "</table>\n",
              "</div>"
            ],
            "text/plain": [
              "                                               title  ...    author\n",
              "0  Ma Ying-jeou becomes President of Republic of ...  ...  wikinews\n",
              "1  Ma Ying-jeou wins 2008 Taiwan presidential ele...  ...  wikinews\n",
              "2  Macedonia says compromise with Greece over nam...  ...  wikinews\n",
              "3  Macedonian police kill four militants in mount...  ...  wikinews\n",
              "4  Macedonian policeman killed in attack near Kosovo  ...  wikinews\n",
              "\n",
              "[5 rows x 11 columns]"
            ]
          },
          "metadata": {
            "tags": []
          },
          "execution_count": 23
        }
      ]
    },
    {
      "cell_type": "code",
      "metadata": {
        "id": "uGD5DlAMUZqo"
      },
      "source": [
        "# save to csv\n",
        "df.to_csv('/content/drive/MyDrive/Colab Notebooks/Final/wiki.csv')"
      ],
      "execution_count": 21,
      "outputs": []
    },
    {
      "cell_type": "code",
      "metadata": {
        "id": "IsTndPQugK42"
      },
      "source": [
        ""
      ],
      "execution_count": null,
      "outputs": []
    }
  ]
}