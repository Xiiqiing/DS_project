{
 "cells": [
  {
   "cell_type": "code",
   "execution_count": 41,
   "metadata": {
    "ExecuteTime": {
     "end_time": "2021-04-14T12:11:07.702472Z",
     "start_time": "2021-04-14T12:11:07.493473Z"
    },
    "colab": {
     "base_uri": "https://localhost:8080/",
     "height": 90
    },
    "id": "OFVd6ZaQmuBU",
    "outputId": "341273ed-a73a-4395-f431-48221bbbab8f"
   },
   "outputs": [],
   "source": [
    "import psycopg2\n",
    "from psycopg2.extensions import ISOLATION_LEVEL_AUTOCOMMIT\n",
    "import pandas as pd"
   ]
  },
  {
   "cell_type": "markdown",
   "metadata": {
    "id": "PGsTfX_1VI8Y"
   },
   "source": [
    "## Load Fakenews csv file"
   ]
  },
  {
   "cell_type": "code",
   "execution_count": 42,
   "metadata": {},
   "outputs": [],
   "source": [
    "rootuser = 'admin'\n",
    "your_pwd = '19980903'\n",
    "path_input = '/Volumes/documents/news/data.csv'\n",
    "name_Database = 'm2'"
   ]
  },
  {
   "cell_type": "code",
   "execution_count": 46,
   "metadata": {},
   "outputs": [
    {
     "output_type": "stream",
     "name": "stdout",
     "text": [
      "Database 'm2' created successfully!\n"
     ]
    }
   ],
   "source": [
    "# Connect to PostgreSQL\n",
    "con = psycopg2.connect(database=\"postgres\", user=rootuser, password=your_pwd,host=\"127.0.0.1\",port=\"5432\")\n",
    "con.set_isolation_level(ISOLATION_LEVEL_AUTOCOMMIT)\n",
    "# Create a cursor object using the cursor() method\n",
    "cur = con.cursor()\n",
    "# Setup a database with name wikinews\n",
    "cur.execute(\"DROP DATABASE IF EXISTS \"+name_Database+\";\")\n",
    "cur.execute(\"CREATE DATABASE \"+name_Database+\";\")\n",
    "con.commit()\n",
    "con.close()\n",
    "create schema\n",
    "con = psycopg2.connect(database=name_Database,user=rootuser,password=your_pwd,host='127.0.0.1',port='5432')\n",
    "cur = con.cursor()\n",
    "myschema = 'fakenews'\n",
    "cur.execute(\"create schema \" +myschema+\";\") \n",
    "#cur.execute(\"GRANT ALL PRIVILEGES ON SCHEMA \" +myschema+ \" TO GROUP xq;\") \n",
    "\n",
    "con.commit()\n",
    "con.close()\n",
    "print(\"Database \\'\"+name_Database+\"\\' created successfully!\")"
   ]
  },
  {
   "cell_type": "code",
   "execution_count": 47,
   "metadata": {},
   "outputs": [],
   "source": [
    "con = psycopg2.connect(database=name_Database,user='admin',password=your_pwd,host='127.0.0.1',port='5432')\n",
    "cur = con.cursor()"
   ]
  },
  {
   "cell_type": "code",
   "execution_count": 48,
   "metadata": {},
   "outputs": [],
   "source": [
    "# table name\n",
    "name_table = myschema+'.news'"
   ]
  },
  {
   "cell_type": "code",
   "execution_count": 49,
   "metadata": {},
   "outputs": [
    {
     "output_type": "stream",
     "name": "stdout",
     "text": [
      "Database 'm2' table 'fakenews.news' successfully filled in data from '/Volumes/documents/news/data.csv'!\n"
     ]
    }
   ],
   "source": [
    "# Create a table called 'news' in the database\n",
    "cur.execute('DROP TABLE IF EXISTS '+name_table+';')\n",
    "cur.execute(\"CREATE TABLE \"+name_table+\"(index TEXT,id TEXT,domain TEXT,type TEXT,url TEXT,content TEXT,scraped_at DATE,inserted_at DATE,updated_at DATE,title TEXT,authors TEXT,keywords TEXT,meta_keywords TEXT,meta_description TEXT,tags TEXT,summary TEXT,source TEXT);\")\n",
    "\n",
    "# Copy data from csv file to pSQL this database m2\n",
    "cur.execute(\"COPY \"+name_table+\" FROM \\'\"+path_input+\"\\' DELIMITER ',' CSV HEADER;\") # Or CSV HEADER ENCODING 'UTF8';\n",
    "\n",
    "# Delete news without 'id' attribute\n",
    "cur.execute('DELETE FROM '+name_table+' WHERE id IS NULL')\n",
    "# Delete text in 'id' attribute\n",
    "cur.execute(\"DELETE FROM \"+name_table+\" WHERE id ~* '^[a-zA-Z]|\\d*\\.\\d*'\")\n",
    "# Set integer for id\n",
    "cur.execute(\"ALTER TABLE \"+name_table+\" ALTER COLUMN id TYPE integer USING id::integer\") \n",
    "con.commit()\n",
    "print(\"Database \\'\"+name_Database+\"\\' table \\'\"+name_table+\"\\' successfully filled in data from \\'\"+path_input+\"\\'!\")"
   ]
  },
  {
   "cell_type": "code",
   "execution_count": 50,
   "metadata": {},
   "outputs": [],
   "source": [
    "# Remove duplicate news\n",
    "cur.execute('DELETE FROM '+name_table+' n WHERE n.id = ANY(ARRAY (SELECT id FROM (SELECT row_number() OVER (PARTITION BY authors,domain,title,content,meta_description,meta_keywords,tags), id FROM '+name_table+') t WHERE t.row_number > 1))')"
   ]
  },
  {
   "cell_type": "code",
   "execution_count": 51,
   "metadata": {},
   "outputs": [],
   "source": [
    "con.commit()"
   ]
  },
  {
   "cell_type": "code",
   "execution_count": 58,
   "metadata": {},
   "outputs": [],
   "source": [
    "# Connect to pSQL\n",
    "con = psycopg2.connect(database=name_Database,user='admin',password=your_pwd,host='127.0.0.1',port='5432')\n",
    "cur = con.cursor()"
   ]
  },
  {
   "cell_type": "markdown",
   "metadata": {
    "id": "98BrOJLAcSyd"
   },
   "source": [
    "### **1.1** Creat table `domain`"
   ]
  },
  {
   "cell_type": "code",
   "execution_count": 53,
   "metadata": {
    "colab": {
     "base_uri": "https://localhost:8080/"
    },
    "id": "bTV-1Pywcyun",
    "outputId": "af272e52-2e5c-4156-9718-25d45ed1ed37"
   },
   "outputs": [],
   "source": [
    "# create table domain\n",
    "cur.execute(\"DROP TABLE IF EXISTS fakenews.domain\")\n",
    "cur.execute(\"SELECT id,domain INTO fakenews.domain FROM \"+name_table+\";\")\n",
    "# delete duplicate domains\n",
    "cur.execute('DELETE FROM fakenews.domain d WHERE d.id NOT IN (SELECT MIN(id) FROM fakenews.domain GROUP BY domain)')\n",
    "# drop id\n",
    "cur.execute('ALTER TABLE fakenews.domain DROP COLUMN id')\n",
    "# generate domain_id\n",
    "cur.execute('ALTER TABLE fakenews.domain ADD COLUMN d_id SERIAL UNIQUE')\n",
    "# set domain as Primary key (PK)\n",
    "cur.execute('ALTER TABLE fakenews.domain ADD PRIMARY KEY(d_id)')\n",
    "con.commit()"
   ]
  },
  {
   "cell_type": "markdown",
   "metadata": {},
   "source": [
    "### **1.2** Creat table `URL`"
   ]
  },
  {
   "cell_type": "code",
   "execution_count": 54,
   "metadata": {},
   "outputs": [],
   "source": [
    "# create table URL\n",
    "cur.execute(\"DROP TABLE IF EXISTS fakenews.URL\")\n",
    "cur.execute(\"SELECT id,URL,domain INTO fakenews.URL FROM \"+name_table+\";\")\n",
    "# rename id to url_id\n",
    "cur.execute('ALTER TABLE fakenews.URL RENAME COLUMN id TO url_id')\n",
    "# insert domain_id\n",
    "cur.execute('ALTER TABLE fakenews.URL ADD column d_id integer')\n",
    "cur.execute('UPDATE fakenews.URL SET d_id = fakenews.domain.d_id FROM fakenews.domain WHERE fakenews.URL.domain=fakenews.domain.domain')\n",
    "cur.execute('ALTER TABLE fakenews.URL DROP COLUMN domain')\n",
    "# set url_id as PK\n",
    "cur.execute('ALTER TABLE fakenews.URL ADD PRIMARY KEY (url_id)')\n",
    "con.commit()"
   ]
  },
  {
   "cell_type": "markdown",
   "metadata": {
    "id": "DuBaA-A5caTi"
   },
   "source": [
    "### **1.3** Creat table `date`"
   ]
  },
  {
   "cell_type": "code",
   "execution_count": 55,
   "metadata": {
    "colab": {
     "base_uri": "https://localhost:8080/"
    },
    "id": "cSZBZDEVhsgL",
    "outputId": "0e1498fc-063c-41ca-ad88-e2de31f9d073"
   },
   "outputs": [],
   "source": [
    "# create table date\n",
    "cur.execute(\"DROP TABLE IF EXISTS fakenews.date\")\n",
    "cur.execute(\"SELECT id,scraped_at,inserted_at,updated_at INTO fakenews.date FROM \"+name_table+\";\")\n",
    "# delete duplicate date\n",
    "cur.execute('DELETE FROM fakenews.date d WHERE d.id NOT IN (SELECT MIN(id) FROM fakenews.date GROUP BY scraped_at,inserted_at,updated_at)')\n",
    "# add date_id\n",
    "cur.execute('ALTER TABLE fakenews.date DROP COLUMN id')\n",
    "cur.execute('CREATE SEQUENCE fakenews.date_id')\n",
    "cur.execute(\"ALTER TABLE fakenews.date ADD COLUMN date_id integer NOT NULL DEFAULT NEXTVAL('fakenews.date_id')\")\n",
    "cur.execute('ALTER SEQUENCE fakenews.date_id OWNED BY fakenews.date.date_id')\n",
    "# set date_id as PK\n",
    "cur.execute('ALTER TABLE fakenews.date ADD PRIMARY KEY (date_id)')\n",
    "con.commit()"
   ]
  },
  {
   "cell_type": "markdown",
   "metadata": {
    "id": "-jC_oU8lwfd8"
   },
   "source": [
    "### **1.4** Creat table `article`"
   ]
  },
  {
   "cell_type": "code",
   "execution_count": 56,
   "metadata": {
    "colab": {
     "base_uri": "https://localhost:8080/"
    },
    "id": "A4h2w_w9AFEp",
    "outputId": "37d96226-e7d5-4d1f-97c8-e3342af577ed"
   },
   "outputs": [],
   "source": [
    "# create table article\n",
    "cur.execute(\"DROP TABLE IF EXISTS fakenews.article\")\n",
    "cur.execute(\"SELECT id,title,summary,content,scraped_at,inserted_at,updated_at,meta_keywords,meta_description,tags INTO fakenews.article FROM \"+name_table+\";\")\n",
    "# insert date_id\n",
    "cur.execute('ALTER TABLE fakenews.article ADD column date_id integer')\n",
    "cur.execute('UPDATE fakenews.article SET date_id = fakenews.date.date_id FROM fakenews.date WHERE fakenews.article.scraped_at=fakenews.date.scraped_at AND fakenews.article.inserted_at=fakenews.date.inserted_at AND fakenews.article.updated_at=fakenews.date.updated_at')\n",
    "cur.execute('ALTER TABLE fakenews.article DROP COLUMN scraped_at, DROP COLUMN inserted_at, DROP COLUMN updated_at')\n",
    "# set id as PK\n",
    "cur.execute('ALTER TABLE fakenews.article ADD PRIMARY KEY (id)')\n",
    "# set date_id as foreign key (FK)\n",
    "cur.execute('ALTER TABLE fakenews.article ADD CONSTRAINT fk_date FOREIGN KEY (date_id) REFERENCES fakenews.date(date_id)')\n",
    "con.commit()"
   ]
  },
  {
   "cell_type": "markdown",
   "metadata": {},
   "source": [
    "### **1.5** Creat table `from_where`"
   ]
  },
  {
   "cell_type": "code",
   "execution_count": 59,
   "metadata": {},
   "outputs": [],
   "source": [
    "# create table from_where\n",
    "cur.execute(\"DROP TABLE IF EXISTS fakenews.from_where\")\n",
    "cur.execute(\"SELECT id INTO fakenews.from_where FROM \"+name_table+\";\")\n",
    "cur.execute('ALTER TABLE fakenews.from_where ADD COLUMN url_id integer')\n",
    "cur.execute('UPDATE fakenews.from_where SET url_id=id;')\n",
    "# set FK\n",
    "cur.execute('ALTER TABLE fakenews.from_where ADD CONSTRAINT fk_fromurlid FOREIGN KEY (url_id) REFERENCES fakenews.URL(url_id)')\n",
    "cur.execute('ALTER TABLE fakenews.from_where ADD CONSTRAINT fk_fromartid FOREIGN KEY (id) REFERENCES fakenews.article(id)')\n",
    "con.commit()"
   ]
  },
  {
   "cell_type": "markdown",
   "metadata": {},
   "source": [
    "### **1.6** Creat table `type`"
   ]
  },
  {
   "cell_type": "code",
   "execution_count": 60,
   "metadata": {},
   "outputs": [],
   "source": [
    "# create table type\n",
    "cur.execute(\"DROP TABLE IF EXISTS fakenews.type\")\n",
    "cur.execute(\"SELECT id,type into fakenews.type from \"+name_table+\";\")\n",
    "# delete duplicate type\n",
    "cur.execute('DELETE FROM fakenews.type t WHERE t.id NOT IN (SELECT MIN(id) FROM fakenews.type GROUP BY type)')\n",
    "# add date_id\n",
    "cur.execute('ALTER TABLE fakenews.type DROP COLUMN id')\n",
    "cur.execute('CREATE SEQUENCE fakenews.type_id')\n",
    "cur.execute(\"ALTER TABLE fakenews.type ADD COLUMN type_id integer NOT NULL DEFAULT NEXTVAL('fakenews.type_id')\")\n",
    "cur.execute('ALTER SEQUENCE fakenews.type_id OWNED BY fakenews.type.type_id')\n",
    "# set date_id as PK\n",
    "cur.execute('ALTER TABLE fakenews.type ADD PRIMARY KEY (type_id)')\n",
    "con.commit()"
   ]
  },
  {
   "cell_type": "markdown",
   "metadata": {},
   "source": [
    "### **1.7** Creat table `aut`"
   ]
  },
  {
   "cell_type": "code",
   "execution_count": 61,
   "metadata": {},
   "outputs": [],
   "source": [
    "# create table aut(author)\n",
    "cur.execute(\"DROP TABLE IF EXISTS fakenews.aut\")\n",
    "cur.execute(\"SELECT id,authors INTO fakenews.aut FROM \"+name_table+\";\")\n",
    "# delete dup authors\n",
    "cur.execute('DELETE FROM fakenews.aut a WHERE a.id NOT IN (SELECT MIN(id) FROM fakenews.aut GROUP BY authors)')\n",
    "# drop id\n",
    "cur.execute('ALTER TABLE fakenews.aut DROP COLUMN id')\n",
    "# gen aut_id\n",
    "cur.execute('ALTER TABLE fakenews.aut add COLUMN aut_id SERIAL UNIQUE')\n",
    "# set domain as PK\n",
    "cur.execute('ALTER TABLE fakenews.aut ADD PRIMARY KEY(aut_id)')\n",
    "con.commit()"
   ]
  },
  {
   "cell_type": "markdown",
   "metadata": {},
   "source": [
    "### **1.8** Creat table `w_by`"
   ]
  },
  {
   "cell_type": "code",
   "execution_count": 62,
   "metadata": {},
   "outputs": [],
   "source": [
    "# create table from_where\n",
    "cur.execute(\"DROP TABLE IF EXISTS fakenews.w_by\")\n",
    "cur.execute(\"SELECT id,authors INTO fakenews.w_by FROM \"+name_table+\";\")\n",
    "# insert aut_id\n",
    "cur.execute('ALTER TABLE fakenews.w_by ADD COLUMN aut_id integer')\n",
    "cur.execute('UPDATE fakenews.w_by SET aut_id = fakenews.aut.aut_id FROM fakenews.aut WHERE fakenews.aut.authors=fakenews.w_by.authors')\n",
    "cur.execute('ALTER TABLE fakenews.w_by DROP COLUMN authors')\n",
    "# set FK\n",
    "cur.execute('ALTER TABLE fakenews.w_by ADD CONSTRAINT fk_autid FOREIGN KEY (aut_id) REFERENCES fakenews.aut(aut_id)')\n",
    "cur.execute('ALTER TABLE fakenews.w_by ADD CONSTRAINT fk_artautid FOREIGN KEY (id) REFERENCES fakenews.article(id)')\n",
    "con.commit()"
   ]
  },
  {
   "cell_type": "markdown",
   "metadata": {},
   "source": [
    "### **1.9** Creat table `is_type`"
   ]
  },
  {
   "cell_type": "code",
   "execution_count": 63,
   "metadata": {},
   "outputs": [],
   "source": [
    "# create table from_where\n",
    "cur.execute(\"DROP TABLE IF EXISTS fakenews.is_type\")\n",
    "cur.execute(\"SELECT id,type INTO fakenews.is_type FROM \"+name_table+\";\")\n",
    "# insert type_id\n",
    "cur.execute('ALTER TABLE fakenews.is_type ADD COLUMN type_id integer')\n",
    "cur.execute('UPDATE fakenews.is_type SET type_id=fakenews.type.type_id FROM fakenews.type WHERE fakenews.is_type.type=fakenews.type.type')\n",
    "cur.execute('ALTER TABLE fakenews.is_type DROP COLUMN type')\n",
    "# set FK\n",
    "cur.execute('ALTER TABLE fakenews.is_type ADD CONSTRAINT fk_typeid FOREIGN KEY (type_id) REFERENCES fakenews.type(type_id)')\n",
    "cur.execute('ALTER TABLE fakenews.is_type ADD CONSTRAINT fk_arttypeid FOREIGN KEY (id) REFERENCES fakenews.article(id)')\n",
    "con.commit()"
   ]
  },
  {
   "cell_type": "code",
   "execution_count": null,
   "metadata": {},
   "outputs": [],
   "source": []
  }
 ],
 "metadata": {
  "colab": {
   "name": "Untitled-1.ipynb",
   "provenance": []
  },
  "kernelspec": {
   "name": "python391jvsc74a57bd052e5933d6f953eca2fe39f2930a2887cc2b4481a18543a25ef7ecd3a08721544",
   "display_name": "Python 3.9.1 64-bit ('miniconda3': virtualenv)"
  },
  "language_info": {
   "codemirror_mode": {
    "name": "ipython",
    "version": 3
   },
   "file_extension": ".py",
   "mimetype": "text/x-python",
   "name": "python",
   "nbconvert_exporter": "python",
   "pygments_lexer": "ipython3",
   "version": "3.9.1"
  },
  "toc": {
   "base_numbering": 1,
   "nav_menu": {},
   "number_sections": true,
   "sideBar": true,
   "skip_h1_title": false,
   "title_cell": "Table of Contents",
   "title_sidebar": "Contents",
   "toc_cell": false,
   "toc_position": {},
   "toc_section_display": true,
   "toc_window_display": false
  },
  "varInspector": {
   "cols": {
    "lenName": 16,
    "lenType": 16,
    "lenVar": 40
   },
   "kernels_config": {
    "python": {
     "delete_cmd_postfix": "",
     "delete_cmd_prefix": "del ",
     "library": "var_list.py",
     "varRefreshCmd": "print(var_dic_list())"
    },
    "r": {
     "delete_cmd_postfix": ") ",
     "delete_cmd_prefix": "rm(",
     "library": "var_list.r",
     "varRefreshCmd": "cat(var_dic_list()) "
    }
   },
   "types_to_exclude": [
    "module",
    "function",
    "builtin_function_or_method",
    "instance",
    "_Feature"
   ],
   "window_display": false
  }
 },
 "nbformat": 4,
 "nbformat_minor": 1
}