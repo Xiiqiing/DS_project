{
 "cells": [
  {
   "cell_type": "markdown",
   "metadata": {
    "id": "L0jLXlJnFR_r"
   },
   "source": [
    "# **Milestone 2, GROUP 12**"
   ]
  },
  {
   "cell_type": "markdown",
   "metadata": {
    "id": "1D5TcK9SYps5"
   },
   "source": [
    "*Some settings:*"
   ]
  },
  {
   "cell_type": "code",
   "execution_count": 1,
   "metadata": {
    "ExecuteTime": {
     "end_time": "2021-04-14T12:11:07.702472Z",
     "start_time": "2021-04-14T12:11:07.493473Z"
    },
    "colab": {
     "base_uri": "https://localhost:8080/",
     "height": 90
    },
    "id": "OFVd6ZaQmuBU",
    "outputId": "341273ed-a73a-4395-f431-48221bbbab8f"
   },
   "outputs": [
    {
     "output_type": "display_data",
     "data": {
      "text/plain": "<IPython.core.display.HTML object>",
      "text/html": "<script src='https://cdnjs.cloudflare.com/ajax/libs/mathjax/2.7.3/latest.js?config=default'></script>"
     },
     "metadata": {}
    }
   ],
   "source": [
    "import psycopg2\n",
    "import pandas as pd\n",
    "from IPython.display import HTML, Math\n",
    "display(HTML(\"<script src='https://cdnjs.cloudflare.com/ajax/libs/mathjax/2.7.3/latest.js?config=default'></script>\"))"
   ]
  },
  {
   "cell_type": "code",
   "execution_count": 4,
   "metadata": {
    "colab": {
     "base_uri": "https://localhost:8080/"
    },
    "id": "fM2BuvaTmzBl",
    "outputId": "d54102ba-a78f-4d03-b76f-5fa6bddf5bef"
   },
   "outputs": [
    {
     "name": "stdout",
     "output_type": "stream",
     "text": [
      "ALTER ROLE\n",
      "NOTICE:  database \"m2\" does not exist, skipping\n",
      "DROP DATABASE\n",
      "CREATE DATABASE\n"
     ]
    }
   ],
   "source": [
    "# setup a password `postgres` for username `postgres`\n",
    "!sudo -u postgres psql -U postgres -c \"ALTER USER postgres PASSWORD 'postgres';\"\n",
    "# setup a database with name `m2` to be used\n",
    "!sudo -u postgres psql -U postgres -c 'DROP DATABASE IF EXISTS m2;'\n",
    "!sudo -u postgres psql -U postgres -c 'CREATE DATABASE m2;'"
   ]
  },
  {
   "cell_type": "markdown",
   "metadata": {
    "id": "PGsTfX_1VI8Y"
   },
   "source": [
    "## Task 0 Load csv file\n",
    "\n",
    "We loaded entire csv (`1mio-raw.csv`) to table `news`:\n",
    "\n",
    "```\n",
    "CREATE TABLE news\n",
    "(\n",
    "\tindex TEXT,id TEXT,domain TEXT,type TEXT,url TEXT,content TEXT,\n",
    "\tscraped_at DATE,inserted_at DATE,updated_at DATE,\n",
    "\ttitle TEXT,authors TEXT,keywords TEXT,\n",
    "\tmeta_keywords TEXT,meta_description TEXT,tags TEXT,summary TEXT,source TEXT\n",
    ");\n",
    "```\n",
    "Attribute such as `ID` shoud be `INTEGER NOT NULL` since we decided to set it as PK for futher use, but we found that there are some empty rows and unexpected strings in it. We therefore set it to `TEXT` firstly and changed it back to `INTEGER NOT NULL` and `INTEGER` after loading."
   ]
  },
  {
   "cell_type": "code",
   "execution_count": 3,
   "metadata": {},
   "outputs": [
    {
     "output_type": "stream",
     "name": "stdout",
     "text": [
      "COPY 1000000\n"
     ]
    }
   ],
   "source": [
    "# connect database\n",
    "con = psycopg2.connect(database='postgres', user='postgres',password='postgres',host=\"127.0.0.1\", port=\"5432\")\n",
    "cur = con.cursor()\n",
    "# creat allnews table\n",
    "cur.execute(\"DROP table IF EXISTS news\")\n",
    "cur.execute(\"CREATE TABLE news(index text,id text,domain TEXT,type TEXT,url TEXT,content TEXT,scraped_at DATE,inserted_at DATE,updated_at DATE,title TEXT,authors TEXT,keywords TEXT,meta_keywords TEXT,meta_description TEXT,tags TEXT,summary TEXT,source TEXT)\")\n",
    "# load entire csv\n",
    "cur.execute(\"COPY news FROM '/mnt/d/news/data.csv' DELIMITER ',' CSV HEADER ENCODING 'UTF8'\")\n",
    "# delete NULL rows\n",
    "cur.execute('DELETE FROM news WHERE id IS NULL')\n",
    "# delete strings in ID\n",
    "cur.execute(\"delete FROM news WHERE id ~* '^[a-z]'\") \n",
    "# set INTEGER for ID\n",
    "cur.execute('ALTER TABLE news ALTER COLUMN id TYPE integer USING (id::integer)')\n",
    "con.commit()\n",
    "con.close"
   ]
  },
  {
   "cell_type": "code",
   "execution_count": 4,
   "metadata": {},
   "outputs": [
    {
     "output_type": "stream",
     "name": "stdout",
     "text": [
      "999934 news in total\n904911 news are distinct\n"
     ]
    }
   ],
   "source": [
    "# count news\n",
    "con = psycopg2.connect(database='postgres', user='postgres',password='postgres',host=\"127.0.0.1\", port=\"5432\")\n",
    "cur = con.cursor()\n",
    "cur.execute('select count(id) from news')\n",
    "all_news=cur.fetchall()\n",
    "print(all_news[0][0],'news in total')\n",
    "cur.execute('select distinct(authors,domain,title,content,meta_description,meta_keywords,tags) from news')\n",
    "dis_news=cur.fetchall()\n",
    "print(len(dis_news),'news are distinct')"
   ]
  },
  {
   "cell_type": "markdown",
   "metadata": {
    "id": "o85atPGFNOQB"
   },
   "source": [
    "We loaded 999934 news in total, and there are 904911 distinct news.  \n",
    "\n",
    "\n",
    "Now we delete duplicate news."
   ]
  },
  {
   "cell_type": "code",
   "execution_count": null,
   "metadata": {},
   "outputs": [],
   "source": [
    "# count each type\n",
    "con = psycopg2.connect(database='postgres', user='postgres',password='postgres',host=\"127.0.0.1\", port=\"5432\")\n",
    "cur = con.cursor()\n",
    "cur.execute('select type, count(type) from news group by type order by type')\n",
    "count_type = pd.DataFrame(cur.fetchall(), columns=['type', 'count'])"
   ]
  },
  {
   "cell_type": "code",
   "execution_count": 13,
   "metadata": {},
   "outputs": [
    {
     "output_type": "stream",
     "name": "stdout",
     "text": [
      "95023 dup news are removed\n"
     ]
    }
   ],
   "source": [
    "# remove dup news\n",
    "con = psycopg2.connect(database='postgres', user='postgres',password='postgres',host=\"127.0.0.1\", port=\"5432\")\n",
    "cur = con.cursor()\n",
    "cur.execute('delete from news n where n.id = any(array (select id from (select row_number() over (partition by  authors,domain,title,content,meta_description,meta_keywords,tags), id from news) t where t.row_number > 1))')\n",
    "cur.execute('select count(id) from news')\n",
    "removed_news=cur.fetchall()\n",
    "con.commit()\n",
    "con.close\n",
    "print(all_news[0][0]-removed_news[0][0],'dup news are removed')"
   ]
  },
  {
   "cell_type": "code",
   "execution_count": 14,
   "metadata": {},
   "outputs": [
    {
     "output_type": "execute_result",
     "data": {
      "text/plain": [
       "          type   count  after removed  Subtracted  Subtracted %\n",
       "0         bias  136381         124074       12307      9.023984\n",
       "1    clickbait   21723          20917         806      3.710353\n",
       "2   conspiracy  109793          76658       33135     30.179520\n",
       "3         fake  123929         121772        2157      1.740513\n",
       "4         hate    3619           3567          52      1.436861\n",
       "5      junksci   17408          15029        2379     13.666131\n",
       "6    political  289666         258215       31451     10.857677\n",
       "7     reliable    6601           5417        1184     17.936676\n",
       "8        rumor   46524          46466          58      0.124667\n",
       "9       satire   14263          14252          11      0.077123\n",
       "10     unknown   47413          40765        6648     14.021471\n",
       "11  unreliable  141614         139659        1955      1.380513"
      ],
      "text/html": "<div>\n<style scoped>\n    .dataframe tbody tr th:only-of-type {\n        vertical-align: middle;\n    }\n\n    .dataframe tbody tr th {\n        vertical-align: top;\n    }\n\n    .dataframe thead th {\n        text-align: right;\n    }\n</style>\n<table border=\"1\" class=\"dataframe\">\n  <thead>\n    <tr style=\"text-align: right;\">\n      <th></th>\n      <th>type</th>\n      <th>count</th>\n      <th>after removed</th>\n      <th>Subtracted</th>\n      <th>Subtracted %</th>\n    </tr>\n  </thead>\n  <tbody>\n    <tr>\n      <th>0</th>\n      <td>bias</td>\n      <td>136381</td>\n      <td>124074</td>\n      <td>12307</td>\n      <td>9.023984</td>\n    </tr>\n    <tr>\n      <th>1</th>\n      <td>clickbait</td>\n      <td>21723</td>\n      <td>20917</td>\n      <td>806</td>\n      <td>3.710353</td>\n    </tr>\n    <tr>\n      <th>2</th>\n      <td>conspiracy</td>\n      <td>109793</td>\n      <td>76658</td>\n      <td>33135</td>\n      <td>30.179520</td>\n    </tr>\n    <tr>\n      <th>3</th>\n      <td>fake</td>\n      <td>123929</td>\n      <td>121772</td>\n      <td>2157</td>\n      <td>1.740513</td>\n    </tr>\n    <tr>\n      <th>4</th>\n      <td>hate</td>\n      <td>3619</td>\n      <td>3567</td>\n      <td>52</td>\n      <td>1.436861</td>\n    </tr>\n    <tr>\n      <th>5</th>\n      <td>junksci</td>\n      <td>17408</td>\n      <td>15029</td>\n      <td>2379</td>\n      <td>13.666131</td>\n    </tr>\n    <tr>\n      <th>6</th>\n      <td>political</td>\n      <td>289666</td>\n      <td>258215</td>\n      <td>31451</td>\n      <td>10.857677</td>\n    </tr>\n    <tr>\n      <th>7</th>\n      <td>reliable</td>\n      <td>6601</td>\n      <td>5417</td>\n      <td>1184</td>\n      <td>17.936676</td>\n    </tr>\n    <tr>\n      <th>8</th>\n      <td>rumor</td>\n      <td>46524</td>\n      <td>46466</td>\n      <td>58</td>\n      <td>0.124667</td>\n    </tr>\n    <tr>\n      <th>9</th>\n      <td>satire</td>\n      <td>14263</td>\n      <td>14252</td>\n      <td>11</td>\n      <td>0.077123</td>\n    </tr>\n    <tr>\n      <th>10</th>\n      <td>unknown</td>\n      <td>47413</td>\n      <td>40765</td>\n      <td>6648</td>\n      <td>14.021471</td>\n    </tr>\n    <tr>\n      <th>11</th>\n      <td>unreliable</td>\n      <td>141614</td>\n      <td>139659</td>\n      <td>1955</td>\n      <td>1.380513</td>\n    </tr>\n  </tbody>\n</table>\n</div>"
     },
     "metadata": {},
     "execution_count": 14
    }
   ],
   "source": [
    "# count types after removed dup news\n",
    "con = psycopg2.connect(database='postgres', user='postgres',password='postgres',host=\"127.0.0.1\", port=\"5432\")\n",
    "cur = con.cursor()\n",
    "cur.execute('select type, count(type) from news group by type order by type')\n",
    "count_after = pd.DataFrame(cur.fetchall(), columns=['type', 'after removed'])\n",
    "count_type['after removed']=count_after[['after removed']]\n",
    "count_type['Subtracted']=count_type.apply(lambda x: x['count'] - x['after removed'], axis=1)\n",
    "count_type=count_type.drop(index=12)\n",
    "count_type['Subtracted %']=count_type.apply(lambda x: 100*x['Subtracted']/x['count'], axis=1)\n",
    "count_type"
   ]
  },
  {
   "cell_type": "code",
   "execution_count": null,
   "metadata": {},
   "outputs": [],
   "source": [
    "# 其实重复新闻也不一定是“假新闻”的特征，可能是之前的数据集不够大。"
   ]
  },
  {
   "cell_type": "markdown",
   "metadata": {
    "id": "hGS1tXLmYVvy"
   },
   "source": [
    "## **Task 1**"
   ]
  },
  {
   "cell_type": "code",
   "execution_count": 39,
   "metadata": {
    "colab": {
     "base_uri": "https://localhost:8080/"
    },
    "id": "zuDPwcwVmP3P",
    "outputId": "24437c4e-8db8-4700-ab73-38a2ae9d5e7f"
   },
   "outputs": [
    {
     "output_type": "stream",
     "name": "stdout",
     "text": [
      "One domain only has one type.\n"
     ]
    },
    {
     "output_type": "execute_result",
     "data": {
      "text/plain": [
       "<function connection.close>"
      ]
     },
     "metadata": {},
     "execution_count": 39
    }
   ],
   "source": [
    "# Does one domain only has one type?\n",
    "con = psycopg2.connect(database='postgres', user='postgres',password='postgres',host=\"127.0.0.1\", port=\"5432\")\n",
    "cur = con.cursor()\n",
    "cur.execute('select distinct domain, count(distinct type) from news group by domain having count( distinct type)>1 order by domain')\n",
    "if cur.fetchall()==[]:\n",
    "  print(\"One domain only has one type.\")\n",
    "con.close"
   ]
  },
  {
   "cell_type": "markdown",
   "metadata": {
    "id": "rnJfm1Zy67-J"
   },
   "source": [
    "We found that  \n",
    "1. There are around one million news in dataset, but only 394 distinct doamins and 12 types.    \n",
    "2. One domain only contribuates to one type (unique), but one type has many domains.    \n",
    "3. Three dates (scraped_at,inserted_at,updated_at) are identical since we use `DATE` rather than `TIMESTAMP`.   \n",
    "4. Summary,source,keywords are NULL.\n",
    "\n",
    "So we designed following shcema: \n"
   ]
  },
  {
   "cell_type": "markdown",
   "metadata": {
    "id": "ZuBmVLSSIdtl"
   },
   "source": [
    "![image.png](data:image/png;base64,iVBORw0KGgoAAAANSUhEUgAAAggAAADzCAYAAADjNu6QAAAgAElEQVR4Ae3dB7gkVZk+8GFVXAFBXHYJkmGRoAxBMgwgOecMQ85hkZxZ0pJzUNIgGUmSgyRBECRKXFSCgIKurru6oKy77vk/v7P/Gnp7eu7tvrdDdfV3nqfmTndXnap6q8457/m+9/vOmBQlEAgEAoFAIBAIBAKBOgTG1H2Oj4FAIBAIBAKBQCAQCKQgCPESBAKBQCAQCAQCgcAkCARBmASS+CIQCAQCgUAgEAgEgiDEOxAIBAKBQCAQCAQCkyAQBGESSOKLQCAQCAQCgUAgEAiCEO9AIBAIBAKBQCAQCEyCQBCESSCJLwKBQCAQCAQCgUAgCEK8A4FAIBAIBAKBQCAwCQJBECaBJL4IBAKBQCAQCAQCgSAI8Q4EAoFAIBAIBAKBwCQIBEGYBJL4IhAIBAKBQCAQCASCIMQ7EAgEAoFAIBAIBAKTIBAEYRJI4otAIBAIBAKBQCAQCIIQ70AgEAgEAoFAIBAITIJAEIRJIIkvAoFAIBAIBAKBQCAIQrwDgUAgEAgEAoFAIDAJAkEQJoEkvggEAoFAIBAIBAKBIAjxDgQCgUAgEAh0DYG//OUv6eOPP05//vOf0//8z/907bxxotYRCILQOmZxRCAQCAQCgcAIEXjttdfSt771rXTbbbel3//+9yOsJQ7rBgJBELqBcpwjEAgEAoFAICPw4osvplNPPTVdc8016Xe/+12gUmIEgiCU+OHEpQUCgUAgUGYE/vSnP6WHHnoonXfeeekf//Ef0ymnnJI///u//3v66KOPEjJw9dVXT9y+973vZevBaqutljbeeOPkc5CE8j7hIAjlfTZxZYFAIBAIlBYBGgIE4LjjjksbbLBBWmGFFdK4cePS/vvvn1599dX0y1/+Mn37299OyMAuu+ySDjjggEwOjjrqqDTPPPOkBRZYIP/+/vvvl/YeB/3CgiAM+hsQ9x8IBAKBQIsIEBr+27/9Wzr++OPzoI8QfPjhh+nJJ59MG220UbrrrrvS66+/ni655JK06qqrpgcffHCi3iBcDC2C3cPdgyD0EPw4dSAQCAQC/YpAQRL+8Ic/5IiE//zP/8ykYPvtt0/33Xdf/v+VV16ZNt988/Tcc89ll4N7DYLQP088CEIHntUf//jHdOeddyaN4+233+7AGYavkv/vlVdeSWeeeWa+hv/6r/8a/qDYIxAIBAKBJhFAEN544410xBFHpA033DCtv/76aa211squhttvvz0ThOuuuy7tuuuu6c0330wIhBIEoUmAS7BbEIQOPAShO+ecc0465JBD0o9//OMOnGH4KsUZ//znP08333xz+tWvfpX++7//e/iDYo9AIBAIBJpAoLAeXHDBBWm//fZL3/jGN9LRRx+d9QdrrLFGniBxMdxwww1p7733Tu+9914qJilBEJoAuCS7BEFow4OQ7IM/7tlnn0133HFHevjhh9MxxxzzfwgCq8JLL72U7r///uyf++EPf5gofTU0Yp9f//rX+fif/vSn+fh77703Pf300+k3v/lNeuaZZ5LPjz/+eBb+FJeswWHmziem2Pb8889nVbDffvvb3+ZjERbnf/fdd/M5kJZ77rkn769uJsIogUAgEAg0i4D+RX+y7bbbpssvvzz//z/+4z/SE088kTbddNN09913ZwtCEIRmES3nfkEQ2vBciHO+//3vp/Hjx6d55503/+V3w6pfeOGFTAKwZp8XX3zxrN6l+n300UezcEeYDwKwxRZbpNNOOy2Ler761a+mLbfcMlsAmOjGjh2b1llnnRwupHEiJb/4xS/S2WefnVZaaaU055xzpllnnTXtvPPO6Qc/+EEmCa5JHc7NmjBhwoS09dZbp3/4h3/I9c0444z5MyISGc3a8CJEFYHAgCCgDxKlsPvuu2drqQkPncFFF12UXQy33npr+ud//ueGFgQTJeGQrKzvvPPORMvCgEDXV7cZBKENjwtrPvbYY9Ohhx6a/f0/+tGPsjBnvfXWyzN2BIAZTpwwNS8rgf0PPPDAbBX4l3/5l/Td7343LbPMMunCCy/MzNsMf5999klf//rXc1wx68Tpp5+ez/HWW29lwY/YY4RCHDJLgwa61157pcsuuyyfo54gaJD8hLQRGib/4MEHH5wbKpdEkIQ2vAxRRSAwIAjoM2666aa07LLLpummmy4tt9xy6fzzz8+k4ZZbbsnu1UYWBFbPf/qnf0pTTz11OuOMM/LkZUAg67vbDIIwykfGPUCQKNyHFUCj4W4weBPvIAsaBIKgsdADsDiY5bMM3Hjjjfl3dRD4SBzieK6CQseAqXMXsADw86mvMPEx83Eh0BhwUxx++OHpiiuuyCSjniBg9ywM3ApcDlwNGjTiIeFJEIRRvgxxeCAwQAjoL/RLJib6GpMYVk0TIBMW/ZzJj8+1ExB9jQmKY/z1OUo5EQiCMMrnIlpAprDDDjssNxADNbWu2bnZfWF6Y4qj7NVokAoNiYXAfsQ8yAXzP3eABsMMxxKgDloFOoGrrroqWyEQBNqFDz74ICcakZiE22CPPfbIbghEQJ31BIGvkMXAuV3Dz372s3yOIAijfAni8NIj4H3XjrSZ2AKDqr4DrNXIWLtKEIRRImnAN3BzL2DQjQiC73fbbbeJBKHw3+27774TCYK44Z122imzbZ3ZUARBaBELAD8fhbCUpWKPt9pqq5y1rHBT1BMEWc1YILB+1xkEYZQPPw7vGwS0J++/thFbYFDVd4CVWbKqdpUgCKNE0mDOPcCn9thjj+WZOdJg9s/twMVgIDbDpzPA8AzuXAjM/SwIfm+FINifCY/o8ayzzsrHG/C5IhAVL0kjC0IQhFE+7Di8bxEwIBAIS/sbW2BQ1XdgqaWWyq7tdjXUIAhtQJIv/9xzz83CQwTg5ZdfTttss00WBLIeGMy5GE466aRMGGgFqHi5GB555JGsSxgtQeDqYFGQsIR2IQhCGx5sVFEZBKwXQKDLVRdbYFDVd8CYsuOOO7at3QZBaAOURIKiE7gIVl555Wwt2HPPPfMiJsIcuRSENB500EFpzTXXzGGMwiDFChPx/Ou//mtLFgQaBDqH73znO1m3gDWuu+66OcRIFIO11p03XAxteLhRRSUQEEEktLgdRdvTnuUlYS0crmj/r732Ws5qKrOp9sviV1+Q+osvvjjPAIn3isyD9fvF50BgcgiwVO+www6T+7nl74MgtAzZpAdQ84pOIDQUFSBZksGZZYH1QMFYfUcoSETI3YAc6CiISuQpKCIYCBDpBKRKZoHQUXBliCt+6qmnctSCc4pgUA+LQUEKuDkcx0pBjChc0jU4v06Kf6qIWBAtYV8q5EYd1qR3Gt8EAv2JQDsJgjamPm2Z8HG4UgiKTSJs2qPv6ovoImJnlg5kIdT99QjF5+EQCIIwHELxeyAQCAQCdQjUEwSk2wqEso8KC7YJPUbaDd6sgiKQWAoQexlQbdyHrINi/5lyTQrs22jALy7Bb+pVn40b0ncshz47t5To/hIuB0EokIu/rSLQU4LgpTbTpQg2O44tMKjiOyDUVOw2MWmUaiBQTxCY8Fne5B6RtXSOOebIyc0M+NwGhMB0Q9IG77LLLnkTRkzou+iii6bpp58+LbTQQjlsWF3cCJMrrH/Eyuqz6T+dA/GgVZp99tnT6quvnvOiiEQKgjA5JOP74RDoKUHwUkvdO8MMM6QxY8bEFhhU8h3467/+67T88stnAjxcg4zf+wOBeoIgm6jIBjN4awjQ8yywwAI5oRlXXEEQZDflvuOyKwqdwHbbbZfTnDfjYmhEEH7yk59krQFycM011+SEQddee20OWQ6CUCAdf1tFoKcEQWNYcMEFc5ZAIrjYAoMqvgNmkTPNNFMOW221gcb+5USgniAw79Pw0AsRdc0zzzzps5/97CQEYfz48VlAXGtNagdBeOCBB/K5TLiK1OlEj5KeBUEo5zvUD1fVc4JgUSDCuEaF0I1ClxnOZonPXorfmP0I+8pyPY0wi+/Kh8Dbb7+dc8szARfFAEFEKhyVSTlKfyFQEATiXvoD4l05Q3SoQpSPOuqobOqXEr3WgsAl4D2ojShoB0G46667cpIz6dYJklkZQqTYX+9UGa+21AShkSltKN9cpwFGTpgKmQ9tEgn1krB0+n6j/vYgUE8QzDYNKPzDRx55ZO7I23OmqKVbCBQEQfsnGJRyfO21187RCPQmFlyjLegmQUA+aBBMpEQyBUHo1ttQ3fOUiiAQLQrFwbiZx/jzqHFlCJRamBgHQbCfRD4UwJTCkgPJJIg5K35///33E7+cTSrhoj6fNSBLEmPylMfC8xSzAaSE1UL4n3rV77PrUq99i3r5Gl2H310rwsBE7hjCNANBlECgliB4J7gc5K2wYp1cF+1MZRpodweBgiDoLzxfqcmRAX2GEGDrpBAddosgPPzww3ntFKu1Igbct8InnT9cDN15J6p4llIRBGZXM3QzKyrgJZdcMm277bZpiy22yIpcBEGDNDAjBBTBRDmf//znc0IhZAKBUI/UxMxtQojM0uaee+68URBLLiIZ0Be+8IXcUTP1mgk4Vv4B5sGFF144TTvttNl3fMABB0xcQQypqFUPIwtWWZx11lnTN7/5zWRJ5i996UtZzWyWiFQgHlEGF4GCIAhr844iB4S5f/VXf5X91UEQ+u/dKAiCfkOYoaRlJjHWUTHBEV6oHzBAm4QUIsVGLgZ9lZm/9OpyjeiHhuozGllW1e+a/v7v/z4nR3JOrlDrqgRB6L/3qyxXXCqCQFxz9tlnpxVXXDGnDjbTogymAGdFQBCwc4IcIULMejpd/jc34jgzeA1Wo9tkk00ywWDus74Blo9hH3LIIdmigCiIPz7wwAOzsEf8sZUUJScSz8w/zK+IrFApa7yTIwgzzzxzbuAsD443MzzmmGMyk0cSogwuAgVBMGgQkXmfPv3pT6cpppgiCEKfvhYFQTCQG9ARP5MDmiquBe6GsWPHZpEg6+JQBEH/5NhZZpklT3r0c7UahXqIGhEEEWGsoiYzEeZYj1h8HikCpSEIGgQ3gHAfg6v/M8ciAywFrAEaDqWwgf0rX/lKZuv8f8z+FinClE899dRs8r/kkktyXTKJ2Yf5n2UAo7YgESsEc6CwI+fD+l0D5i0W3zoEiMMSSyyRPvWpT+VBX86GyRGEwoIgqxlzn8FA4pPhYppH+uDiuP5BoCAI4uMNINTtRVgvxXtYEPrnWRZXWhCE4rP+hSVSciJWBJMbkxL5Clgli0RJyIKlgWsnDfq54liuCf3VUNomx9pHXbYiUZLJE9dmkShJ/yYxk2yLXA5D1VncR/wNBGoRKA1B4Ms3Y8e8mexFCzRiykjC4Ycfnv17Xn6NwsBeO3DTJlAGM+eddtpp2eWgEZ544ol5xsYagPXz1a2wwgqZICAGSANiInWxxVisbrjOOuukz3zmM8MShLnmmiuHOGmIGq3wIq4SgiX3EWUwEUBeWbimmWaaNPXUU6cpp5xyIjlAErjRvCuS7Ixmu/HGG0M028VXrCAIBmsuTYM0DdRoN5MQkyKWU9bURhviQffU6rkKHVUXYYpT9TkCpSQI/Hly+hv46zOGWUuAVcDMnzmfaa0dBAHzZgbce++909JLL52OPvrorHO46aabcufObTCUBWHeeefN5ALJCILQ562ijZfPLYVwTjXVVJloskYV1gN/5UdYbLHF0korrTTijWuN60ICHoQ5SucRKAiCvsdkBgksoptG89e7UmhUvDONtjXWWCOTyVbPo39DZqIEAs0iUBqC4MVlZrOKILOrQdbg729tFIOX3OBNAKRRmqEJ6SlWP7Q8JWtAqxYE/jvWA+t60w5wMzDjcV2Y+QVBaPaViv3qEShcDH/3d3+Xha+0BwVJaIeLgemYZma22WbLJLfWfF1/LfG5PQgUBAEhY5HcaKON8sTC5KKsG52EPi1KINAsAqUhCDo1VgMCwnHjxqXrr78+d3b+1ooUuQp8h0WfdNJJ2cfPz3/CCSfkHOjcFNKYEim24mIgbnR+MzGuBToCqxKKeuAzDoLQ7CsV+9UjUBAEg8hyyy2XSUI7CYLzierxvpuBRuKl+ifQ/s8FQdBvIQl0BaxFZd5MuEKH0P53oco1loYgAJn/nkuBINGiJ0R+LpD4sBAp8qMx9WPDohKIDs36DeysBvxyGkKrBAE5wK75/ix0IrqBspgmQtpUWgZCxlqtAz1EEeYYLoYqN5PR3VtBEISd0RmsssoqEy0J7bAguLpC0OudlYcjSmcRKAhCZ88StQcCvUWgVAShEPwQ6RDnGKxpAJABOc6pge1DYCha4IYbbsjhkMcee2xeoASLV/xu9k/Mw21AJMiFQdQorTP3gXoojydMmJDNs8hB4U9ENNSJFDAfym8g6Yjz6+zVa/MZIeHekF7VzE0dIi2omF2334O19/Yl7/XZC4KAXBKt0grQHHBdIcHtiGLwjrGcCe31zhZtodf3XtXzB0Go6pON+6pFoFQEofbC4v+BQFUQqCUI7gmBRH5ZqUQw0L+0o9DicDHQ6CCtUTqHQD1BQM5kbJXB1eSDWJlVksvB5MSExnMuwg1ZfJBF74JJRZRAoIwIlIYgcB2YxetMq7Rxh+gsWDWiDCYC9QQBCvzWrFdcYUS17SgGJgMO3QyLFsIQpTMI1BMEAmvuI2JRFkvP/JRTTkl33313tlSyHnGDsl7q60RgsVBamhlZiBIIlBGB0hAEflMJi+Snr9ImO5pICDOLKIOJQCOCAAkzR4N4O11QSIKUvfJ4yPMRpTMIDEUQZFf0TFkOPGORVkEQOvMcotbOIlAaglCY4GgEqrTRTtAm6CyiDCYCkyMInUKD1sYAJmNolM4gUBAEBOD111/PKd1lymQlYEVgOZRRUTQUTZVQbaHZUsRLrYww1FoQCt2UZG4bbLBB3iIssTPPLmptHoHSEITmLzn2DAT6C4FuEwQmay4GjZvLgVUhSnsRKAiCgd3qsNaFWXPNNbOmhDVUxJOEbqyHPkvzLj08AiDTK9FzLUHgZuJusvYLDYmoLesqmGBI0xwlEOgFAkEQeoF6nHOgEOg2QQCuJGIGGz7uEMG1/3UrCEJRc70GgQARQRCFRag4lIuBwNEicepkfeCeED5tJUhry3h/ogQCvUCgVAQBGyfo47OL9Qt68TrEOTuBQC8IAsvBpZdemtcDsU7AUMsHd+Keq15nOwmCVWxZFlgMJHrzmduCjsTCdCwOUQKBXiBQKoKAacuSqFFg4FECgSog0AuCwK3w0EMPZbN3kba8CliW5R46QRBoGD7/+c9PFGl/7nOfy+sy0JRECQR6gUCpCIJZjyQvVNgWQIkSCFQBgV4QBLiJyz/99NOTxc/8P0r7EGg3QTjjjDOyjsECTJZpLjbWAxbVKIFALxAoDUFgBr311lsnpjkWU8zcRgUspXGRRwCJEL5l9UXxxGZJ999/f458sDaDG+IPFBWh8L/y8TG3Wiaa2c55pGMO8VYvXrnBO2evCIJ3XJZGqZ0NONpLlPYg0E6CIOuliAd5E/Rn+iX9F2tqkbG1PVcdtQQCrSFQGoIgJTH2bGEmy99qLNdee23ODHfJJZfkAR1JIPaR016HJ9kMJbDFlQiCiHosiEOcxaxKz1BYJewjz8L48ePzjArx8HuQhNZemNi7dQR6RRBcqeRj2223XU4XHlaE1p/d5I6oJwgiFY444ogsNDR5YQEtRIoIgJTv+iaRCp6Dz7VRDJaxlwXTBObyyy/PvwmJ1PdJCR8lEOgFAqUhCG6+GMwLF4OGIRZYQ8OohfvceOONuZGJMzZD0sgM+sK6kAyd8d57752uuOKK3Egxcis/ChdSh1Ub1b/vvvvm8xWWiV6AH+ccDAR6SRDk35DNT5vQBoIQt+edqycIlqEX6rjFFltkawANlT6JNZOLQNjjnnvumTd9kkXpTHQ8G/0aUTbSYJIzduzYvHEPhRarPc8rahkZAqUmCB999FGOF2YREGv85ptv5kbFsqDjsyEIQoFYDIpisSULLOkQhXkhCBZvYmIVI851YZEcoUQRAlagFn87hUAvCUJxTxtuuGEW/7K6RRk9AvUEYfQ1Rg2BQPkQKDVBMNsh0jHjRwCwbfHC3AtFKlMEARnA0ItSSxCY7SiD55tvvrTwwgvnZCUSlqy88srZP8vNECUQ6CQCZSAI2gTztTYUZfQIBEEYPYZRQ/kRKDVBAJ/QR8s6X3DBBdlSQKfA7IY8FBYEgkYWAt+xCCANvmNBQCgsrUvTwLfH9eA7iWQs1xz5Fsr/kvb7FZaBILgGrjoZ/dq59kO/P5uRXn8QhJEiF8f1EwKlJwj8c3KX77XXXmmfffbJmca4CWoJgk7vnnvuyQvfEGXxBSIUhENmTNtss032+dEsWG7VMqz8gMXSq/30wOJa+w+BMhAEqMkvQnvD2hYkYXTvURCE0eEXR/cHAqUiCKwF9AUiDkQrMP+b4RMAGeSRBAO772oJAvGPhWkQAgs9IRJCGa2gSB0seoEaWJ2sCieccEIWbdE0hAWhP17Ufr7KshAEIjihwCeffHIsHjbKFyoIwigBjMP7AoFSEQRRCPfee2+aaaaZcopYA7pCBUyIKJdBkUCpliAccsghOYRozJgxycaNwH2gEDpKW7r++uun6aefPs0wwwy5bm6KIAcZovinwwiUhSB43ydMmJCWXnrpbD3r8G1XuvogCJV+vHFz/x+BUhEEIYdcCoSJOtXCgmCmLybY7F/SI6WWIHAnIBNCGG1cEMXgbz/RC+qQcKmo++OPP4789NEMuoJAWQiCm5W2lyVOxtKiLXUFhIqdJAhCxR5o3E5DBEpFEOqvUEgWtwFxlUgGvlMDu1JLEFgWIl64Hr34XBYEykQQuN248dZbb72cjbQsGPXbdbSDIMjLYvVGSz8HWeu3N2AwrrfUBIGoUFrl8847L4ck1sZwW52OlYAmQQgkcWKUQKCMCJSJIGgzrGyrrrpq1umwtkVpHYF2EATvxfHHH5+jqyLLZevPII7oPAKlJgidv/04QyDQeQTKRBDcrdS/hIryIjz11FOdB6CCZ6gnCDAlshYZZfIiSuSdd97JQmkTHSHZErO9+uqrebIjksoWBKGCL0eFbqnnBGGeeebJJk9CxNgCgyq+A7QvX/ziF7NOpgx9h1whNDmbb755FvRGyGPrT6WeINB0XHjhhdmaWe/+5BoVibX77runbbfdNi200EJphx12yKHZQRBaxz6O6B4CPSUIXAYWMJl//vnTHHPMEVtgUMl3AAleaqmlcjKv7jXtoc9EECyFueggM9korSEwUoJAT2V9BpoDuqkgCK3hHnt3F4GeEgSdFI2BZEbEOrEFBlV8B0TfEKIxP5epPPDAAzmzohwhUVpDYKQE4eyzz85h184WGoTWMI+9u49ATwlC9283zhgIBAIFAlT0ooMOP/zwWFK4AKXJvyMlCCJIrFqrBEFoEuzYrWcIBEHoGfRx4kCg9whYPv2II47Iy6r3/mr65wqGIwhyuHAfWCyuVoPAmlQkcQuC0D/Pe1CvNAjCoD75uO9AIKUsnjv33HOzgC7Eis2/Eo0IgnBseVu4ToVdS/l++umnB0FoHtbYs2QIBEEo2QOJywkEuomAwcy6JZtsskkWK8o6GmV4BBoRBKJP0QyywdJWSWl9wAEHBEEYHs7Yo6QIBEEo6YOJywoEuoWAMEwLmB155JE5R0K3ztvP56knCNaIoefYYIMN0qabbpqjQ7bccsu8gma4GPr5SQ/2tQdBGOznH3cfCOToivvuuy8tv/zyORRTnoQoQyNQTxBYXp588smcCwFRsPz8XXfdlfHkbpCx8s4778wRDPQJipwf1pB5/vnn8+9DnzF+DQS6j0AQhO5jHmcMBEqHgMRJa621VrrqqqtyRsDSXWDJLqieIJTs8uJyAoG2IBAEoS0wRiWBQH8jYDZ7ww03pD333DPPaqULjjJ5BIIgTB6b+KU6CARBqM6zjDsJBEaMAELAtbDKKqukCRMmpI8++mjEdQ3CgUEQBuEpxz0GQYh3IBAIBCYiIPXyiSeemDM/Tvwy/jMJAkEQJoEkvqggAkEQKvhQ45YCgZEiQI2/3377ZfV9uBkmj2IQhMljE79UB4EgCNV5lnEngUBbEDj22GPTIYcckhcTakuFFawkCEIFH2rc0iQIBEGYBJL4IhAYbAQefPDBnCZYhsUojRHoBEH48MMP8yqPBKOR1bIx7vFtdxEIgtBdvONsgUDpESBQPOuss9J6661X+mvt1QV2giDIvoiUffe7303IQpRAoNcIBEHo9ROI8wcCJUOA9kBSn7333jv/Ldsy1WWAqxME4amnnkqnnXZa+s53vpOKZEpluNe4hsFFIAjC4D77uPNAYLIISJx08cUXp6233jq99dZbk91vUH+oJwjWtHj22WfT+eefn3SqtksvvTSvwyB8VDZFA/8rr7yS/vCHP6Q///nPeblnazf87Gc/y/tZ2Ek2yw033DA98MADOdPioOIb910OBIIglOM5xFUEAqVCwKD26KOPpnHjxqWHHnooD2qlusAeX0w9QRD98a1vfSvttddeafz48ck6DMjV9ddfn8kBErD77runYrnnP/7xjzk1s/2kW0YuhJcuvvjiafXVV0933313pF/u8TOO06dMdHfYYYe2QTGmbTVFRYFAINBTBFgRrFB48skn55lvTy+mZCevJwgGfhaXRx55JAsMf/e736WDDz44nX322Q1Xc6wnCNw44WIo2UOOywmCEO9AIBAINEaAWPG5557LazQQzkX5BIF6gvDJLyn95S9/SQgAPUHhZhjOghAEoRbB+H9ZEAgXQ1meRFxHIFAyBIgVrUJofQa+dYNclP9FoJ4gfPDBB+m8885La6yxRho7dmxaeOGF0yyzzJLzSTRa7jksCPEm9QMCQRD64SnFNQYCPUKAFuGWW25Jhx9+eBbZ9egySnfagiAUa1jcdNNN6YQTTkiWeraWxSWXXBzf/6YAACAASURBVJI233zzbEVoRBB+//vfp+9973tp3XXXzRqPsCCU7hHHBaXQIMRLEAgEAkMgYAB8//33M0E46aSTsuBuiN0H5qeCINS6E6xj8cMf/jCJaHj33XfTzjvvnPUbtQSBy0FUyHvvvZeuuOKKtNxyy2WiEARhYF6dvrrRsCD01eOKiw0EeoOAge2oo45K999/f28uoGRnLQgCAvXxxx+nyy67LONzwQUXZIvAXXfdlVZbbbUs8nzppZcyYWBh+MY3vpG+/e1vp9tuuy0hXMsss8xEgiCSgQXiuOOOy2mu//SnP5XsruNyBg2BIAiD9sTjfgOBESBgFmyGfNBBB2UR3giqqNQhBUEoburVV19NwsGmm266NMccc+RU1fBCrH70ox9lEvHTn/40bbXVVmnOOedMa6+9djrllFPSTjvtlH7wgx8kLoef/OQn2U0x88wzp4suuij94he/KKqPv4FATxAIgtAT2OOkgUB/ISCxz1VXXZW23XbbJObf50Eu9QSBVuPXv/51Tn70zjvvJGGO1lQw8LMEsDTA7Fe/+lXyO7eN3yVQ8jtXhd8d9/Of/zwfx1URJRDoJQJBEHqJfpw7EOgjBPjXjznmmCTjH5/5IJd6gjDIWMS9VxeBIAgVerZWgJPKlUmTSKqZYsZikRizQqFXUQKBySFgtkutzzwu5HGQZ7hBECb3lsT3VUIgCEKFniax1OWXX579n3K5N1Nef/31rLRmPmYijRIIDIXAj3/847Tmmmtmkd1vf/vboXat9G9BECr9eOPm/j8CQRD6/FUowqyYfCW1ke71+OOPz4u9uDW+Tz5OC8TYx1b4PB1LYc1sLI88q4PvCn9psb+V5fhYowQCfOhI6B577JGzLA4qIkEQBvXJD9Z9B0Ho8+dNXX700UdnZbRFYnbcccd05JFHZoJgoCeSOuOMM9KKK66Y9/nyl7+cF4WRZ5/1ADmYfvrp09/+7d9mlbrvzQzvueeetNBCC+VjNtlkk5wkJ0hCn78sbbh8bqxf/vKXaemll0633nprVue3odq+qyIIQt89srjgESAQBGEEoJXlEAO8jG1mc1dffXXusP3finKytJn5y+omJ7w4bcvNnnvuuZlEiGcXRnXfffel7bbbLu2///55dbniuwMPPDCn173mmmsyoTj22GPTvffeW5Zbj+voIQK0Kocddlh+r6zVMIglCMIgPvXBu+cgCH38zB988MEcS33WWWdlgSHB4TnnnJOOOOKITBC4EuxjlTj6AhoFsdZir83+WArqNQjEZ9wN8u/L+GYweOyxx/Jg4DyDLEzr41elrZfOiiCpj+WLuRtYqgatdIMgvP3221lwTHjcrqLNI3WPP/54DqscxGfXLiwHoZ4gCH36lGkFKMpZB7gDinL77bdnKwGRosYv1loiFpnb5NTXoW+xxRbp5ptvbkgQdPw0DJtuuulEqwRdgxkj4sEq4dxRAoF99tknGSgHMaFPNwjC97///WzFY/lrV5GsSfIm/QbyH225XchWs54gCH36XOkBpGzVUU2OINjn4YcfzmFps802W9YTyPK22GKLpWuvvXayBGHfffdNf/M3f5Mzwsn6ZuNzRhAQDjPIKIGAJaC9f1deeeXAgVFPEBDnQigsCZLZ/29+85usAfJX8iPajdpB2eDMymddBvsjWurwPWsfUu88CDotke+1afXZv9j81qxlr54gaMsEzATO7iFKIFCLQBCEWjT67P86EGb/RgSBXkCHY8GYb37zmzk/go5FSlimYcc2cjGwIFx44YVZsEixXkQy6IR0bmGS7LOXpIOXa0AxgNGwDFqpJwjXX399du9Zr0KeiBlmmCHtvffeebZO3zPTTDOl5ZdfPrv8tCXF3yeffDITdimal1122bxkNFy5Aazl8LnPfS4tssgi2e2nLXIJqtf+xYZAICXNlHqCoE0LcSZsdg9RAoFaBIIg1KLRZ/8Xk25xGDN7nY0ZCjHhfvvtl0mDsEWpcbkV/N8swaxvrbXWyp1BI4JgP6vMIRH0CmYyEikRQ+pIzGCCJPTZi9Khy/Ue3HDDDVngSvQ6SOmX6wkCKwpxsO9Z7Yh7t9lmmzyYEwprdyxzZ599dh7kzdppe3bddde87gLCri0ffPDB+VgDvnaoLVuzgQVCimYRSRZ94l40MdDeRTGpqxn8C4KgThMAkweWSG7IDz74oENvSlTbrwgEQejXJ5dSHvDvvPPOHMVwyCGH5BS4VovTYeiwiRatDkdw6HudQrFO/XXXXZc7BEJEqXPpEu64447cCUmpS4egczKzcKyOSJ3NmjL7GNa49BYQIKAz6NEjfPTRRy0c2d+7NiII2on2xQLAbWCmL4wYwZaF8vzzz88rOCL2iDgSsfnmm+ffHfP888+nM888M68KSVT8yCOPTNQgcAUg+Nogq4MJAbxFIZkgsBgi78OVgiAcfvjhWZNEi+A8+ooogUA9AkEQ6hHps8/8kEyMG264YRYSmg3oNF588cWsFZB2Wcii381wdCRESmYMXA6sCEgGgkCXUPhBkQQrzzlO50/UOEgDQJ+9Bj27XCZqxHL11VcfqHTdjQjCySefnNtXMZgj6toja4DBHSFA0hEEqc1ZA+Bm5Ubti6WPi2K33XbLFgMRSEhFrUhR+9R2WSRuvPHG7ApE5FshCEjIZpttlpeVPu+887LbMcSKPWtCpT5xzwmCF9OslHkstsCgqu9AlTtg2TjNnuXYYJEahNKIINDuINbNEgRWuS984Qtp1llnzYJgAuKxY8dm994bb7yRk50VBIE7h7uPK2PddddNs88+e95oGyQya4UgmDAQKqsLIWFB+PDDDwfhscU9tohATwmCl55pS6eCUccWGFTxHWDWZa2pqnuGeE5iLiI8g80glHYQBJY/pn5aH9FBNlgarJGM2jBH5IALAhFDGrgoaAiEM3MDtkIQ5Dk58cQTc24U7iFuEXVHCQTqEegpQWCyxma33HLL7Ivjj4stMKjiO7D99ttnAlzfAKvw2WDG1cUdVQhiq3BfQ93DaAmCwV1eEqZ+mgKkQISRjKcIAM0CsWNhQRAOScvAnYBYIBN0CieddFJ2AbZCEIo8CISSkqjRIHEvhhVhqCc+mL/1lCBgy0xdBHYU8rEFBlV8B2S3ZD6Wva6qxWBTzIgNVlUvoyUIBnyEgA5BxBAhsU0Ug+gEIkSE4NBDD0077LBDeuihh/IS2yIYfBY6SfPAAkBbJAqiGY1QIVIkTrQ/Cy4tAx1Eld/Pqr+Pnbq/nhMESXgIbhoVfltMml/P5mVu1pfr5SfoMbNpV9EJik/G/M0AGqmGfUcgSEgkbXGUQMA7KGadybgoBohHH300pyzmfuj3wn3CVWiGS/iG/Fe51BMEgytRoTavjxKVoJ/QD5jtm53rw+66664cKQQbfZQB2wSJhYk11UzeseoQtsyiwA0hegGmXAq0C9ZcQRBYAIgfn3766Zx0aTjMhTJ6D5GQImTZNbv2IAjDoTd4v5eaIBCsUeFj2DZiqGb8uEyewq8k/hCn3a6CcDD5rbfeeumFF15omHlMZ8C/h+UPYoa5dmFdpXrqCYKBwXstoY5Bwf+rUsxMDZ5PPPFEVW6p4X3UE4SGO3XxS30loml1V31Tow2BQz4ij0kXH0yfn6qSBKGXg3Qvz93n72JlL7+eIBg8V1hhhZwlz/LcfNBVKcRuBk95NKpcykYQ6BGID+ebb740ZsyYhptoB9aDRpbPKj+ruLeRI1AqgoAFM4FJ/LHyyiunjTfeOGcfkw1QbHBhQZCEhFnN+gDCgqQkPfXUU3NyEqZb/jS/ffGLX0yLL754zjwmCxkGbT/H+N6qhjprxzRTGlkQxDfLarb++uvnevkGXW9YEJpBdDD2qSUI/L0bbLBBTsX7qU99Kr8nVSII8iKwsjGBa2/NugT77U0oG0EIC0K/vUH9cb2lIggGYCI1yUP4MqUBlQlwlVVWSbvssksmCAZkfjirC4q71hlZb0A+eKRBB2XQNzMTdqUevr8333wzrzGAaDDrillGEKiAmXibcV2oA3mZd955s79OkiFK4wMOOCATBNcirSoXxBprrBEuhv5oAx2/yoIgEKFR+otd//SnP52mmGKKyhEEYBLUySCojQnPq2IpG0GoIsZxT71HoDQEAQMmtDGAC/0RV82aIMvfOuusk3OWsyAQKjJjShVsYGct0OmuuOKKOTMYgoBE1OsALEIk77msgM5DcEhd7jvCIH7h4Uo9QdDxE2RtvfXWOUMaIRLBD8LCvxwahOEQHYzfC4Iw11xzpRlnnDF95jOfmWgClq2SAM07O5qNb7ksRbtF9IWryiJIE1S1EgShak807qcRAqUhCAZoKYINrGbpEuYgDUhArUjRIKzTod4Vz2umLquYcMnjjjsuWxAaEQSRElwWrAbCsJAEKyFKMWymQzswXKknCC+//HK2ZCAId999dz48NAjDoThYv/P3IrTTTjttmnLKKbPloNZHvOqqq+b8+96fkW6U8RToLFplMemL0LAoGJ83Ml61EgShak807qcRAn1HEGQdQyCmmWaabJ410JupIxFDEQQx2pZNre2c/V+Ypdhi7o3hShCE4RCK3+sRsAqf/PuW7a1/93yWanfuuedOCy200Ig3wjREg0itLINxYV2zYJE2W7USBKFqTzTupxECpSMIZh0Gey4B7oJ6CwL9AV2BfOR+E9pDezAcQai3IBRhQJKVMIk2o+ydHEHg4qA9UMKC0Og1G9zvai0IU001VbYi1BKFjTbaKIfivv7663kZ4JH8ZW3jprA4kLh5aXh7Xdw3C9vCCy+cdTrNtK9eX3Mr5+8GQdAHCtX2bDtZLB5laWkLS9GMRBhkJ9Hur7pLQxCIBDUIQq4111wz3X777TkqwV+fC5EikyWRIYJgcNeh+jxu3LghLQgIARIh6xjVOJ+t6AONwnlHIlIUGWENd75WyUzUabYk6UmIFPurIXTyagsNAjKwxBJLpM9+9rMTrQmiXdoRxYCYEufuu+++OaueBGO9Lsi7Nkeng8RUqXSDIOjrCJ9rV3PsBIZE3KK75LAwKSuLm6oT9xp1toZAaQiCyzaTL/KTIwrSkIqnFsZYEAQDsPSiwiClJdVQ6Ra+9rWv5c9SlBqomVsN3DQHt956a+6gLEqiw7LJQmYg1yhkRxwJQeDzpYWQ2Yy+gTBS5IUohhAptvYiVnnvgiBwc4nKWWaZZbIlod1RDGbprGkiCOgSeh1BUGSL1Aa16yqVeoJgsiI1Mu2FUFYRVoTWZufFss2eDZdT8Vz8lS3R7F2fdvXVV+fJiueoL9RH6VeETpvg2J++Sr32Lza/tSJSta9jiLS5Z/VZrE9BEKr0hrbnXkpFEKidDfAGcuJBsyu6AhoBZIGJn0jxsccey24G4Y8EgiITDjrooLyPdKTqIdqSwtRgjUggFuKyzWZEPDiWq4KGodk8CMSRhJHbbLNNDrnU0DBu18PXql6ds43fmegySiBQEAQzQhYvHTPTO9FiuywItSgL3TWAGbDKUCzGpv0i1FUp9QTBQKvdWztBDggk0ATEIM+6uNJKK+U+B3mQpp0AmwUSaTCZWHbZZXN+DH2dd4R7Zvz48TmkmgWVtZNVSAgpK5H6hXEvuOCCebEl/VszM38kAzlwHrlg9J/6Ln1oEISqvJ3tu4/SEAR+Ly+4wb3bG+sBkoCcMNU22pABjavVa3NP4dNr3wvbjzXVEgTXTxArPHe22WbLYb20NO0s3mOWCuG2zYTvtvPcjeoyeBpQJ7fmSqNjyv5dI4LAUoIQGMitsWAiIR8Law6LAAsjiyirArJUuE/lUuGOYRmwnLPJhXDuWhcDQuE9Ouqoo/K7w/KgT0IcTISaXc3RcUX0lsmRCRU3K9drEISyv3Xdv77SEAQdmRk6JtztTUPRYUt/KwmSlffqNxYNbJ8psdnrkxNB1sdm3Bfdf/Rxxm4hUE8QkEypcb1P8gW02z+PkMoZwgTNPN1rkmDAZOGTUKwqpRFBYKY3YBvM3bNkbsz3nj/XAFcCAoEgIBDcoEiF58+tYD/vBE2VgZy1oNAgeKbqVQ8CWExqLAblvM0SBH0SVxcLQmFt9a7QUgVBqMrb2b77KA1B0EgM0sxy3d6Y2YgK559//kwMzOzqt0UXXTS7K5j9mr0+WgczObOBKIOLQD1BgATLkkGkmAm2Gx2kgPjsyCOPTJdffnmewbb7HM3WhxBxG3L1VWXFwEYEASF75JFHspXRQG7gNjs38fHZ4M86gCDo7wzSwqyFqErVrg/6+te/ns3+BnIRWwVBKLBGCFgRpOvmPiXOltq9WYJAkM2CUEsGapeADpFigXT8hUBpCAKzq3AeSYuqsukUCSTpJqIMLgKNCEI30EBMma01cgMIM3avimRRBiWz6iqURgRBv4WUIUTNEITTTz89i61ZDAidbQiEFWg9q1oLAosBMukYGgQ4In/cSLLBNksQkBM6rCAIVXgLO38PpSEInb/VOEMg0BsEekUQ3K3ESUzZZqtmt2aIvSgsGtKjU+VzuzGX93MZLUEgmBa1oAM2gy/cB1yYTP6ek+dVWBBopIhOCau5CLgZbDfffHNLGgTCSBYlZKTI/4LUIAy1pKGfn01ce/sQCILQPiyjpkCgIQK9JAjFBZl1mp0ajHpV5GkwwBmgzLD7uYyWIBBCm/VzE1hvxsDNYiBLrEgI1gIEgduCyBMZEI5NU4I02J8WivWBK/Oee+6ZGD45FK6EjZIvCSNnXRJ2iUD6zDoRLoah0Bu834IgDN4zjzvuMgJlIAhU84SCVPK9KjQXRHzLLbdcXtSsV9fRjvOOliBwQwh3FOGw1FJL5fVk5HLxfIRzEy0KdRQyael6pIrlhX5AyKTwxk022SRrHJA/lgSD/3CF9kX9Z555Zl5VlNYKwRBhgXgEQRgOwcH6PQhCzfNmxpP46LbbbkuvvPJKzS/x30Bg5AiUgSC4ekl8DASFKXnkdzSyI5nRX3zxxSzEu+OOO3Ikx8hq6v1R9QTBjN7AyzIi4sAA/9prr+WZvn7FZymwzfpFDyjwQNzM5IWA0mBxL9hXHdxDrAYSLb3xxhs5FNs5WBZYHQgWkQaY0nA1Gy2FBKjHOW3OwbLkO8TFuaMEAhAIglDzHmDgGoykLmKQowQC7UCgLATB+20QEjcvYU8vRIvCO6X1ZUrv54iGeoLQjvdkNHUQQtMoECAWgsf6v1I2exeRgCiBQDMIlIogYMB8czoODJlfjfrZy1+wWsmKvORYtZm+PPZMdUxnzRSsnBCoYM86TJnLsHoMWsOX3Y5frpkVHps5Z+wz2AiUhSB4CtqKd19iHD7vYjbbrSek/WpvW221Vc4L0K8RPmUjCPpNmVtpCYRANtoQM26LZi0N3Xon4jzlRaA0BAEBYJ5jBqV05mOzPDP/WvFSIwE6W/kSpDW2TK4ERshEM8vcMukxp0l9yvcmGZL8BhTe4oP5Ay27O/300ycrNKo3SiAwWgTKRBDci1k8X7b3HhnXLrpdiBXlCBF214+lbAShHzGMay4/AqUhCDopJjLZ1qQgFQZEB8AUihAUqZCJdTBhfjf+O8vbylbWTLpafjyLqFACq9/xEplIf0o8hYVfe+21uePExvkCowQCo0WgbAQBGdeeuBq40/jKu10KxT5hXD+WIAj9+NTimltFoFQEwSBv0RCDs8FbJ8ZPSojDekBIY4BHCJhGfSeWlyugGVOpWGxCIVnKEBIdJYGQ2RT/XGgQWn19Yv9mECgbQSiuuXCpIcjC6LpZtFcWBJEV2ne/lSAI/fbE4npHgkBpCILB3kAv8yCltfheJlBmfwO7wVwctVzmrAbIg+9aKXxvZktWZHTjtk033TQvJR0EoRUkY99WECgrQXAPxLjaG0tCtwsNkbTBEgb1WwmC0G9PLK53JAiUhiC4eAM4ywGBIO0BIZXkHZZTRgj8NesYKUGQE102t1122SXnL7emgqVU/Q2CMJLXJ45pBoEyEwSiQQl7xMIT7Daj5WnmnpvZR5Ie7kOpgokVTRL6pdQTBImNiJ+FO0YJBKqCQGkIgs5B56SB6SyE4vi/vOQWPZFXnlhRgg+din1ZEAgbuRmacTFIKUq/UMSBczMQIvocBKEqr3T57qPMBAFa3HjyEhAHW9lUnHy3CgvhRhttlPVH3TzvaO+vniBwVZ5zzjk5smq0dcfxgUBZECgNQeBGIFwSYihZUUEWhGTRHbAgIAwnnXRSNksSHCIR0pDyoTJXDldqCYLzIRfisVkUgiAMh178PlIEyk4Q3Jcsh9wMFgEiFu5WEfIonbCMgf2kRQiC0K03JM7TSwRKQxAM9kyOBnzLny6//PI5lSjNgaVR/Y4kyHtgFTPpSYU6Wk9dpAMrwnDFPqIg1l577ZyuVMww68Fxxx2XF0BhhZCdzIwGUXn44YeHqzJ+DwSGRaAfCAJrmgGaJsBiQAbubhRWA67D+eabL+c86ZcY/YIgiHTiWpD2eN55583h0dIe+74Qgeqnio07p1j+nSha5sRtttkm/86lyn0qsgNh4/6BDSFncfwFF1yQsyp249nEOQKB0hAEj0JnoTO1TLJZxYQJE7IwsVaQaBAnVvS7TUikYxCI4YpGi2zQIbBKIBYSMcmBIB5bg0QifC/sUVrUKIHAaBHoB4JQ3CMrG4scIS89UDcKfIiFDY4mCf1QCoKA0NA2HXPMMXliwQKjP9GP0FKZzJiAsHxuu+22WUOFFOjTCKa5T62/IOuhOnXINoJtv19xxRW5bpFW9FeezQMPPJCP7wec4hr7G4FSEYSRQskdIQGSxjS5TcfHpRAlEOg2Av1EEGAjkshgddVVV3UFKu337rvvzmJhGVL7oRQEobjWWg0C0iBjJfxYIeVXMbHhBmUNEDlC9+EYlgf7IGNcq8hEQRC4XFkTuD9ptGizCEmFg/eTXqPAKP72HwKVIAjYtoY0duzYyW4YfLfMpv33GsQVdxKBfiMIsDC4mdXLPcKy1o2yyiqrZOsh03vZy1AEobh2ExJWyBdeeCGZoJi8sBYgCNwPBNiiR+RlQSpEQnBPFAQBEWDJYVFVhw3xiARuBcLxt9MIVIIgdBqkqD8QGA0C/UgQzGjNXC3N3C1ibaEhJvR+sCI0QxDoqSzVPGbMmIkbiwGCwM1ATzAUQeA2ta91K4o6uBkilHI0rTGObQWBIAitoBX7BgIjQKAfCYLBySxXZAP/Oq1Op4ssp4TDrH1lL0MRBDN8BIC1gE6KZmokFgTPgDXF+8OFap0aBEE6eOtpRAkEOo1AEIROIxz1DzwC/UgQPLRCSMcvztTd6TUbmNlFFRH2dYOQjObFHIogFNFWu+22W84SKY01N6gcLBLANatBQCoIEosoLtEPCBv3T7cEpKPBKI7tfwSCIPT/M4w7KDkC/UoQwGrQNqAJN7awWadnrsKMpX42mJa51BMEVoJDDz0055GQbIpbxmJYOlgRCHQEZv9cCgZ9wszaKAYDv0RL6nAMQoEgXHjhhVm4WEQx2K/ILFtmfOLaqoFAqQiC5EXCnIQIYeG9LpTDrgmDJzgSKx4lEGgVgX4mCMW90iOwJAj/7WQ7MHBajE1IoFwAZU2/XE8QipwHkq4RGrqP66+/Pu24445p3XXXTQcffHDOsWKgl8tFFEJtHoTNNtsskwvECLEQOul3GS7VWeRBuOaaa7JQsXgu8TcQ6CQCpSIIFNPWXuBjw6B7XfgSqZA1citMRphkr59If56/CgQB8iwIRHYGQ5aFThUzbP57g2FZIxrqCUKrWCA++hdEQhikTbgjkSZLQjOp41s9Z+wfCLSKQKkIgpmJhqJT6GQH1CxIQRCaRSr2GwqBqhAEM3qheePGjcsz3KHueTS/CffjZ19rrbWaypA6mnON9NjREgQEQFZF9/jlL385zTHHHDm7KwuCUMZmEr+N9NrjuECgWQRKRRBYDWQxlCCEm4EpTnY16ZGZ4DbYYINs5hQfXBQuCcImv2255ZY5wYt1Gpo1gzL1ST5ixqIOmwWhZFbkR2RWnXvuuXOWNKbDIk1qcf74GwgMh0BVCIJBS9uiRzBAcr11oiDm/O/rrLNO9tebNJStjJYguEdEiNWAG8GaM/o9VlQ4t7qUfdnwieupBgKlIgg6HAIlCUV0RDK67b333jn72D777JNzlm+99dY5KZJOw+B+yy23ZJ8dP52bsTFRDqfy1QBZKWQvY9JzHIWxNRjUZaYkVElK5oUXXjh/x81AkRwlEGgFgaoQBPeszWkXBx54YHYFdiomH/E3CNu6lYehlWc6WoLQyrli30CgVwj0BUGg/mWS01FYfVG6UkybyVMuc75Roh7+POlLbdj5UAVBwOKRkKuvvjpbDFgddHjyqSMGb731VmgQhgIxfmsKgSoRBDesnVimuRAtdmKGL60wSyGLHmJeBtFy7cMOglCLRvy/qgiUniAgBBZkMpgjCRZAOeWUUzJBkM/8hBNOyC4IhMHvog5aMdHZ1zE6OVYHnbmFUy666KIgCFV967t8X1UjCAV82iKSwEXXiWgDJMFKh6IatO8ylSAIZXoacS2dQqD0BIGqlxaBO6CWIBQ6A0utsiIsueSSaZFFFskWBh2ygb+ZIg+6ECQiIdtss82WvvrVr+aY5bAgNINg7DMcAlUlCCx24vS55rTHdpMElgqTgwMOOCBb+YbDuZu/B0HoJtpxrl4hUHqCQJPwzDPPNCQIxewfSWCGFKtNT0ABLRRrqMLFIFrC7ISVwmJP9AzcDTKghYthKPTit1YQqCpBgIF7Y0mgDWp3SKI2ykq43377ZUtFp5M0tfJMu00QuFjopawI+corr7RyqZPdF6EjBtfv6T9ZUqMEArUI9C1BKDQIBIkIAheEPAVip7kHhksLq3GISEAO5H63v1XrpHgliBTJEBaE2lcl/j9SBKpMEGDy4osvZpEvku1e210QEFZC1oSylG4TBORLpINMijJbtqOYYLH8cNnCYLiUTgAAGztJREFUmIU2SiBQi0DfEgQJjN57773cYDQaWcsKC4K15YkWhyqFBYHFgYuhsCCwPowfPz6nekVCNKBdd901WxQst1o2sdRQ9xi/lQOBqhMEkQ3aBr3AddddN2zba/WpmABo4yIntD9tt9elEUGgY4KDgdzmurlhFC5SGicC6kYhjforkxQTFOGOyJD0zcTW7rnI1CjKymAuJNwkB3FgYdXnyavg/CZLfqPh8O5J/WwjLGUpcF1+s/lO/8aNw0Lh2DLg2+vnG+f/XwRKRRAMxgZq6VyFOXmZfTZD0cA0NlkWWQhEG2DAcrcb0OkHRqJB0CjkRy+O51MV540oICFMcIRY8jDIyVAmM2e8xP2BQNUJgqfAPG2wEQEkRLjd5mquv8033zwPos3mOOnk21FPEAysjz/+eNZjzD777FnLZNEp+VRcL3Jg0F9iiSXSrLPOmpNN6Wf0L37nOjj88MPzYL3KKqukOeecM6299tp54oMMwHahhRZK008/fdpwww3TnXfemTEW6bHTTjvlUOxFF1007bHHHomuCv5IBRfqRhttlOv9yle+kvVVnhGSgHwII59//vnz8e4JyWlWv9VJfKPuciBQKoLgxcSWNTb/99dn5ACrtXED+M7vPmtcWLQXeyRRDOrGpIvj1W1G5DzOgYn7jJz4zecogUArCAwCQYCHtjhhwoQcWWRAa2cxszagGnTLkKysniAYcE1mLr744jzwGpyPOuqorGliiXzwwQfT0ksvnXO82Fd4tc63yJyIIFjq2ndcm5Z3NvCrQ34Y/ZPJkagtEyd9lgnMVlttlcO8hYAjKPBRB52C8zpepkZWCfVecMEF2RLDFet52c8EiOZKBkf9W1gQ2vnm9nddpSII7YRSY7HoSbHISf3fNddcM/vyIvFRO1GPuhohMCgEwb0bZKxcaGCSUAnJbkcxIDKjL7bYYnmG3K56R3pt9QSB0A9BoIlybQZfAzILQWEBMJgjOmb3Bneze5bJl19+OVtNDe4smCZGCAFCZHEnrod6DYLfDfryRDinCQzsuS+4elgWHOd453j33XfzBMe+3DVXXnllvs7QIIz0DRiM4ypLELz4GsvZZ5/dcMOkMWzWgSiBQCcRGCSCAEczXm5A6cu55No1mJvtSqfO/TecxqiTz1PdBUEorJj6E4OxFNH1xeDMRcKVyfzPainJm/6JuwBpoJ+SMt536mStRDgQhkYEgcvCvgsssEAmAFwFLBDwWWmllbKVgXvj0ksvzRorEyHPoVhCOghC/VOKz40QqCxBaHSz8V0g0AsEBo0gwPjZZ59NO++8c56ptku3I+SRGHn77bfPortePMvinLUEwYyfiV7kUyOCQE8l22stQXAvNAkbb7xxFhYWAmsixlYIwoILLphWXnnltP7662drAmvB/vvvn3PHsOAgAlwIJkLcB0EQiicYf5tBIAhCMyjFPoHAKBAYRIJg0DTjX2qppXKmxXaJFumMJDKzqBudUK9KQRCK8/Ppn3feedltaSA2Wxd27XqJAYkKRSDAxHV7JyxCZ2A303c/IqqaJQh0GHQNrAbImDq5NVgKuBpYIFhRgyAUTyj+jgSBIAgjQS2OCQRaQGAQCQJ4kIJ77rknK+sNkO0oBj7ZVa3PIgKpV6WeIEg37bosNOe+kQNRCVwPBIdCEOknRGjRJCACXDDHHHNMJhBEiq0QBISA2HGTTTbJVhUuF+8ZkSSrBEsB10QQhF69IdU4bxCEajzHuIsSIzCoBMFM2gyaGI9/3dLGoy3qpHHYcccdc72jrW+kx9cTBISAFcBKsCussEJabrnlcsgnsTQBISuCCI/VVlstRzMQF4pIIFZEeoYjCFwE6hKyyBJBoMhaIKJBYjei61VXXTW7X5AxVgR6h6EIAixpISSKI2xEUNTp+yiBAAQqTxCY+iigxWbLmUDcM9rClMevqiFKTNJLU+do7yWO7zwCg0oQCmSJgc2k+ejNekdbuC8o/g2wyEIvSj1BcA20BnfcccdEUbRER4iDos9AElgYCKeJFrkGihBu7gBiRfldaBB8z/VgU4fPBn0khBUCsdC3iWZgpZE8CRGja7C/8yFn8GZpKc7D0qBO3xdaBxEPwi5laERWgiD04o0q5zkrTxA0FKRAtjCK4OHWaGjmMWlE4o4lHNFYhSBFCQQmh8CgEwS4WHANQbDxnxvcRlOY7A3STOq9KI0IQi+uI84ZCHQSgVIRBAOvuGEM2CwBwzX757NjpjPY61ywYDN4LFqWRczdfkXBgJECMxdsWZwxk2QrBMH5MXYWgmKT2pmpD2snEGJOJEwS7zzaDq+49vhbPQSCIPzvMzVDtRCaWbA2NJqiH7CGgMyBzOL6im6WIAjdRDvO1SsESkUQmAut3sgMJ3YYIWD+kiec/xIpkE2M+Of000/PaUunnnrqtO222/6f8CJEQ1rkZZZZJs0888w5vGi99dZriSAw9RFCjRkzZuJmVTlkg+hojTXWyGlPZSlzzaPt8Hr1AsR5O49AEIRPMEbYp5hiiky6P/l2ZP+7+eabs9CPWV9f0c0SBKGbaMe5eoVAXxIEIh2z90cffTRnV6MEJoLi41OY/ZEIscmPPfZY9gvKQ37sscc25WJARAiKDj300KwzQAj495zHYjR+DwtCr17Z/jtvEIRPnhm/uPbJ5Scz4mgKd6GETCYItRbE0dTZ7LFBEJpFKvbrZwT6kiBIBELoo7PhemBVYG4kQuQaQBb8Tpwj5IhrwIJO3AHNaBB0NkQ8VkBTP/MlS4Z6WSacNzQI/fzad/fagyB8gnchrJN1kBVwNEsXsxRS8Qvr0z67SRKCIHzyTON/1UWgLwkC9bKc4oVZUSehw2Fq5I+0fLMUo8iADoluQDYxIT/NEASPG6mgDi5SNVvXYa+99gqCUN220LE7C4IwKbQIuFTCRIvi9UdauCVZBrVvWqRulSAI3UI6ztNLBEpNEFgDhArJMy7ut9Ag0AaICUYQCBKFG5rdC/EhXhIXLOxnpATBTERdhI3imS309LWvfS2nMg0LQi9f1/48dxCExs9N20YQkPCRRjaYEDzyyCNp9dVXz32CPqMbZSiCwOJoYkLHZGNx7EXRN9JG6QddQwipe/EU+vucpSYI3AOsA9aB5/MvCMLRRx+dFyrRGchBwMXgO0Sh3lowEguCGY3kIUcccUTuuDQ0ec11ZEEQ+vuF78XVB0GYPOoyCtIQyETInTeSIvKJaFhugW4t4jQUQdBf6IdMWizn3Gh9hpHcZ6vH6B+5cIRjm1BFOHarCMb+pSMITIUHHXTQxKQhsnvNO++8mSgUBIFFgZsBOxYCyZdZrJuucRJBiSyQnUzIJJHhkksumc2QzbgYagmC4zV2FglRDEEQotG0ikAQhMkjhhSIULJmA83PSJKOGfis8CjaieuxG6UfCAJLBmyIt/3ttQXBAlWsRly3SJ0JmIWmxo4dmzdRZ54fazFxufDxonAfS3YnoZMwWVkiaVCidBaBUhEEuQu8HEz71k4XRYD9WhLVi1MQhH333TeTiO222y7nIrefxCkFQ/ZiiWDYaaedcogjFm+Vs2bzIHiRhVpuvfXWeXajfqZQ2gYZ4ZAGxOTAAw/M7gwvLWtHlECgEQJBEBqh8sl32hPNkM5oJLNtA5/2aPVIiZPU1+nSiCAIgSaEluvBxMZEhiXSPZm4mNGbtOhPrEgpKkquFqRIpkNWSqtV6uscJ8eD+rhQRE9ZmMkxPpu0IADqNODKLKlO57RyJA2V32g0DKjOA6O77rorXXLJJdkaan+bcFEplztdZIp0b3LXuD7XbHJn0qW/ZQHSVliTXKeJGhJAgMrlK9kW7QqSgTDop6N0FoFSEQSNhC/Si8IioJEZfDUqLziLAXeCF8uM3ozBDdxyyy3/5wWnTfAyOV6DspSqtdNZEpCQ4Yrr8BILbXQOERJMdRqivzQKNtdmH2ZSDTZKINAIgSAIjVD55DuDJ3KvXWuz2t5IinbKctiONR+GO389QaA10CdZ0pkGyoRiyy23zLNkBMH9ibIy4THQm7yYCFngScI3lhSTHFZK1lEEQSi3iZL6zjjjjLyMM3cMjKRmNniqmyZLZJf9imNgoK+rdTFYSVK/KkycS9b+9FUE2AbdTloYaEX0n67LvbJqcNl61oXYvMDcNSMICAWLL8uBZHV0FPaVwA7JQX7CilCg1pm/pSIIw91ioTdgEXjmmWcy6x7umNrfHS8Bk/BHLLx+Y9bCUL3MOq0ogUA7EAiC0ByKZowGR9a/IqdJc0f+717WNjDwiWowmCDxLHud2JAZCy4VxYAm9worpUmOfsZs3ncGX7N3x7g+rhRaCa5QCzuZALlfBEGklEmNQdAAqIO2EJOB1QSJhaSYsCAdLA6is/Rb+jeJqFwXi4OojnqCYAVJ10WTYH/WBhYNEy+fO1W4BNyvPtYgDw/kiGuIVQFG9nEN+uViYuj6HFdr4dA/IwgIV1gROvXE/rfeviMIXhYdCHZppt9K0eg04EUWWSRNN910k2yzzjprZuA6mnpW28p5Yt9AoBaBIAi1aAz9f2Jks2euvJG0wZNPPjltuummebBlmjYYd2KT6MlAzMxvYyJ3zbUuEgO3/sagyALqGKZx/ZC+i0uCG4HlARlAEMzm9XEGf4Oo31gIiigP1lDhoQZ+5zXrR4QQIoMlKykLgToaEQQEBUYIjGsw0TLh6jRBcF2IUNG3srjITTPXXHPlfnj++efP1hVEiZuZ2wG5WnvttXNCLW4j96vAxv0hFjCK0jkE+oogeEG8HBoDplm8MM3Co0E4lv9Lp12/aVCY6kjqbvYaYr/BQyAIQvPPnMnYIEqo7G+r2h76I4Pq0ksvnVZaaaUsgiOEa/dmYCsIgmvmUhC10IggmBGb0KyzzjrZHYog6LtcK2uBwbAgCAZwM2N1DkcQECjvFk3WoosumuaYY470pS99KU0zzTQ5w2QjgoBsyD6JcHSTIIhGQ4BYCQoLAksI96zvEBYkwDUhP36jT5Atl1uGi6FwJ/gLI1YGCeuidA6BUhAE5iKMMrbAoIrvAPPptNNOmzu+zjXl6tRMjEwzxN9uYG2FJBDmGWzMLs1EO7UR9xUEwSxeH8ay2YggGOS4T4iqzaIRBMf4Tgdc+NMNoAgD/dRwBIHLgcXAOZnq1UFsaPCXE+Kaa65paEEw8CJQJkrdJAhwQfgKzcFwGgQWDcQKkUEuuBqQBNfMYiKkHV5IUJTOIdBTgkCssu6662ZhD79hbIFBFd8BZmNhfMyrUZpDwADCPK+D4lcvW6kXKZoJF6Z6AxiBIGuAwZu/H/FlFSHMIxY0WzbwsSoQ4fm9FYKA+LAwwIdrgwVCf+r7xRdfPLs8GlkQekUQXB8CgyyzIAxHEIooBkQKlggPvQWthfvk0mFpQCajdA6BnhIEpnwRC3xNzGSxBQZVfAdEwvAb6xSjNI+AgVaosUghPvwylXqCYDAWXYAE6NOEFoooQBLMns2ECQe9C/Yz4xdRwKpAI0GA2ApBYEHgDmWGF37t/WJ1YUHgz0eumO7rRYq9IggGctYT1806giCxKHCRsArUFtoM2giu4KIgiawGrCsIAysIiwKXc5TOIdBTgtC524qaA4FAoN8REEkkzA1pNDtnFi9LqScIrosrQQ4ES8AjNkITkQICPfdiYOQSoIegFyDAMxByoZhVG8ytKcOtYvIkmZCZs8HevZtNGySZ20Vi2ce+6inqU7/NbNus3X5F1JdwSgSC+d4s3MDM5G+wNXhzz3SysKSwcLivkRaEgO7APYymnpGef9COC4IwaE887jcQ6CMEDGLMzSIbDJRlKY0IglwoZsqsCQYvVgMDMWJAlIgksBQUImkWJb/53u+Od0whknbvjncMcmAfVhVhfkWd9lWPmbi/9rU5zoBvP3X66zOi4bfinI73nYFX/Z0s3CjcKkjOSAuSgyBx14X1YKQoNn9cEITmsYo9A4FAoAcIMCmb4RLwIQutiBY7dbmNCEKnzlWVepEUAs3RhCYiR6I//K13TVQFpzLdRxCEMj2NuJZAIBBoiIDZJ3O9jIGtRjY0rHCUXwZBGCWAcXhfIBAEoS8eU1xkIBAIMN1bzE0sPzU7s3uvShCEXiEf5+0mAkEQuol2nCsQCARGhQC/s9Doyy+/vGtLOze64CAIjVCJ76qGQBCEqj3RuJ9AoMIIENdxNwgPtNJhr0oQhF4hH+ftJgJBELqJdpwrEAgERo0AcRolvIWdJMzpRQmC0AvU45zdRiAIQrcRj/MFAoHAqBGQZlisv0yF0ip3W9E+FEEQLiivgZh/i08JQWym0Fg4RgIg4YftKCIGXEORb6G2TtcpIkQWSEsxW2EySiBQi0AQhFo04v+BQCDQNwi88cYbOSb+iCOOyKJFYXTdKkMRBG4QOQ0s3iRJUe36DENdn6RGjrFiY7ti/LljhIa6BjkUaovrlCPhxBNPzBkfX3rppdqf2/5/olJhjhIdyaQoMRSSxwpkk4ESmbKP9TRqEyHJ8UCYKg+C7yXQgnGUziIQBKGz+EbtgUAg0EEEZAu0foeUwwhDtyIbGhGEIkZfWmDXJeJCamODs9k6K4eBz1oMrAQGPIMda4PB20AujNO9sCZIbGQzYNrf5h4lQjK4N1MMoo4vVkp0nOs0wKoPKTjyyCO7QhCQHqswXnXVVRmDnXfeOS2zzDJp4YUXTmPHjs3/Zw2SThkWCITrhY001BMmTMirYVrGW4ZJpKFZHJrBKvaZFIEgCJNiEt8EAoFAHyFgoFh++eXzokdcD90ojQiCLIEbbbRRmnrqqdPGG2+cttxyy+wCQRCQAwmfdt111zTLLLOkMWPGpDnnnDP/jiTYx+qVvp9qqqnyok7IBAuAsE7f26zUaJnjZl0QyAqSYkBFEhAOg+16662XppxyypwSepNNNukKQbCehnTL8lh4ZhauKlZ3rH1mVrksCAKrEMJgoSekS5EJUjZFn8OKUItc+/8fBKH9mEaNgUAg0EUEDL4WJtp0003TlVde2ZUz1xMEg5iFmczGLVNs22qrrfLiTWbNBnqWDoMiImHdBotQIRQGTbP8eguClMxmzYceemhe2Mh+Uk6rRx3NlHqCYLEkug11ICV33313XlFSVEgnXQyIiXO5R1qHZggCXQSycNlll2W3ROFCQgpYF9TFEhKlcwgEQegctlFzIBAIdBGBiy++OJv1ZVw0K+/kZtXGDTbYYOLdmeHy5dMPEP7x7XMxGNAN7NwCxIIG4WI9BIP1hhtumFc49F29BsHgTsOgDpYRVoP7778/nXzyyTkPBNfEcOsn1BIE60RY5Mh1igIxaCMhhx12WLIkeScJAvfCTTfdlImOe3VeK1vuscceeTEuabRZRuDEBXPLLbfkMFbWD88VoSiK63at7oUFIkrnEAiC0Dlso+ZAIBDoIgKWPyZ0M4uXI8HiTp3a1llnnUwQCm2BFREt42xWXhTWDOf3ncGclcDAR5BnuWdWiDXXXDNHLjQiCGbJBlGuB/uzJnA37LXXXlnMaNBthSAYlC0LbdA1wDrWrNwMnWWjkwQBOUGeWD5YAFzLfvvtl++N9cJAZMBHrBCESy+9NFtOhLJanZKwsXCrsBixyMCRHqFbupPiuQ7S3yAIg/S0414DgYojwD9d+Nj51ju1LbjgghMJgoHLMs3EhY0IAgsC/QErw7hx49JCCy2UhXnEeUsuuWS2CkyOIIwfPz4v5UzEV2wySRroiQ1bIQiEjywSLBvdJgj0FAiCME54DedigCfLCVEmgsCdoA5kwIZwyKb5xBNPZPJV8de6Z7cXBKFn0MeJA4FAoF8RqNcg1FoLinsqvqNHeO6559Iaa6yRSQJLglk03QIhI0vB5AgCImBgHWmpdTHw/ddaC7ppQeA6cB8GepaP4QiC/eCCDBBXsnrcfvvt+VjWGIJHQkW4RukcAkEQOodt1BwIBAIVRaCeIDB1E/+Z7RrQzNZ32223bCZvRBCI67hBhrIg2Ifpn/iRSZ5pnQbB7Fr+ADPxViwIrBh0D3ItcInQSrAkEFPusMMOHXUxIEQsKAZ5+DRLENyf+2aFueiii3IdLCdPP/10JhxCRaN0DoEgCJ3DNmoOBAKBiiJQTxD4zsX377LLLnmdCDoInavBuIhiYNrn8thiiy2S5E5+Ew5ptkyESHCnXqGMFP9IwWOPPZYjDuzHV2/jyhAqaHbdCkEwMLMiEHG6zu233z4LFnfcccdEJNhJDYJrRaIINbkNkBODO9zqcxmwNnAnEJkWxX72ZzlAEAgaWWDoTqJ0DoEgCJ3DNmoOBAKBiiJQTxDcprh8fnERDsSJBnmaBNkBDYjSHTtOp+t3s3lmd6I82oki1PHggw/O5nUDpYFR8iDH2JADfvci5G84eOtTLZuNCx0kAjzwwAMzqTHYmqF3OtWyAR9Zcj+uv54YDHcvfocjgoGMvfXWW6E/aAa0UewTBGEU4MWhgUAgMJgINCII3UTCQCn3g3wKRd6F+r9m2/YrS6EdYKVAnFgBRkIQECYZIFkiWESidBaBIAidxTdqDwQCgQoi0GuCYPDnpphxxhnTdNNN13CTYMlsO0ogMFIEgiCMFLk4LhAIBAYWgV4TBLPxQgzJhdFoI0q0X5RAYKQIBEEYKXJxXCAQCAwsAggCMaGEPbEFBlV9B3baaacc4dKuhj6mXRVFPYFAIBAIlBUB6X/XXnvtHGFgXYPYAoMqvgObbbZZfrfb1Q6DILQLyagnEAgESouASAKhgfIHxBYYVPUdsE6HzKTtKkEQ2oVk1BMIBAKBQCAQCFQIgSAIFXqYcSuBQCAQCAQCgUC7EAiC0C4ko55AIBAIBAKBQKBCCARBqNDDjFsJBAKBQCAQCATahUAQhHYhGfUEAoFAIBAIBAIVQiAIQoUeZtxKIBAIBAKBQCDQLgSCILQLyagnEAgEAoFAIBCoEAJBECr0MONWAoFAIBAIBAKBdiEQBKFdSEY9gUAgEAgEAoFAhRAIglChhxm3EggEAoFAIBAItAuBIAjtQjLqCQQCgUAgEAgEKoRAEIQKPcy4lUAgEAgEAoFAoF0IBEFoF5JRTyAQCAQCgUAgUCEEgiBU6GHGrQQCgUAgEAgEAu1CIAhCu5CMegKBQCAQCAQCgQohEAShQg8zbiUQCAQCgUAgEGgXAkEQ2oVk1BMIBAKBQCAQCFQIgSAIFXqYcSuBQCAQCAQCgUC7EAiC0C4ko55AIBAIBAKBQKBCCARBqNDDjFsJBAKBQCAQCATahUAQhHYhGfUEAoFAIBAIBAIVQiAIQoUeZtxKIBAIBAKBQCDQLgSCILQLyagnEAgEAoFAIBCoEAL/Dzq6r+ObTk9DAAAAAElFTkSuQmCC)"
   ]
  },
  {
   "cell_type": "markdown",
   "metadata": {
    "id": "98BrOJLAcSyd"
   },
   "source": [
    "### **1.1** Creat table `domain`"
   ]
  },
  {
   "cell_type": "code",
   "execution_count": 15,
   "metadata": {
    "colab": {
     "base_uri": "https://localhost:8080/"
    },
    "id": "bTV-1Pywcyun",
    "outputId": "af272e52-2e5c-4156-9718-25d45ed1ed37"
   },
   "outputs": [],
   "source": [
    "# creat table domain\n",
    "con = psycopg2.connect(database='postgres', user='postgres',password='postgres',host=\"127.0.0.1\", port=\"5432\")\n",
    "cur = con.cursor()\n",
    "cur.execute(\"DROP table IF EXISTS domain\")\n",
    "cur.execute(\"SELECT id,domain,type into domain from news;\")\n",
    "# delete dup domains\n",
    "cur.execute('delete from domain d where d.id not in (select min(id) from domain group by domain)')\n",
    "# drop id\n",
    "cur.execute('ALTER TABLE domain DROP COLUMN id')\n",
    "# set domain as PK\n",
    "cur.execute('ALTER TABLE domain ADD PRIMARY KEY(domain)')\n",
    "con.commit()"
   ]
  },
  {
   "cell_type": "markdown",
   "metadata": {
    "id": "DuBaA-A5caTi"
   },
   "source": [
    "### **1.2** Creat table `date`"
   ]
  },
  {
   "cell_type": "code",
   "execution_count": 16,
   "metadata": {
    "colab": {
     "base_uri": "https://localhost:8080/"
    },
    "id": "cSZBZDEVhsgL",
    "outputId": "0e1498fc-063c-41ca-ad88-e2de31f9d073"
   },
   "outputs": [],
   "source": [
    "# creat table date\n",
    "con = psycopg2.connect(database='postgres', user='postgres',password='postgres',host=\"127.0.0.1\", port=\"5432\")\n",
    "cur = con.cursor()\n",
    "cur.execute(\"DROP table IF EXISTS date\")\n",
    "cur.execute(\"SELECT id,scraped_at,inserted_at,updated_at into date from news\")\n",
    "# delete dup date\n",
    "cur.execute('delete from date d where d.id not in (select min(id) from date group by scraped_at,inserted_at,updated_at)')\n",
    "# add date_id\n",
    "cur.execute('ALTER TABLE date DROP COLUMN id')\n",
    "cur.execute('CREATE SEQUENCE date_id')\n",
    "cur.execute(\"ALTER TABLE date ADD COLUMN date_id integer NOT NULL DEFAULT nextval('date_id')\")\n",
    "cur.execute('ALTER SEQUENCE date_id OWNED BY date.date_id')\n",
    "# set date_id as PK\n",
    "cur.execute('ALTER TABLE date ADD PRIMARY KEY (date_id)')\n",
    "con.commit()"
   ]
  },
  {
   "cell_type": "markdown",
   "metadata": {
    "id": "-jC_oU8lwfd8"
   },
   "source": [
    "### **1.3** Creat table `article`"
   ]
  },
  {
   "cell_type": "code",
   "execution_count": 17,
   "metadata": {
    "colab": {
     "base_uri": "https://localhost:8080/"
    },
    "id": "A4h2w_w9AFEp",
    "outputId": "37d96226-e7d5-4d1f-97c8-e3342af577ed"
   },
   "outputs": [],
   "source": [
    "# ctable article\n",
    "con = psycopg2.connect(database='postgres', user='postgres',password='postgres',host=\"127.0.0.1\", port=\"5432\")\n",
    "cur = con.cursor()\n",
    "cur.execute(\"DROP table IF EXISTS article\")\n",
    "cur.execute(\"SELECT id,domain,url,title,content,authors,scraped_at,inserted_at,updated_at,meta_keywords,meta_description,tags into article from news\")\n",
    "# insert date_id\n",
    "cur.execute('ALTER TABLE article ADD column date_id integer')\n",
    "cur.execute('UPDATE article SET date_id = date.date_id FROM date WHERE article.scraped_at=date.scraped_at and article.inserted_at=date.inserted_at and article.updated_at=date.updated_at')\n",
    "cur.execute('ALTER TABLE article DROP COLUMN scraped_at,DROP COLUMN inserted_at,DROP COLUMN updated_at')\n",
    "# set id as PK\n",
    "cur.execute('ALTER TABLE article ADD PRIMARY KEY (id)')\n",
    "# set domain, date_id as FK\n",
    "cur.execute('ALTER TABLE article ADD CONSTRAINT fk_domain FOREIGN KEY (domain) REFERENCES domain(domain)')\n",
    "cur.execute('ALTER TABLE article ADD CONSTRAINT fk_date FOREIGN KEY (date_id) REFERENCES date(date_id)')\n",
    "con.commit()"
   ]
  },
  {
   "cell_type": "markdown",
   "metadata": {
    "id": "zLsxnwdAYeKv"
   },
   "source": [
    "## **Task 2** (To be done)\n",
    "\n",
    "List the relations you have created in your database. For each relation:\n",
    "\n",
    "1. list its attributes.  \n",
    "2. list its functional dependencies.  \n",
    "3. list all the primary keys.  \n",
    "\n",
    "Is each relation in BCNF form? If not, show how to transform the tables in BCNF and explain why it might be better (or not) to use the BCNF relations in your database.\n",
    "\n"
   ]
  },
  {
   "cell_type": "markdown",
   "metadata": {
    "id": "oyyEyyXoGUmX"
   },
   "source": [
    "## **Task 3**\n",
    "\n",
    "**1. List the domains of news articles of reliable type and scraped at or after January 15, 2018. NOTE: Do not include duplicate domains in your answer.** \n",
    "\n",
    "Relational algebra:  \n",
    "$\\textbf{π}_{domain}\\textbf{σ}_{type=reliable ∧ scraped\\_at>=2018-01-25}(domain⋈article⋈date).$  \n",
    "\n",
    "SQL:\n",
    "```\n",
    "SELECT DISTINCT domain\n",
    "FROM (domain INNER JOIN article USING(domain)) \n",
    "INNER JOIN date \n",
    "USING(date_id)\n",
    "WHERE type = 'reliable' AND scraped_at >= '2018-01-25'\n",
    "```\n",
    "Alternatively，\n",
    "```\n",
    "SELECT domain \n",
    "FROM domain \n",
    "WHERE type = 'reliable' AND domain IN (\n",
    "  SELECT domain \n",
    "  FROM article\n",
    "  JION date\n",
    "  USING date_id\n",
    "  WHERE scraped_at >= '2018-01-25'\n",
    ")\n",
    "```\n",
    "\n",
    "\n",
    "\n",
    "\n",
    "\n",
    "\n"
   ]
  },
  {
   "cell_type": "code",
   "execution_count": 18,
   "metadata": {
    "colab": {
     "base_uri": "https://localhost:8080/"
    },
    "id": "-Wefdqv5FZ53",
    "outputId": "b2c5bd8f-e62c-4d68-b07e-68dc3cb99f0d"
   },
   "outputs": [
    {
     "output_type": "stream",
     "name": "stdout",
     "text": [
      "christianpost.com\nconsortiumnews.com\nnutritionfacts.org\n"
     ]
    }
   ],
   "source": [
    "con = psycopg2.connect(database='postgres', user='postgres',password='postgres',host=\"127.0.0.1\", port=\"5432\")\n",
    "cur = con.cursor()\n",
    "cur.execute(\"SELECT DISTINCT domain FROM (domain INNER JOIN article USING(domain)) INNER JOIN date USING(date_id) WHERE type = 'reliable' AND scraped_at >= '2018-01-25'\")\n",
    "for i in cur.fetchall():\n",
    "  print(i[0])"
   ]
  },
  {
   "cell_type": "markdown",
   "metadata": {
    "id": "adfpmTlQG-ji"
   },
   "source": [
    "\n",
    "**2. List the name(s) of the most prolific author(s) of news articles of fake type. An author is among the most prolific if it has authored as many or more fake news articles as any other author in the dataset.**\n",
    "\n",
    "Relational algebra (maybe wrong):   \n",
    "$\\textbf{π}_{MAX(mycount)→max\\_aut}\\textbf{σ}(\\textbf{π}_{mycount}(\\textbf{γ}_{authors,COUNT(authors)→mycount}(\\textbf{σ}_{type=fake}(article×domain)))),$ \n",
    "$\\textbf{π}_{authors}(\\textbf{σ}_{COUNT(authors)=max\\_aut}(\\textbf{γ}_{authors}(\\textbf{σ}_{type=fake}(article×domain)))).$ \n",
    "\n",
    "SQL:\n",
    "```\n",
    "SELECT a.authors \n",
    "FROM article a, domain d \n",
    "WHERE d.type = 'fake' \n",
    "GROUP BY a.authors \n",
    "HAVING COUNT(a.authors)=(\n",
    "  SELECT COUNT(a.authors) as mycount \n",
    "  FROM article a, domain d \n",
    "  WHERE d.type = 'fake' \n",
    "  GROUP BY a.authors \n",
    "  ORDER BY mycount desc limit 1\n",
    ")\n",
    "```\n",
    "Alternatively,\n",
    "```\n",
    "SELECT a.authors \n",
    "FROM article a, domain d \n",
    "WHERE d.type = 'fake' \n",
    "GROUP BY a.authors \n",
    "HAVING COUNT(a.authors)=(\n",
    "  SELECT MAX(mycount) \n",
    "  FROM (\n",
    "    SELECT COUNT(a.authors) as mycount \n",
    "    FROM article a, domain d \n",
    "    WHERE d.type = 'fake' \n",
    "    GROUP BY a.authors\n",
    "  ) as c\n",
    ")\n",
    "```\n",
    "\n"
   ]
  },
  {
   "cell_type": "code",
   "execution_count": 51,
   "metadata": {
    "colab": {
     "base_uri": "https://localhost:8080/"
    },
    "id": "xUSHfpV0KkIL",
    "outputId": "fd310e9f-85ff-48b7-b2fc-91693247a1be"
   },
   "outputs": [
    {
     "output_type": "stream",
     "name": "stdout",
     "text": [
      "Backgroundurl Avatar_Large, Nickname, Joined, Created_At, Story Count, N_Stories, Comment Count, N_Comments, Popular Tags, Showtags Popular_Tags\n"
     ]
    }
   ],
   "source": [
    "con = psycopg2.connect(database='postgres', user='postgres',password='postgres',host=\"127.0.0.1\", port=\"5432\")\n",
    "cur = con.cursor()\n",
    "cur.execute(\"SELECT a.authors FROM article a, domain d where d.type = 'fake' GROUP BY a.authors HAVING COUNT(a.authors)=(SELECT COUNT(a.authors) as mycount FROM article a, domain d where d.type = 'fake' GROUP BY a.authors order by mycount desc limit 1)\")\n",
    "print(cur.fetchall()[0][0])"
   ]
  },
  {
   "cell_type": "markdown",
   "metadata": {
    "id": "Z2R8Y2OZHOJP"
   },
   "source": [
    "**3. Count the pairs of article IDs that exhibit the exact same set of meta-keywords, but only return the pairs where the set of meta-keywords is not empty.** *Language: SQL*\n",
    "```\n",
    "SELECT a1.id, a2.id, a1.meta_keywords  \n",
    "FROM article a1  \n",
    "JOIN article a2  \n",
    "ON a1.meta_keywords = a2.meta_keywords AND a1.id != a2.id   \n",
    "WHERE char_length(a1.meta_keywords)>4 AND char_length(a2.meta_keywords)>4  \n",
    "group by a1.id, a2.id, a1.meta_keywords  \n",
    "LIMIT 100\n",
    "```\n",
    "Since there are too many results, we only print first 100 pairs."
   ]
  },
  {
   "cell_type": "code",
   "execution_count": 54,
   "metadata": {
    "colab": {
     "base_uri": "https://localhost:8080/"
    },
    "id": "qC9Dv5BlJQeq",
    "outputId": "9b03c562-d305-4deb-b071-271a876dcd6e"
   },
   "outputs": [
    {
     "output_type": "execute_result",
     "data": {
      "text/plain": [
       "    id 1    id 2                                      meta_keywords\n",
       "0     19  813075  ['planned parenthood', 'minorities', 'black cu...\n",
       "1     19  813090  ['planned parenthood', 'minorities', 'black cu...\n",
       "2     19  813091  ['planned parenthood', 'minorities', 'black cu...\n",
       "3     19  813092  ['planned parenthood', 'minorities', 'black cu...\n",
       "4     19  813093  ['planned parenthood', 'minorities', 'black cu...\n",
       "..   ...     ...                                                ...\n",
       "95   109    5146    ['Conservative News', 'Conservative Newspaper']\n",
       "96   109    5147    ['Conservative News', 'Conservative Newspaper']\n",
       "97   109    5148    ['Conservative News', 'Conservative Newspaper']\n",
       "98   109    5149    ['Conservative News', 'Conservative Newspaper']\n",
       "99   109    5150    ['Conservative News', 'Conservative Newspaper']\n",
       "\n",
       "[100 rows x 3 columns]"
      ],
      "text/html": "<div>\n<style scoped>\n    .dataframe tbody tr th:only-of-type {\n        vertical-align: middle;\n    }\n\n    .dataframe tbody tr th {\n        vertical-align: top;\n    }\n\n    .dataframe thead th {\n        text-align: right;\n    }\n</style>\n<table border=\"1\" class=\"dataframe\">\n  <thead>\n    <tr style=\"text-align: right;\">\n      <th></th>\n      <th>id 1</th>\n      <th>id 2</th>\n      <th>meta_keywords</th>\n    </tr>\n  </thead>\n  <tbody>\n    <tr>\n      <th>0</th>\n      <td>19</td>\n      <td>813075</td>\n      <td>['planned parenthood', 'minorities', 'black cu...</td>\n    </tr>\n    <tr>\n      <th>1</th>\n      <td>19</td>\n      <td>813090</td>\n      <td>['planned parenthood', 'minorities', 'black cu...</td>\n    </tr>\n    <tr>\n      <th>2</th>\n      <td>19</td>\n      <td>813091</td>\n      <td>['planned parenthood', 'minorities', 'black cu...</td>\n    </tr>\n    <tr>\n      <th>3</th>\n      <td>19</td>\n      <td>813092</td>\n      <td>['planned parenthood', 'minorities', 'black cu...</td>\n    </tr>\n    <tr>\n      <th>4</th>\n      <td>19</td>\n      <td>813093</td>\n      <td>['planned parenthood', 'minorities', 'black cu...</td>\n    </tr>\n    <tr>\n      <th>...</th>\n      <td>...</td>\n      <td>...</td>\n      <td>...</td>\n    </tr>\n    <tr>\n      <th>95</th>\n      <td>109</td>\n      <td>5146</td>\n      <td>['Conservative News', 'Conservative Newspaper']</td>\n    </tr>\n    <tr>\n      <th>96</th>\n      <td>109</td>\n      <td>5147</td>\n      <td>['Conservative News', 'Conservative Newspaper']</td>\n    </tr>\n    <tr>\n      <th>97</th>\n      <td>109</td>\n      <td>5148</td>\n      <td>['Conservative News', 'Conservative Newspaper']</td>\n    </tr>\n    <tr>\n      <th>98</th>\n      <td>109</td>\n      <td>5149</td>\n      <td>['Conservative News', 'Conservative Newspaper']</td>\n    </tr>\n    <tr>\n      <th>99</th>\n      <td>109</td>\n      <td>5150</td>\n      <td>['Conservative News', 'Conservative Newspaper']</td>\n    </tr>\n  </tbody>\n</table>\n<p>100 rows × 3 columns</p>\n</div>"
     },
     "metadata": {},
     "execution_count": 54
    }
   ],
   "source": [
    "con = psycopg2.connect(database='postgres', user='postgres',password='postgres',host=\"127.0.0.1\", port=\"5432\")\n",
    "cur = con.cursor()\n",
    "cur.execute(\"SELECT a1.id, a2.id, a1.meta_keywords FROM article a1 JOIN article a2 ON a1.meta_keywords = a2.meta_keywords AND a1.id != a2.id AND char_length(a1.meta_keywords)>4 AND char_length(a2.meta_keywords)>4 group by a1.id, a2.id, a1.meta_keywords limit 100\")\n",
    "pairs = pd.DataFrame(cur.fetchall(), columns=['id 1', 'id 2','meta_keywords'])\n",
    "pairs"
   ]
  },
  {
   "cell_type": "markdown",
   "metadata": {
    "id": "nW74ovxCU1o-"
   },
   "source": [
    "## **Task 4** (To be done)\n",
    "\n",
    "Now that we have our data in a database, let’s revisit the “interesting observations” task from Milestone 1 - but now using queries to the database. The idea is to write database queries (e.g. using GROUP BY and COUNT) that explore features of the data set that are relevant to the fake news prediction task: outliers, artefacts. It’s OK to investigate the same issues as in Milestone 1 (now using database queries) - but you are also very welcome to come up with completely new queries. You should write at least 3 such queries."
   ]
  },
  {
   "cell_type": "code",
   "execution_count": 8,
   "metadata": {
    "colab": {
     "base_uri": "https://localhost:8080/"
    },
    "id": "uCoqWJcEr7pn",
    "outputId": "3b0dbba4-43fa-4350-b2d9-f45c8de9a160"
   },
   "outputs": [
    {
     "name": "stdout",
     "output_type": "stream",
     "text": [
      "All 'scraped_at', 'inserted_at' and 'updated_at' of news are identical\n"
     ]
    },
    {
     "data": {
      "text/plain": [
       "<function connection.close>"
      ]
     },
     "execution_count": 8,
     "metadata": {
      "tags": []
     },
     "output_type": "execute_result"
    }
   ],
   "source": [
    "con = psycopg2.connect(database='postgres', user='postgres',password='postgres',host=\"127.0.0.1\", port=\"5432\")\n",
    "cur = con.cursor()\n",
    "# Are 'scraped_at', 'inserted_at' and 'updated_at' identical?\n",
    "cur.execute('SELECT DISTINCT scraped_at, inserted_at, updated_at FROM news')\n",
    "if len(cur.fetchall())==1:\n",
    "  print(\"All 'scraped_at', 'inserted_at' and 'updated_at' of news are identical\")"
   ]
  },
  {
   "cell_type": "code",
   "execution_count": 8,
   "metadata": {
    "colab": {
     "base_uri": "https://localhost:8080/"
    },
    "id": "DjDujoqPp27Y",
    "outputId": "87fc15a6-015a-434d-e355-2d20e7fca696"
   },
   "outputs": [
    {
     "name": "stdout",
     "output_type": "stream",
     "text": [
      "457564 rows in 'authors' are null.\n"
     ]
    },
    {
     "data": {
      "text/plain": [
       "<function connection.close>"
      ]
     },
     "execution_count": 8,
     "metadata": {
      "tags": []
     },
     "output_type": "execute_result"
    }
   ],
   "source": [
    "con = psycopg2.connect(database='postgres', user='postgres',password='postgres',host=\"127.0.0.1\", port=\"5432\")\n",
    "cur = con.cursor()\n",
    "# does 'authors' has NULL?\n",
    "cur.execute('select count(id) from news where authors IS NULL')\n",
    "null_rows = cur.fetchall()\n",
    "if null_rows!=[]:\n",
    "  print(null_rows[0][0],\"rows in 'authors' are null.\")"
   ]
  }
 ],
 "metadata": {
  "colab": {
   "name": "Untitled-1.ipynb",
   "provenance": []
  },
  "kernelspec": {
   "display_name": "Python 3",
   "language": "python",
   "name": "python3"
  },
  "language_info": {
   "codemirror_mode": {
    "name": "ipython",
    "version": 3
   },
   "file_extension": ".py",
   "mimetype": "text/x-python",
   "name": "python",
   "nbconvert_exporter": "python",
   "pygments_lexer": "ipython3",
   "version": "3.8.5"
  },
  "toc": {
   "base_numbering": 1,
   "nav_menu": {},
   "number_sections": true,
   "sideBar": true,
   "skip_h1_title": false,
   "title_cell": "Table of Contents",
   "title_sidebar": "Contents",
   "toc_cell": false,
   "toc_position": {},
   "toc_section_display": true,
   "toc_window_display": false
  },
  "varInspector": {
   "cols": {
    "lenName": 16,
    "lenType": 16,
    "lenVar": 40
   },
   "kernels_config": {
    "python": {
     "delete_cmd_postfix": "",
     "delete_cmd_prefix": "del ",
     "library": "var_list.py",
     "varRefreshCmd": "print(var_dic_list())"
    },
    "r": {
     "delete_cmd_postfix": ") ",
     "delete_cmd_prefix": "rm(",
     "library": "var_list.r",
     "varRefreshCmd": "cat(var_dic_list()) "
    }
   },
   "types_to_exclude": [
    "module",
    "function",
    "builtin_function_or_method",
    "instance",
    "_Feature"
   ],
   "window_display": false
  }
 },
 "nbformat": 4,
 "nbformat_minor": 1
}