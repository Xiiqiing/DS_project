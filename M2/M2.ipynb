{
  "nbformat": 4,
  "nbformat_minor": 0,
  "metadata": {
    "language_info": {
      "codemirror_mode": {
        "name": "ipython",
        "version": 3
      },
      "file_extension": ".py",
      "mimetype": "text/x-python",
      "name": "python",
      "nbconvert_exporter": "python",
      "pygments_lexer": "ipython3",
      "version": "3.8.5-final"
    },
    "orig_nbformat": 2,
    "kernelspec": {
      "name": "python3",
      "display_name": "Python 3.8.5 64-bit (conda)",
      "metadata": {
        "interpreter": {
          "hash": "7b4b4feff2f24a0f0a34464dbe537a36fda679851528fb8735cb41fa49dffb2d"
        }
      }
    },
    "colab": {
      "name": "Untitled-1.ipynb",
      "provenance": []
    }
  },
  "cells": [
    {
      "cell_type": "code",
      "metadata": {
        "id": "vADWO_UrMxwT"
      },
      "source": [
        "# GROUP 12\n",
        "# This notebook designed for Google Colab, may not correct in other environments."
      ],
      "execution_count": null,
      "outputs": []
    },
    {
      "cell_type": "code",
      "metadata": {
        "colab": {
          "base_uri": "https://localhost:8080/"
        },
        "id": "OFVd6ZaQmuBU",
        "outputId": "0f7798d2-7a23-4bc6-ecd6-31b764c46df8"
      },
      "source": [
        "from google.colab import drive\n",
        "drive.mount('/content/drive')"
      ],
      "execution_count": null,
      "outputs": [
        {
          "output_type": "stream",
          "text": [
            "Mounted at /content/drive\n"
          ],
          "name": "stdout"
        }
      ]
    },
    {
      "cell_type": "code",
      "metadata": {
        "colab": {
          "base_uri": "https://localhost:8080/"
        },
        "id": "RgEvhqwxUjlx",
        "outputId": "79d78f06-8714-4e9a-f9bd-0d16801f72c8"
      },
      "source": [
        "%cd '/content/sample_data/'\n",
        "!rm -f *\n",
        "!cp '/content/drive/MyDrive/Colab Notebooks/M2/data.csv' '/content/sample_data'\n",
        "!chmod 755 -R '/content/sample_data/'"
      ],
      "execution_count": null,
      "outputs": [
        {
          "output_type": "stream",
          "text": [
            "/content/sample_data\n"
          ],
          "name": "stdout"
        }
      ]
    },
    {
      "cell_type": "code",
      "metadata": {
        "colab": {
          "base_uri": "https://localhost:8080/"
        },
        "id": "zxJHc98gmqZ_",
        "outputId": "480bef8d-616a-4157-ba11-d8adebb8056f"
      },
      "source": [
        "# Install postgresql server\n",
        "!sudo apt -y install vim bash-completion wget\n",
        "!wget --quiet -O - https://www.postgresql.org/media/keys/ACCC4CF8.asc | sudo apt-key add -\n",
        "!echo \"deb http://apt.postgresql.org/pub/repos/apt/ `lsb_release -cs`-pgdg main\" | sudo tee  /etc/apt/sources.list.d/pgdg.list\n",
        "!sudo apt update\n",
        "!sudo apt install postgresql-13 postgresql-client-13\n",
        "!sudo service postgresql start"
      ],
      "execution_count": null,
      "outputs": [
        {
          "output_type": "stream",
          "text": [
            "Reading package lists... Done\n",
            "Building dependency tree       \n",
            "Reading state information... Done\n",
            "wget is already the newest version (1.19.4-1ubuntu2.2).\n",
            "The following additional packages will be installed:\n",
            "  libgpm2 vim-common vim-runtime xxd\n",
            "Suggested packages:\n",
            "  gpm ctags vim-doc vim-scripts\n",
            "The following NEW packages will be installed:\n",
            "  bash-completion libgpm2 vim vim-common vim-runtime xxd\n",
            "0 upgraded, 6 newly installed, 0 to remove and 31 not upgraded.\n",
            "Need to get 6,890 kB of archives.\n",
            "After this operation, 33.9 MB of additional disk space will be used.\n",
            "Get:1 http://archive.ubuntu.com/ubuntu bionic-updates/main amd64 xxd amd64 2:8.0.1453-1ubuntu1.4 [49.3 kB]\n",
            "Get:2 http://archive.ubuntu.com/ubuntu bionic-updates/main amd64 vim-common all 2:8.0.1453-1ubuntu1.4 [70.4 kB]\n",
            "Get:3 http://archive.ubuntu.com/ubuntu bionic/main amd64 bash-completion all 1:2.8-1ubuntu1 [168 kB]\n",
            "Get:4 http://archive.ubuntu.com/ubuntu bionic/main amd64 libgpm2 amd64 1.20.7-5 [15.1 kB]\n",
            "Get:5 http://archive.ubuntu.com/ubuntu bionic-updates/main amd64 vim-runtime all 2:8.0.1453-1ubuntu1.4 [5,435 kB]\n",
            "Get:6 http://archive.ubuntu.com/ubuntu bionic-updates/main amd64 vim amd64 2:8.0.1453-1ubuntu1.4 [1,152 kB]\n",
            "Fetched 6,890 kB in 2s (3,796 kB/s)\n",
            "debconf: unable to initialize frontend: Dialog\n",
            "debconf: (No usable dialog-like program is installed, so the dialog based frontend cannot be used. at /usr/share/perl5/Debconf/FrontEnd/Dialog.pm line 76, <> line 6.)\n",
            "debconf: falling back to frontend: Readline\n",
            "debconf: unable to initialize frontend: Readline\n",
            "debconf: (This frontend requires a controlling tty.)\n",
            "debconf: falling back to frontend: Teletype\n",
            "dpkg-preconfigure: unable to re-open stdin: \n",
            "Selecting previously unselected package xxd.\n",
            "(Reading database ... 160983 files and directories currently installed.)\n",
            "Preparing to unpack .../0-xxd_2%3a8.0.1453-1ubuntu1.4_amd64.deb ...\n",
            "Unpacking xxd (2:8.0.1453-1ubuntu1.4) ...\n",
            "Selecting previously unselected package vim-common.\n",
            "Preparing to unpack .../1-vim-common_2%3a8.0.1453-1ubuntu1.4_all.deb ...\n",
            "Unpacking vim-common (2:8.0.1453-1ubuntu1.4) ...\n",
            "Selecting previously unselected package bash-completion.\n",
            "Preparing to unpack .../2-bash-completion_1%3a2.8-1ubuntu1_all.deb ...\n",
            "Unpacking bash-completion (1:2.8-1ubuntu1) ...\n",
            "Selecting previously unselected package libgpm2:amd64.\n",
            "Preparing to unpack .../3-libgpm2_1.20.7-5_amd64.deb ...\n",
            "Unpacking libgpm2:amd64 (1.20.7-5) ...\n",
            "Selecting previously unselected package vim-runtime.\n",
            "Preparing to unpack .../4-vim-runtime_2%3a8.0.1453-1ubuntu1.4_all.deb ...\n",
            "Adding 'diversion of /usr/share/vim/vim80/doc/help.txt to /usr/share/vim/vim80/doc/help.txt.vim-tiny by vim-runtime'\n",
            "Adding 'diversion of /usr/share/vim/vim80/doc/tags to /usr/share/vim/vim80/doc/tags.vim-tiny by vim-runtime'\n",
            "Unpacking vim-runtime (2:8.0.1453-1ubuntu1.4) ...\n",
            "Selecting previously unselected package vim.\n",
            "Preparing to unpack .../5-vim_2%3a8.0.1453-1ubuntu1.4_amd64.deb ...\n",
            "Unpacking vim (2:8.0.1453-1ubuntu1.4) ...\n",
            "Setting up xxd (2:8.0.1453-1ubuntu1.4) ...\n",
            "Setting up libgpm2:amd64 (1.20.7-5) ...\n",
            "Setting up bash-completion (1:2.8-1ubuntu1) ...\n",
            "Setting up vim-common (2:8.0.1453-1ubuntu1.4) ...\n",
            "Setting up vim-runtime (2:8.0.1453-1ubuntu1.4) ...\n",
            "Setting up vim (2:8.0.1453-1ubuntu1.4) ...\n",
            "update-alternatives: using /usr/bin/vim.basic to provide /usr/bin/vim (vim) in auto mode\n",
            "update-alternatives: using /usr/bin/vim.basic to provide /usr/bin/vimdiff (vimdiff) in auto mode\n",
            "update-alternatives: using /usr/bin/vim.basic to provide /usr/bin/rvim (rvim) in auto mode\n",
            "update-alternatives: using /usr/bin/vim.basic to provide /usr/bin/rview (rview) in auto mode\n",
            "update-alternatives: using /usr/bin/vim.basic to provide /usr/bin/vi (vi) in auto mode\n",
            "update-alternatives: using /usr/bin/vim.basic to provide /usr/bin/view (view) in auto mode\n",
            "update-alternatives: using /usr/bin/vim.basic to provide /usr/bin/ex (ex) in auto mode\n",
            "update-alternatives: using /usr/bin/vim.basic to provide /usr/bin/editor (editor) in auto mode\n",
            "Processing triggers for man-db (2.8.3-2ubuntu0.1) ...\n",
            "Processing triggers for hicolor-icon-theme (0.17-2) ...\n",
            "Processing triggers for mime-support (3.60ubuntu1) ...\n",
            "Processing triggers for libc-bin (2.27-3ubuntu1.2) ...\n",
            "/sbin/ldconfig.real: /usr/local/lib/python3.7/dist-packages/ideep4py/lib/libmkldnn.so.0 is not a symbolic link\n",
            "\n",
            "OK\n",
            "deb http://apt.postgresql.org/pub/repos/apt/ bionic-pgdg main\n",
            "Get:1 https://cloud.r-project.org/bin/linux/ubuntu bionic-cran40/ InRelease [3,626 B]\n",
            "Ign:2 https://developer.download.nvidia.com/compute/cuda/repos/ubuntu1804/x86_64  InRelease\n",
            "Ign:3 https://developer.download.nvidia.com/compute/machine-learning/repos/ubuntu1804/x86_64  InRelease\n",
            "Hit:4 https://developer.download.nvidia.com/compute/cuda/repos/ubuntu1804/x86_64  Release\n",
            "Hit:5 https://developer.download.nvidia.com/compute/machine-learning/repos/ubuntu1804/x86_64  Release\n",
            "Get:7 http://ppa.launchpad.net/c2d4u.team/c2d4u4.0+/ubuntu bionic InRelease [15.9 kB]\n",
            "Get:9 http://security.ubuntu.com/ubuntu bionic-security InRelease [88.7 kB]\n",
            "Hit:10 http://archive.ubuntu.com/ubuntu bionic InRelease\n",
            "Get:11 http://apt.postgresql.org/pub/repos/apt bionic-pgdg InRelease [104 kB]\n",
            "Get:12 http://archive.ubuntu.com/ubuntu bionic-updates InRelease [88.7 kB]\n",
            "Hit:13 http://ppa.launchpad.net/cran/libgit2/ubuntu bionic InRelease\n",
            "Get:14 http://ppa.launchpad.net/deadsnakes/ppa/ubuntu bionic InRelease [15.9 kB]\n",
            "Get:15 http://archive.ubuntu.com/ubuntu bionic-backports InRelease [74.6 kB]\n",
            "Get:16 http://archive.ubuntu.com/ubuntu bionic-updates/universe amd64 Packages [2,173 kB]\n",
            "Get:17 http://apt.postgresql.org/pub/repos/apt bionic-pgdg/main amd64 Packages [367 kB]\n",
            "Hit:18 http://ppa.launchpad.net/graphics-drivers/ppa/ubuntu bionic InRelease\n",
            "Get:19 http://ppa.launchpad.net/c2d4u.team/c2d4u4.0+/ubuntu bionic/main Sources [1,751 kB]\n",
            "Get:20 http://archive.ubuntu.com/ubuntu bionic-updates/main amd64 Packages [2,476 kB]\n",
            "Get:21 http://ppa.launchpad.net/c2d4u.team/c2d4u4.0+/ubuntu bionic/main amd64 Packages [896 kB]\n",
            "Get:22 http://ppa.launchpad.net/deadsnakes/ppa/ubuntu bionic/main amd64 Packages [39.5 kB]\n",
            "Fetched 8,093 kB in 4s (1,921 kB/s)\n",
            "Reading package lists... Done\n",
            "Building dependency tree       \n",
            "Reading state information... Done\n",
            "38 packages can be upgraded. Run 'apt list --upgradable' to see them.\n",
            "Reading package lists... Done\n",
            "Building dependency tree       \n",
            "Reading state information... Done\n",
            "The following additional packages will be installed:\n",
            "  cron libpq-dev libpq5 logrotate netbase pgdg-keyring\n",
            "  postgresql-client-common postgresql-common ssl-cert sysstat\n",
            "Suggested packages:\n",
            "  anacron checksecurity exim4 | postfix | mail-transport-agent\n",
            "  postgresql-doc-13 bsd-mailx | mailx libjson-perl openssl-blacklist isag\n",
            "The following NEW packages will be installed:\n",
            "  cron logrotate netbase pgdg-keyring postgresql-13 postgresql-client-13\n",
            "  postgresql-client-common postgresql-common ssl-cert sysstat\n",
            "The following packages will be upgraded:\n",
            "  libpq-dev libpq5\n",
            "2 upgraded, 10 newly installed, 0 to remove and 36 not upgraded.\n",
            "Need to get 17.5 MB of archives.\n",
            "After this operation, 56.3 MB of additional disk space will be used.\n",
            "Get:1 http://archive.ubuntu.com/ubuntu bionic/main amd64 cron amd64 3.0pl1-128.1ubuntu1 [68.8 kB]\n",
            "Get:2 http://apt.postgresql.org/pub/repos/apt bionic-pgdg/main amd64 libpq-dev amd64 13.2-1.pgdg18.04+1 [137 kB]\n",
            "Get:3 http://archive.ubuntu.com/ubuntu bionic/main amd64 logrotate amd64 3.11.0-0.1ubuntu1 [41.8 kB]\n",
            "Get:4 http://archive.ubuntu.com/ubuntu bionic/main amd64 netbase all 5.4 [12.7 kB]\n",
            "Get:5 http://archive.ubuntu.com/ubuntu bionic/main amd64 ssl-cert all 1.0.39 [17.0 kB]\n",
            "Get:6 http://archive.ubuntu.com/ubuntu bionic-updates/main amd64 sysstat amd64 11.6.1-1ubuntu0.1 [295 kB]\n",
            "Get:7 http://apt.postgresql.org/pub/repos/apt bionic-pgdg/main amd64 libpq5 amd64 13.2-1.pgdg18.04+1 [177 kB]\n",
            "Get:8 http://apt.postgresql.org/pub/repos/apt bionic-pgdg/main amd64 pgdg-keyring all 2018.2 [10.7 kB]\n",
            "Get:9 http://apt.postgresql.org/pub/repos/apt bionic-pgdg/main amd64 postgresql-client-common all 225.pgdg18.04+1 [89.4 kB]\n",
            "Get:10 http://apt.postgresql.org/pub/repos/apt bionic-pgdg/main amd64 postgresql-client-13 amd64 13.2-1.pgdg18.04+1 [1,499 kB]\n",
            "Get:11 http://apt.postgresql.org/pub/repos/apt bionic-pgdg/main amd64 postgresql-common all 225.pgdg18.04+1 [238 kB]\n",
            "Get:12 http://apt.postgresql.org/pub/repos/apt bionic-pgdg/main amd64 postgresql-13 amd64 13.2-1.pgdg18.04+1 [14.9 MB]\n",
            "Fetched 17.5 MB in 3s (6,911 kB/s)\n",
            "debconf: unable to initialize frontend: Dialog\n",
            "debconf: (No usable dialog-like program is installed, so the dialog based frontend cannot be used. at /usr/share/perl5/Debconf/FrontEnd/Dialog.pm line 76, <> line 12.)\n",
            "debconf: falling back to frontend: Readline\n",
            "debconf: unable to initialize frontend: Readline\n",
            "debconf: (This frontend requires a controlling tty.)\n",
            "debconf: falling back to frontend: Teletype\n",
            "dpkg-preconfigure: unable to re-open stdin: \n",
            "Selecting previously unselected package cron.\n",
            "(Reading database ... 163499 files and directories currently installed.)\n",
            "Preparing to unpack .../00-cron_3.0pl1-128.1ubuntu1_amd64.deb ...\n",
            "Unpacking cron (3.0pl1-128.1ubuntu1) ...\n",
            "Selecting previously unselected package logrotate.\n",
            "Preparing to unpack .../01-logrotate_3.11.0-0.1ubuntu1_amd64.deb ...\n",
            "Unpacking logrotate (3.11.0-0.1ubuntu1) ...\n",
            "Selecting previously unselected package netbase.\n",
            "Preparing to unpack .../02-netbase_5.4_all.deb ...\n",
            "Unpacking netbase (5.4) ...\n",
            "Preparing to unpack .../03-libpq-dev_13.2-1.pgdg18.04+1_amd64.deb ...\n",
            "Unpacking libpq-dev (13.2-1.pgdg18.04+1) over (10.16-0ubuntu0.18.04.1) ...\n",
            "Preparing to unpack .../04-libpq5_13.2-1.pgdg18.04+1_amd64.deb ...\n",
            "Unpacking libpq5:amd64 (13.2-1.pgdg18.04+1) over (10.16-0ubuntu0.18.04.1) ...\n",
            "Selecting previously unselected package pgdg-keyring.\n",
            "Preparing to unpack .../05-pgdg-keyring_2018.2_all.deb ...\n",
            "Unpacking pgdg-keyring (2018.2) ...\n",
            "Selecting previously unselected package postgresql-client-common.\n",
            "Preparing to unpack .../06-postgresql-client-common_225.pgdg18.04+1_all.deb ...\n",
            "Unpacking postgresql-client-common (225.pgdg18.04+1) ...\n",
            "Selecting previously unselected package postgresql-client-13.\n",
            "Preparing to unpack .../07-postgresql-client-13_13.2-1.pgdg18.04+1_amd64.deb ...\n",
            "Unpacking postgresql-client-13 (13.2-1.pgdg18.04+1) ...\n",
            "Selecting previously unselected package ssl-cert.\n",
            "Preparing to unpack .../08-ssl-cert_1.0.39_all.deb ...\n",
            "Unpacking ssl-cert (1.0.39) ...\n",
            "Selecting previously unselected package postgresql-common.\n",
            "Preparing to unpack .../09-postgresql-common_225.pgdg18.04+1_all.deb ...\n",
            "Adding 'diversion of /usr/bin/pg_config to /usr/bin/pg_config.libpq-dev by postgresql-common'\n",
            "Unpacking postgresql-common (225.pgdg18.04+1) ...\n",
            "Selecting previously unselected package postgresql-13.\n",
            "Preparing to unpack .../10-postgresql-13_13.2-1.pgdg18.04+1_amd64.deb ...\n",
            "Unpacking postgresql-13 (13.2-1.pgdg18.04+1) ...\n",
            "Selecting previously unselected package sysstat.\n",
            "Preparing to unpack .../11-sysstat_11.6.1-1ubuntu0.1_amd64.deb ...\n",
            "Unpacking sysstat (11.6.1-1ubuntu0.1) ...\n",
            "Setting up sysstat (11.6.1-1ubuntu0.1) ...\n",
            "debconf: unable to initialize frontend: Dialog\n",
            "debconf: (No usable dialog-like program is installed, so the dialog based frontend cannot be used. at /usr/share/perl5/Debconf/FrontEnd/Dialog.pm line 76.)\n",
            "debconf: falling back to frontend: Readline\n",
            "\n",
            "Creating config file /etc/default/sysstat with new version\n",
            "update-alternatives: using /usr/bin/sar.sysstat to provide /usr/bin/sar (sar) in auto mode\n",
            "Created symlink /etc/systemd/system/multi-user.target.wants/sysstat.service → /lib/systemd/system/sysstat.service.\n",
            "Setting up ssl-cert (1.0.39) ...\n",
            "debconf: unable to initialize frontend: Dialog\n",
            "debconf: (No usable dialog-like program is installed, so the dialog based frontend cannot be used. at /usr/share/perl5/Debconf/FrontEnd/Dialog.pm line 76.)\n",
            "debconf: falling back to frontend: Readline\n",
            "Setting up libpq5:amd64 (13.2-1.pgdg18.04+1) ...\n",
            "Setting up pgdg-keyring (2018.2) ...\n",
            "Removing apt.postgresql.org key from trusted.gpg: OK\n",
            "Setting up cron (3.0pl1-128.1ubuntu1) ...\n",
            "Adding group `crontab' (GID 110) ...\n",
            "Done.\n",
            "Created symlink /etc/systemd/system/multi-user.target.wants/cron.service → /lib/systemd/system/cron.service.\n",
            "update-rc.d: warning: start and stop actions are no longer supported; falling back to defaults\n",
            "invoke-rc.d: could not determine current runlevel\n",
            "invoke-rc.d: policy-rc.d denied execution of start.\n",
            "Setting up logrotate (3.11.0-0.1ubuntu1) ...\n",
            "Setting up netbase (5.4) ...\n",
            "Setting up libpq-dev (13.2-1.pgdg18.04+1) ...\n",
            "Setting up postgresql-client-common (225.pgdg18.04+1) ...\n",
            "Setting up postgresql-common (225.pgdg18.04+1) ...\n",
            "debconf: unable to initialize frontend: Dialog\n",
            "debconf: (No usable dialog-like program is installed, so the dialog based frontend cannot be used. at /usr/share/perl5/Debconf/FrontEnd/Dialog.pm line 76.)\n",
            "debconf: falling back to frontend: Readline\n",
            "Adding user postgres to group ssl-cert\n",
            "\n",
            "Creating config file /etc/postgresql-common/createcluster.conf with new version\n",
            "Building PostgreSQL dictionaries from installed myspell/hunspell packages...\n",
            "Removing obsolete dictionary files:\n",
            "Created symlink /etc/systemd/system/multi-user.target.wants/postgresql.service → /lib/systemd/system/postgresql.service.\n",
            "invoke-rc.d: could not determine current runlevel\n",
            "invoke-rc.d: policy-rc.d denied execution of start.\n",
            "Setting up postgresql-client-13 (13.2-1.pgdg18.04+1) ...\n",
            "update-alternatives: using /usr/share/postgresql/13/man/man1/psql.1.gz to provide /usr/share/man/man1/psql.1.gz (psql.1.gz) in auto mode\n",
            "Setting up postgresql-13 (13.2-1.pgdg18.04+1) ...\n",
            "debconf: unable to initialize frontend: Dialog\n",
            "debconf: (No usable dialog-like program is installed, so the dialog based frontend cannot be used. at /usr/share/perl5/Debconf/FrontEnd/Dialog.pm line 76.)\n",
            "debconf: falling back to frontend: Readline\n",
            "Creating new PostgreSQL cluster 13/main ...\n",
            "/usr/lib/postgresql/13/bin/initdb -D /var/lib/postgresql/13/main --auth-local peer --auth-host md5\n",
            "The files belonging to this database system will be owned by user \"postgres\".\n",
            "This user must also own the server process.\n",
            "\n",
            "The database cluster will be initialized with locale \"en_US.UTF-8\".\n",
            "The default database encoding has accordingly been set to \"UTF8\".\n",
            "The default text search configuration will be set to \"english\".\n",
            "\n",
            "Data page checksums are disabled.\n",
            "\n",
            "fixing permissions on existing directory /var/lib/postgresql/13/main ... ok\n",
            "creating subdirectories ... ok\n",
            "selecting dynamic shared memory implementation ... posix\n",
            "selecting default max_connections ... 100\n",
            "selecting default shared_buffers ... 128MB\n",
            "selecting default time zone ... Etc/UTC\n",
            "creating configuration files ... ok\n",
            "running bootstrap script ... ok\n",
            "performing post-bootstrap initialization ... ok\n",
            "syncing data to disk ... ok\n",
            "\n",
            "Success. You can now start the database server using:\n",
            "\n",
            "    pg_ctlcluster 13 main start\n",
            "\n",
            "Ver Cluster Port Status Owner    Data directory              Log file\n",
            "\u001b[31m13  main    5432 down   postgres /var/lib/postgresql/13/main /var/log/postgresql/postgresql-13-main.log\u001b[0m\n",
            "update-alternatives: using /usr/share/postgresql/13/man/man1/postmaster.1.gz to provide /usr/share/man/man1/postmaster.1.gz (postmaster.1.gz) in auto mode\n",
            "invoke-rc.d: could not determine current runlevel\n",
            "invoke-rc.d: policy-rc.d denied execution of start.\n",
            "Processing triggers for libc-bin (2.27-3ubuntu1.2) ...\n",
            "/sbin/ldconfig.real: /usr/local/lib/python3.7/dist-packages/ideep4py/lib/libmkldnn.so.0 is not a symbolic link\n",
            "\n",
            "Processing triggers for systemd (237-3ubuntu10.45) ...\n",
            "Processing triggers for man-db (2.8.3-2ubuntu0.1) ...\n",
            " * Starting PostgreSQL 13 database server\n",
            "   ...done.\n"
          ],
          "name": "stdout"
        }
      ]
    },
    {
      "cell_type": "code",
      "metadata": {
        "colab": {
          "base_uri": "https://localhost:8080/"
        },
        "id": "fM2BuvaTmzBl",
        "outputId": "0727e671-5368-4eac-f095-d92ba64f30ea"
      },
      "source": [
        "# setup a password `postgres` for username `postgres`\n",
        "!sudo -u postgres psql -U postgres -c \"ALTER USER postgres PASSWORD 'postgres';\"\n",
        "# setup a database with name `m2` to be used\n",
        "!sudo -u postgres psql -U postgres -c 'DROP DATABASE IF EXISTS m2;'\n",
        "!sudo -u postgres psql -U postgres -c 'CREATE DATABASE m2;'"
      ],
      "execution_count": null,
      "outputs": [
        {
          "output_type": "stream",
          "text": [
            "ALTER ROLE\n",
            "NOTICE:  database \"m2\" does not exist, skipping\n",
            "DROP DATABASE\n",
            "CREATE DATABASE\n"
          ],
          "name": "stdout"
        }
      ]
    },
    {
      "cell_type": "code",
      "metadata": {
        "colab": {
          "base_uri": "https://localhost:8080/"
        },
        "id": "r3LlXwsV3d6W",
        "outputId": "540f2a32-9644-4246-e649-e52108425b5b"
      },
      "source": [
        "# creat news table\n",
        "!sudo -u postgres psql -U postgres -c \"CREATE TABLE news(index text,id text,domain TEXT,type TEXT,url TEXT,content TEXT,scraped_at DATE,inserted_at DATE,updated_at DATE,title TEXT,authors TEXT,keywords TEXT,meta_keywords TEXT,meta_description TEXT,tags TEXT,summary TEXT,source TEXT);\""
      ],
      "execution_count": null,
      "outputs": [
        {
          "output_type": "stream",
          "text": [
            "CREATE TABLE\n"
          ],
          "name": "stdout"
        }
      ]
    },
    {
      "cell_type": "code",
      "metadata": {
        "id": "faWvTs5ijXYN",
        "colab": {
          "base_uri": "https://localhost:8080/"
        },
        "outputId": "9341943f-2e43-4593-f0dc-e1d92cf50ff9"
      },
      "source": [
        "# load csv\n",
        "!sudo -u postgres psql -U postgres -c \"COPY news FROM '/content/sample_data/data.csv' DELIMITER ',' CSV HEADER ENCODING 'UTF8';\"\n",
        "\n",
        "# connect db\n",
        "import psycopg2\n",
        "con = psycopg2.connect(database='postgres', user='postgres',password='postgres',host=\"127.0.0.1\", port=\"5432\")\n",
        "cur = con.cursor()\n",
        "# delete null in id\n",
        "cur.execute('DELETE FROM news WHERE id IS NULL')\n",
        "# delete text in id\n",
        "cur.execute(\"delete FROM news WHERE id ~* '^[a-z]'\") \n",
        "# set integer for id\n",
        "cur.execute('ALTER TABLE news ALTER COLUMN id TYPE integer USING (id::integer)') \n",
        "con.commit()\n",
        "con.close"
      ],
      "execution_count": null,
      "outputs": [
        {
          "output_type": "stream",
          "text": [
            "COPY 1000000\n"
          ],
          "name": "stdout"
        }
      ]
    },
    {
      "cell_type": "code",
      "metadata": {
        "colab": {
          "base_uri": "https://localhost:8080/"
        },
        "id": "zuDPwcwVmP3P",
        "outputId": "5d8b9d4d-56d1-4c3e-8d6c-6b4430713fa6"
      },
      "source": [
        "con = psycopg2.connect(database='postgres', user='postgres',password='postgres',host=\"127.0.0.1\", port=\"5432\")\n",
        "cur = con.cursor()\n",
        "# does one domain only has one type?\n",
        "cur.execute('select distinct domain, count(distinct type) from news group by domain having count( distinct type)>1 order by domain')\n",
        "if cur.fetchall()==[]:\n",
        "  print(\"One domain only has one type.\")\n",
        "con.close"
      ],
      "execution_count": null,
      "outputs": [
        {
          "output_type": "stream",
          "text": [
            "One domain only has one type.\n"
          ],
          "name": "stdout"
        },
        {
          "output_type": "execute_result",
          "data": {
            "text/plain": [
              "<function connection.close>"
            ]
          },
          "metadata": {
            "tags": []
          },
          "execution_count": 36
        }
      ]
    },
    {
      "cell_type": "code",
      "metadata": {
        "colab": {
          "base_uri": "https://localhost:8080/"
        },
        "id": "DjDujoqPp27Y",
        "outputId": "299946f9-9abe-4737-a861-683175150c1e"
      },
      "source": [
        "con = psycopg2.connect(database='postgres', user='postgres',password='postgres',host=\"127.0.0.1\", port=\"5432\")\n",
        "cur = con.cursor()\n",
        "# does 'authors' has NULL?\n",
        "cur.execute('select count(id) from news where authors IS NULL')\n",
        "null_rows = cur.fetchall()\n",
        "if null_rows!=[]:\n",
        "  print(null_rows[0][0],\"rows in 'authors' are null.\")\n",
        "con.close"
      ],
      "execution_count": null,
      "outputs": [
        {
          "output_type": "stream",
          "text": [
            "457564 rows in 'authors' are null.\n"
          ],
          "name": "stdout"
        },
        {
          "output_type": "execute_result",
          "data": {
            "text/plain": [
              "<function connection.close>"
            ]
          },
          "metadata": {
            "tags": []
          },
          "execution_count": 51
        }
      ]
    },
    {
      "cell_type": "code",
      "metadata": {
        "colab": {
          "base_uri": "https://localhost:8080/"
        },
        "id": "uCoqWJcEr7pn",
        "outputId": "73133609-70fd-422c-c5e1-b2090f4ab394"
      },
      "source": [
        "con = psycopg2.connect(database='postgres', user='postgres',password='postgres',host=\"127.0.0.1\", port=\"5432\")\n",
        "cur = con.cursor()\n",
        "# Are 'scraped_at', 'inserted_at' and 'updated_at' identical?\n",
        "cur.execute('SELECT DISTINCT scraped_at, inserted_at, updated_at FROM news')\n",
        "if len(cur.fetchall())==1:\n",
        "  print(\"'scraped_at', 'inserted_at' and 'updated_at' are identical\")\n",
        "con.close"
      ],
      "execution_count": null,
      "outputs": [
        {
          "output_type": "stream",
          "text": [
            "'scraped_at', 'inserted_at' and 'updated_at' are identical\n"
          ],
          "name": "stdout"
        },
        {
          "output_type": "execute_result",
          "data": {
            "text/plain": [
              "<function connection.close>"
            ]
          },
          "metadata": {
            "tags": []
          },
          "execution_count": 63
        }
      ]
    },
    {
      "cell_type": "code",
      "metadata": {
        "colab": {
          "base_uri": "https://localhost:8080/"
        },
        "id": "M2g9yBXmjd2q",
        "outputId": "32f26f17-5c54-4ff7-e4e4-e6ab6dc77ecc"
      },
      "source": [
        "# creat table domain\n",
        "!sudo -u postgres psql -U postgres -c \"DROP table IF EXISTS domain;\"\n",
        "!sudo -u postgres psql -U postgres -c \"SELECT id,domain,type into domain from news;\"\n",
        "con = psycopg2.connect(database='postgres', user='postgres',password='postgres',host=\"127.0.0.1\", port=\"5432\")\n",
        "cur = con.cursor()\n",
        "# delete dup domains\n",
        "cur.execute('explain analyse delete from domain d where d.id not in (select min(id) from domain group by domain)')\n",
        "# delete id\n",
        "cur.execute('ALTER TABLE domain DROP COLUMN id')\n",
        "# set domain as PK\n",
        "cur.execute('ALTER TABLE domain ADD PRIMARY KEY (domain)')\n",
        "con.commit()"
      ],
      "execution_count": null,
      "outputs": [
        {
          "output_type": "stream",
          "text": [
            "DROP TABLE\n",
            "SELECT 999934\n"
          ],
          "name": "stdout"
        }
      ]
    }
  ]
}