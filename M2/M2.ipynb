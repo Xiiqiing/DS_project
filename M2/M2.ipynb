{
 "cells": [
  {
   "cell_type": "markdown",
   "metadata": {
    "id": "L0jLXlJnFR_r"
   },
   "source": [
    "# **Milestone 2, GROUP 12**"
   ]
  },
  {
   "cell_type": "markdown",
   "metadata": {
    "id": "1D5TcK9SYps5"
   },
   "source": [
    "*Some settings:*"
   ]
  },
  {
   "cell_type": "code",
   "execution_count": 1,
   "metadata": {
    "ExecuteTime": {
     "end_time": "2021-04-14T12:11:07.702472Z",
     "start_time": "2021-04-14T12:11:07.493473Z"
    },
    "colab": {
     "base_uri": "https://localhost:8080/",
     "height": 90
    },
    "id": "OFVd6ZaQmuBU",
    "outputId": "341273ed-a73a-4395-f431-48221bbbab8f"
   },
   "outputs": [
    {
     "output_type": "display_data",
     "data": {
      "text/plain": "<IPython.core.display.HTML object>",
      "text/html": "<script src='https://cdnjs.cloudflare.com/ajax/libs/mathjax/2.7.3/latest.js?config=default'></script>"
     },
     "metadata": {}
    }
   ],
   "source": [
    "import psycopg2\n",
    "import pandas as pd\n",
    "from IPython.display import HTML, Math\n",
    "display(HTML(\"<script src='https://cdnjs.cloudflare.com/ajax/libs/mathjax/2.7.3/latest.js?config=default'></script>\"))"
   ]
  },
  {
   "cell_type": "code",
   "execution_count": 4,
   "metadata": {
    "colab": {
     "base_uri": "https://localhost:8080/"
    },
    "id": "fM2BuvaTmzBl",
    "outputId": "d54102ba-a78f-4d03-b76f-5fa6bddf5bef"
   },
   "outputs": [
    {
     "name": "stdout",
     "output_type": "stream",
     "text": [
      "ALTER ROLE\n",
      "NOTICE:  database \"m2\" does not exist, skipping\n",
      "DROP DATABASE\n",
      "CREATE DATABASE\n"
     ]
    }
   ],
   "source": [
    "# setup a password `postgres` for username `postgres`\n",
    "!sudo -u postgres psql -U postgres -c \"ALTER USER postgres PASSWORD 'postgres';\"\n",
    "# setup a database with name `m2` to be used\n",
    "!sudo -u postgres psql -U postgres -c 'DROP DATABASE IF EXISTS m2;'\n",
    "!sudo -u postgres psql -U postgres -c 'CREATE DATABASE m2;'"
   ]
  },
  {
   "cell_type": "markdown",
   "metadata": {
    "id": "PGsTfX_1VI8Y"
   },
   "source": [
    "## Task 0 Load csv file\n",
    "\n",
    "We loaded entire csv (`1mio-raw.csv`) to table `news`:\n",
    "\n",
    "```\n",
    "CREATE TABLE news\n",
    "(\n",
    "\tindex TEXT,id TEXT,domain TEXT,type TEXT,url TEXT,content TEXT,\n",
    "\tscraped_at DATE,inserted_at DATE,updated_at DATE,\n",
    "\ttitle TEXT,authors TEXT,keywords TEXT,\n",
    "\tmeta_keywords TEXT,meta_description TEXT,tags TEXT,summary TEXT,source TEXT\n",
    ");\n",
    "```\n",
    "Attribute such as `ID` shoud be `INTEGER NOT NULL` since we decided to set it as PK for futher use, but we found that there are some empty rows and unexpected strings in it. We therefore set it to `TEXT` firstly and changed it back to `INTEGER NOT NULL` and `INTEGER` after loading."
   ]
  },
  {
   "cell_type": "code",
   "execution_count": 3,
   "metadata": {},
   "outputs": [
    {
     "output_type": "stream",
     "name": "stdout",
     "text": [
      "COPY 1000000\n"
     ]
    }
   ],
   "source": [
    "# connect database\n",
    "con = psycopg2.connect(database='postgres', user='postgres',password='postgres',host=\"127.0.0.1\", port=\"5432\")\n",
    "cur = con.cursor()\n",
    "# creat allnews table\n",
    "cur.execute(\"DROP table IF EXISTS news\")\n",
    "cur.execute(\"CREATE TABLE news(index text,id text,domain TEXT,type TEXT,url TEXT,content TEXT,scraped_at DATE,inserted_at DATE,updated_at DATE,title TEXT,authors TEXT,keywords TEXT,meta_keywords TEXT,meta_description TEXT,tags TEXT,summary TEXT,source TEXT)\")\n",
    "# load entire csv\n",
    "cur.execute(\"COPY news FROM '/mnt/d/news/data.csv' DELIMITER ',' CSV HEADER ENCODING 'UTF8'\")\n",
    "# delete NULL rows\n",
    "cur.execute('DELETE FROM news WHERE id IS NULL')\n",
    "# delete strings in ID\n",
    "cur.execute(\"delete FROM news WHERE id ~* '^[a-z]'\") \n",
    "# set INTEGER for ID\n",
    "cur.execute('ALTER TABLE news ALTER COLUMN id TYPE integer USING (id::integer)')\n",
    "con.commit()\n",
    "con.close"
   ]
  },
  {
   "cell_type": "code",
   "execution_count": 4,
   "metadata": {},
   "outputs": [
    {
     "output_type": "stream",
     "name": "stdout",
     "text": [
      "999934 news in total\n904911 news are distinct\n"
     ]
    }
   ],
   "source": [
    "# count news\n",
    "con = psycopg2.connect(database='postgres', user='postgres',password='postgres',host=\"127.0.0.1\", port=\"5432\")\n",
    "cur = con.cursor()\n",
    "cur.execute('select count(id) from news')\n",
    "all_news=cur.fetchall()\n",
    "print(all_news[0][0],'news in total')\n",
    "cur.execute('select distinct(authors,domain,title,content,meta_description,meta_keywords,tags) from news')\n",
    "dis_news=cur.fetchall()\n",
    "print(len(dis_news),'news are distinct')"
   ]
  },
  {
   "cell_type": "markdown",
   "metadata": {
    "id": "o85atPGFNOQB"
   },
   "source": [
    "We loaded 999934 news in total, and there are 904911 distinct news.  \n",
    "\n",
    "\n",
    "Now we delete duplicate news."
   ]
  },
  {
   "cell_type": "code",
   "execution_count": null,
   "metadata": {},
   "outputs": [],
   "source": [
    "# count each type\n",
    "con = psycopg2.connect(database='postgres', user='postgres',password='postgres',host=\"127.0.0.1\", port=\"5432\")\n",
    "cur = con.cursor()\n",
    "cur.execute('select type, count(type) from news group by type order by type')\n",
    "count_type = pd.DataFrame(cur.fetchall(), columns=['type', 'count'])"
   ]
  },
  {
   "cell_type": "code",
   "execution_count": 13,
   "metadata": {},
   "outputs": [
    {
     "output_type": "stream",
     "name": "stdout",
     "text": [
      "95023 dup news are removed\n"
     ]
    }
   ],
   "source": [
    "# remove dup news\n",
    "con = psycopg2.connect(database='postgres', user='postgres',password='postgres',host=\"127.0.0.1\", port=\"5432\")\n",
    "cur = con.cursor()\n",
    "cur.execute('delete from news n where n.id = any(array (select id from (select row_number() over (partition by  authors,domain,title,content,meta_description,meta_keywords,tags), id from news) t where t.row_number > 1))')\n",
    "cur.execute('select count(id) from news')\n",
    "removed_news=cur.fetchall()\n",
    "con.commit()\n",
    "con.close\n",
    "print(all_news[0][0]-removed_news[0][0],'dup news are removed')"
   ]
  },
  {
   "cell_type": "code",
   "execution_count": 14,
   "metadata": {},
   "outputs": [
    {
     "output_type": "execute_result",
     "data": {
      "text/plain": [
       "          type   count  after removed  Subtracted  Subtracted %\n",
       "0         bias  136381         124074       12307      9.023984\n",
       "1    clickbait   21723          20917         806      3.710353\n",
       "2   conspiracy  109793          76658       33135     30.179520\n",
       "3         fake  123929         121772        2157      1.740513\n",
       "4         hate    3619           3567          52      1.436861\n",
       "5      junksci   17408          15029        2379     13.666131\n",
       "6    political  289666         258215       31451     10.857677\n",
       "7     reliable    6601           5417        1184     17.936676\n",
       "8        rumor   46524          46466          58      0.124667\n",
       "9       satire   14263          14252          11      0.077123\n",
       "10     unknown   47413          40765        6648     14.021471\n",
       "11  unreliable  141614         139659        1955      1.380513"
      ],
      "text/html": "<div>\n<style scoped>\n    .dataframe tbody tr th:only-of-type {\n        vertical-align: middle;\n    }\n\n    .dataframe tbody tr th {\n        vertical-align: top;\n    }\n\n    .dataframe thead th {\n        text-align: right;\n    }\n</style>\n<table border=\"1\" class=\"dataframe\">\n  <thead>\n    <tr style=\"text-align: right;\">\n      <th></th>\n      <th>type</th>\n      <th>count</th>\n      <th>after removed</th>\n      <th>Subtracted</th>\n      <th>Subtracted %</th>\n    </tr>\n  </thead>\n  <tbody>\n    <tr>\n      <th>0</th>\n      <td>bias</td>\n      <td>136381</td>\n      <td>124074</td>\n      <td>12307</td>\n      <td>9.023984</td>\n    </tr>\n    <tr>\n      <th>1</th>\n      <td>clickbait</td>\n      <td>21723</td>\n      <td>20917</td>\n      <td>806</td>\n      <td>3.710353</td>\n    </tr>\n    <tr>\n      <th>2</th>\n      <td>conspiracy</td>\n      <td>109793</td>\n      <td>76658</td>\n      <td>33135</td>\n      <td>30.179520</td>\n    </tr>\n    <tr>\n      <th>3</th>\n      <td>fake</td>\n      <td>123929</td>\n      <td>121772</td>\n      <td>2157</td>\n      <td>1.740513</td>\n    </tr>\n    <tr>\n      <th>4</th>\n      <td>hate</td>\n      <td>3619</td>\n      <td>3567</td>\n      <td>52</td>\n      <td>1.436861</td>\n    </tr>\n    <tr>\n      <th>5</th>\n      <td>junksci</td>\n      <td>17408</td>\n      <td>15029</td>\n      <td>2379</td>\n      <td>13.666131</td>\n    </tr>\n    <tr>\n      <th>6</th>\n      <td>political</td>\n      <td>289666</td>\n      <td>258215</td>\n      <td>31451</td>\n      <td>10.857677</td>\n    </tr>\n    <tr>\n      <th>7</th>\n      <td>reliable</td>\n      <td>6601</td>\n      <td>5417</td>\n      <td>1184</td>\n      <td>17.936676</td>\n    </tr>\n    <tr>\n      <th>8</th>\n      <td>rumor</td>\n      <td>46524</td>\n      <td>46466</td>\n      <td>58</td>\n      <td>0.124667</td>\n    </tr>\n    <tr>\n      <th>9</th>\n      <td>satire</td>\n      <td>14263</td>\n      <td>14252</td>\n      <td>11</td>\n      <td>0.077123</td>\n    </tr>\n    <tr>\n      <th>10</th>\n      <td>unknown</td>\n      <td>47413</td>\n      <td>40765</td>\n      <td>6648</td>\n      <td>14.021471</td>\n    </tr>\n    <tr>\n      <th>11</th>\n      <td>unreliable</td>\n      <td>141614</td>\n      <td>139659</td>\n      <td>1955</td>\n      <td>1.380513</td>\n    </tr>\n  </tbody>\n</table>\n</div>"
     },
     "metadata": {},
     "execution_count": 14
    }
   ],
   "source": [
    "# count types after removed dup news\n",
    "con = psycopg2.connect(database='postgres', user='postgres',password='postgres',host=\"127.0.0.1\", port=\"5432\")\n",
    "cur = con.cursor()\n",
    "cur.execute('select type, count(type) from news group by type order by type')\n",
    "count_after = pd.DataFrame(cur.fetchall(), columns=['type', 'after removed'])\n",
    "count_type['after removed']=count_after[['after removed']]\n",
    "count_type['Subtracted']=count_type.apply(lambda x: x['count'] - x['after removed'], axis=1)\n",
    "count_type=count_type.drop(index=12)\n",
    "count_type['Subtracted %']=count_type.apply(lambda x: 100*x['Subtracted']/x['count'], axis=1)\n",
    "count_type"
   ]
  },
  {
   "cell_type": "code",
   "execution_count": null,
   "metadata": {},
   "outputs": [],
   "source": [
    "# 其实重复新闻也不一定是“假新闻”的特征，可能是之前的数据集不够大。"
   ]
  },
  {
   "cell_type": "markdown",
   "metadata": {
    "id": "hGS1tXLmYVvy"
   },
   "source": [
    "## **Task 1**"
   ]
  },
  {
   "cell_type": "markdown",
   "metadata": {
    "id": "rnJfm1Zy67-J"
   },
   "source": [
    "\n",
    "We found that  \n",
    "1. There are around one million news in dataset, but only 394 distinct doamins and 12 types.    \n",
    "2. One domain only contribuates to one type (unique), but one type has many domains.    \n",
    "3. Three dates (scraped_at,inserted_at,updated_at) are identical since we use `DATE` rather than `TIMESTAMP`.   \n",
    "4. Summary,source,keywords are NULL.\n",
    "\n",
    "We designed following shcema: \n"
   ]
  },
  {
   "cell_type": "markdown",
   "metadata": {
    "id": "ZuBmVLSSIdtl"
   },
   "source": [
    "![image.png](data:image/png;base64,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\n",
    ")"
   ]
  },
  {
   "source": [
    "### **1.1** Creat table `URL`"
   ],
   "cell_type": "markdown",
   "metadata": {}
  },
  {
   "cell_type": "code",
   "execution_count": null,
   "metadata": {},
   "outputs": [],
   "source": [
    "# creat table URL\n",
    "con = psycopg2.connect(database='postgres', user='postgres',password='postgres',host=\"127.0.0.1\", port=\"5432\")\n",
    "cur = con.cursor()\n",
    "cur.execute(\"DROP table IF EXISTS URL\")\n",
    "cur.execute(\"SELECT id,URL,domain into URL from news\")\n",
    "# rename id to url_id\n",
    "cur.execute('ALTER TABLE URL RENAME COLUMN id TO url_id')\n",
    "# insert domain_id\n",
    "cur.execute('ALTER TABLE URL ADD column d_id integer')\n",
    "cur.execute('UPDATE URL SET d_id = domain.d_id FROM domain WHERE URL.domain=domain.domain')\n",
    "cur.execute('ALTER TABLE URL DROP COLUMN domain')\n",
    "# set url_id as PK\n",
    "cur.execute('ALTER TABLE URL ADD PRIMARY KEY (url_id)')\n",
    "con.commit()"
   ]
  },
  {
   "cell_type": "markdown",
   "metadata": {
    "id": "98BrOJLAcSyd"
   },
   "source": [
    "### **1.2** Creat table `domain`"
   ]
  },
  {
   "cell_type": "code",
   "execution_count": 15,
   "metadata": {
    "colab": {
     "base_uri": "https://localhost:8080/"
    },
    "id": "bTV-1Pywcyun",
    "outputId": "af272e52-2e5c-4156-9718-25d45ed1ed37"
   },
   "outputs": [],
   "source": [
    "# creat table domain\n",
    "con = psycopg2.connect(database='postgres', user='postgres',password='postgres',host=\"127.0.0.1\", port=\"5432\")\n",
    "cur = con.cursor()\n",
    "cur.execute(\"DROP table IF EXISTS domain\")\n",
    "cur.execute(\"SELECT id,domain into domain from news;\")\n",
    "# delete dup domains\n",
    "cur.execute('delete from domain d where d.id not in (select min(id) from domain group by domain)')\n",
    "# drop id\n",
    "cur.execute('ALTER TABLE domain DROP COLUMN id')\n",
    "# gen domain_id\n",
    "cur.execute('ALTER TABLE domain add COLUMN d_id SERIAL UNIQUE')\n",
    "# set domain as PK\n",
    "cur.execute('ALTER TABLE domain ADD PRIMARY KEY(d_id)')\n",
    "con.commit()"
   ]
  },
  {
   "cell_type": "markdown",
   "metadata": {
    "id": "DuBaA-A5caTi"
   },
   "source": [
    "### **1.3** Creat table `date`"
   ]
  },
  {
   "cell_type": "code",
   "execution_count": 16,
   "metadata": {
    "colab": {
     "base_uri": "https://localhost:8080/"
    },
    "id": "cSZBZDEVhsgL",
    "outputId": "0e1498fc-063c-41ca-ad88-e2de31f9d073"
   },
   "outputs": [],
   "source": [
    "# creat table date\n",
    "con = psycopg2.connect(database='postgres', user='postgres',password='postgres',host=\"127.0.0.1\", port=\"5432\")\n",
    "cur = con.cursor()\n",
    "cur.execute(\"DROP table IF EXISTS date\")\n",
    "cur.execute(\"SELECT id,inserted_at,updated_at into date from news\")\n",
    "# delete dup date\n",
    "cur.execute('delete from date d where d.id not in (select min(id) from date group by scraped_at,inserted_at,updated_at)')\n",
    "# add date_id\n",
    "cur.execute('ALTER TABLE date DROP COLUMN id')\n",
    "cur.execute('CREATE SEQUENCE date_id')\n",
    "cur.execute(\"ALTER TABLE date ADD COLUMN date_id integer NOT NULL DEFAULT nextval('date_id')\")\n",
    "cur.execute('ALTER SEQUENCE date_id OWNED BY date.date_id')\n",
    "# set date_id as PK\n",
    "cur.execute('ALTER TABLE date ADD PRIMARY KEY (date_id)')\n",
    "con.commit()"
   ]
  },
  {
   "cell_type": "markdown",
   "metadata": {
    "id": "-jC_oU8lwfd8"
   },
   "source": [
    "### **1.4** Creat table `article`"
   ]
  },
  {
   "cell_type": "code",
   "execution_count": 17,
   "metadata": {
    "colab": {
     "base_uri": "https://localhost:8080/"
    },
    "id": "A4h2w_w9AFEp",
    "outputId": "37d96226-e7d5-4d1f-97c8-e3342af577ed"
   },
   "outputs": [],
   "source": [
    "# ctable article\n",
    "con = psycopg2.connect(database='postgres', user='postgres',password='postgres',host=\"127.0.0.1\", port=\"5432\")\n",
    "cur = con.cursor()\n",
    "cur.execute(\"DROP table IF EXISTS article\")\n",
    "cur.execute(\"SELECT id,title,content,scraped_at,inserted_at,updated_at,meta_keywords,meta_description,tags into article from news\")\n",
    "# insert date_id\n",
    "cur.execute('ALTER TABLE article ADD column date_id integer')\n",
    "cur.execute('UPDATE article SET date_id = date.date_id FROM date WHERE article.scraped_at=date.scraped_at and article.inserted_at=date.inserted_at and article.updated_at=date.updated_at')\n",
    "cur.execute('ALTER TABLE article DROP COLUMN scraped_at,DROP COLUMN inserted_at,DROP COLUMN updated_at')\n",
    "# set id as PK\n",
    "cur.execute('ALTER TABLE article ADD PRIMARY KEY (id)')\n",
    "# set date_id as FK\n",
    "cur.execute('ALTER TABLE article ADD CONSTRAINT fk_date FOREIGN KEY (date_id) REFERENCES date(date_id)')\n",
    "con.commit()"
   ]
  },
  {
   "source": [
    "### **1.5** Creat table `from_where`"
   ],
   "cell_type": "markdown",
   "metadata": {}
  },
  {
   "cell_type": "code",
   "execution_count": null,
   "metadata": {},
   "outputs": [],
   "source": [
    "# creat table from_where\n",
    "con = psycopg2.connect(database='postgres', user='postgres',password='postgres',host=\"127.0.0.1\", port=\"5432\")\n",
    "cur = con.cursor()\n",
    "cur.execute(\"DROP table IF EXISTS from_where\")\n",
    "cur.execute(\"SELECT id into from_where from news;\")\n",
    "cur.execute('ALTER TABLE from_where ADD column url_id integer')\n",
    "cur.execute('UPDATE from_where set url_id=id;')\n",
    "# set FK\n",
    "cur.execute('ALTER TABLE from_where ADD CONSTRAINT fk_fromurlid FOREIGN KEY (url_id) REFERENCES URL(url_id)')\n",
    "cur.execute('ALTER TABLE from_where ADD CONSTRAINT fk_fromartid FOREIGN KEY (id) REFERENCES article(id)')\n",
    "con.commit()"
   ]
  },
  {
   "source": [
    "### **1.6** Creat table `type`"
   ],
   "cell_type": "markdown",
   "metadata": {}
  },
  {
   "cell_type": "code",
   "execution_count": null,
   "metadata": {},
   "outputs": [],
   "source": [
    "# creat table types\n",
    "con = psycopg2.connect(database='postgres', user='postgres',password='postgres',host=\"127.0.0.1\", port=\"5432\")\n",
    "cur = con.cursor()\n",
    "cur.execute(\"DROP table IF EXISTS types\")\n",
    "cur.execute(\"SELECT id,type into types from news\")\n",
    "# delete dup type\n",
    "cur.execute('delete from types t where t.id not in (select min(id) from types group by type)')\n",
    "# add date_id\n",
    "cur.execute('ALTER TABLE types DROP COLUMN id')\n",
    "cur.execute('CREATE SEQUENCE type_id')\n",
    "cur.execute(\"ALTER TABLE types ADD COLUMN type_id integer NOT NULL DEFAULT nextval('type_id')\")\n",
    "cur.execute('ALTER SEQUENCE type_id OWNED BY types.type_id')\n",
    "# set date_id as PK\n",
    "cur.execute('ALTER TABLE types ADD PRIMARY KEY (type_id)')\n",
    "con.commit()"
   ]
  },
  {
   "source": [
    "### **1.7** Creat table `aut`"
   ],
   "cell_type": "markdown",
   "metadata": {}
  },
  {
   "cell_type": "code",
   "execution_count": null,
   "metadata": {},
   "outputs": [],
   "source": [
    "# creat table type\n",
    "con = psycopg2.connect(database='postgres', user='postgres',password='postgres',host=\"127.0.0.1\", port=\"5432\")\n",
    "cur = con.cursor()\n",
    "cur.execute(\"DROP table IF EXISTS aut\")\n",
    "cur.execute(\"SELECT id,authors into aut from news\")\n",
    "# delete dup authors\n",
    "cur.execute('delete from aut a where a.id not in (select min(id) from aut group by authors)')\n",
    "# drop id\n",
    "cur.execute('ALTER TABLE aut DROP COLUMN id')\n",
    "# gen aut_id\n",
    "cur.execute('ALTER TABLE aut add COLUMN aut_id SERIAL UNIQUE')\n",
    "# set domain as PK\n",
    "cur.execute('ALTER TABLE aut ADD PRIMARY KEY(aut_id)')\n",
    "con.commit()"
   ]
  },
  {
   "source": [
    "### **1.8** Creat table `w_by`"
   ],
   "cell_type": "markdown",
   "metadata": {}
  },
  {
   "cell_type": "code",
   "execution_count": null,
   "metadata": {},
   "outputs": [],
   "source": [
    "# creat table from_where\n",
    "con = psycopg2.connect(database='postgres', user='postgres',password='postgres',host=\"127.0.0.1\", port=\"5432\")\n",
    "cur = con.cursor()\n",
    "cur.execute(\"DROP table IF EXISTS w_by\")\n",
    "cur.execute(\"SELECT id,authors into w_by from news\")\n",
    "# insert aut_id\n",
    "cur.execute('ALTER TABLE w_by ADD column aut_id integer')\n",
    "cur.execute('UPDATE w_by SET aut_id = aut.aut_id FROM aut WHERE aut.authors=w_by.authors')\n",
    "cur.execute('ALTER TABLE w_by DROP COLUMN authors')\n",
    "# set FK\n",
    "cur.execute('ALTER TABLE w_by ADD CONSTRAINT fk_autid FOREIGN KEY (aut_id) REFERENCES aut(aut_id)')\n",
    "cur.execu   te('ALTER TABLE w_by ADD CONSTRAINT fk_artautid FOREIGN KEY (id) REFERENCES article(id)')\n",
    "con.commit()"
   ]
  },
  {
   "source": [
    "### **1.9** Creat table `is_type`"
   ],
   "cell_type": "markdown",
   "metadata": {}
  },
  {
   "cell_type": "code",
   "execution_count": null,
   "metadata": {},
   "outputs": [],
   "source": [
    "# creat table from_where\n",
    "con = psycopg2.connect(database='postgres', user='postgres',password='postgres',host=\"127.0.0.1\", port=\"5432\")\n",
    "cur = con.cursor()\n",
    "cur.execute(\"DROP table IF EXISTS is_type\")\n",
    "cur.execute(\"SELECT id,type into is_type from news\")\n",
    "# insert type_id\n",
    "cur.execute('ALTER TABLE is_type ADD column type_id integer')\n",
    "cur.execute('UPDATE is_type SET type_id = types.type_id FROM types WHERE is_type.type=types.type')\n",
    "cur.execute('ALTER TABLE is_type DROP COLUMN type')\n",
    "# set FK\n",
    "cur.execute('ALTER TABLE is_type ADD CONSTRAINT fk_typeid FOREIGN KEY (type_id) REFERENCES types(type_id)')\n",
    "cur.execute('ALTER TABLE is_type ADD CONSTRAINT fk_arttypeid FOREIGN KEY (id) REFERENCES article(id)')\n",
    "con.commit()"
   ]
  },
  {
   "cell_type": "markdown",
   "metadata": {
    "id": "zLsxnwdAYeKv"
   },
   "source": [
    "## **Task 2** (To be done)\n",
    "\n",
    "List the relations you have created in your database. For each relation:\n",
    "\n",
    "1. list its attributes.  \n",
    "2. list its functional dependencies.  \n",
    "3. list all the primary keys.  \n",
    "\n",
    "Is each relation in BCNF form? If not, show how to transform the tables in BCNF and explain why it might be better (or not) to use the BCNF relations in your database.\n",
    "\n"
   ]
  },
  {
   "cell_type": "markdown",
   "metadata": {
    "id": "oyyEyyXoGUmX"
   },
   "source": [
    "## **Task 3**\n",
    "\n",
    "**1. List the domains of news articles of reliable type and scraped at or after January 15, 2018. NOTE: Do not include duplicate domains in your answer.** \n",
    "\n",
    "Relational algebra NEED UPDATE:  \n",
    "$\\textbf{π}_{domain}\\textbf{σ}_{type=reliable ∧ scraped\\_at>=2018-01-25}(domain⋈article⋈date).$  \n",
    "\n",
    "SQL:\n",
    "```\n",
    "SELECT DISTINCT domain_name\n",
    " FROM ((domain INNER JOIN URL USING(d_id))\n",
    " INNER JOIN from_where USING(URL_id))\n",
    " INNER JOIN article USING(id)\n",
    " WHERE id IN (\n",
    "   SELECT id\n",
    "   FROM ((article INNER JOIN is_type USING(id))\n",
    "   INNER JOIN types USING (type_id))\n",
    "   INNER JOIN date using (date_id)\n",
    "   WHERE type = 'reliable' and scraped_at>='2018-01-25'\n",
    " )\n",
    "```\n",
    "\n",
    "\n",
    "\n",
    "\n",
    "\n",
    "\n"
   ]
  },
  {
   "cell_type": "code",
   "execution_count": 2,
   "metadata": {
    "colab": {
     "base_uri": "https://localhost:8080/"
    },
    "id": "-Wefdqv5FZ53",
    "outputId": "b2c5bd8f-e62c-4d68-b07e-68dc3cb99f0d"
   },
   "outputs": [
    {
     "output_type": "stream",
     "name": "stdout",
     "text": [
      "nutritionfacts.org\nchristianpost.com\nconsortiumnews.com\n"
     ]
    }
   ],
   "source": [
    "con = psycopg2.connect(database='postgres', user='postgres',password='postgres',host=\"127.0.0.1\", port=\"5432\")\n",
    "cur = con.cursor()\n",
    "cur.execute(\"SELECT DISTINCT domain_name FROM ((domain INNER JOIN URL USING(d_id)) INNER JOIN from_where USING(URL_id)) INNER JOIN article USING(id) WHERE id IN (SELECT id FROM ((article INNER JOIN is_type USING(id)) INNER JOIN types USING (type_id)) INNER JOIN date using (date_id) WHERE type = 'reliable' and scraped_at>='2018-01-25')\")\n",
    "for i in cur.fetchall():\n",
    "  print(i[0])"
   ]
  },
  {
   "cell_type": "markdown",
   "metadata": {
    "id": "adfpmTlQG-ji"
   },
   "source": [
    "\n",
    "**2. List the name(s) of the most prolific author(s) of news articles of fake type. An author is among the most prolific if it has authored as many or more fake news articles as any other author in the dataset.**\n",
    "\n",
    "Relational algebra NEED UPDATE:   \n",
    "$\\textbf{π}_{MAX(mycount)→max\\_aut}\\textbf{σ}(\\textbf{π}_{mycount}(\\textbf{γ}_{authors,COUNT(authors)→mycount}(\\textbf{σ}_{type=fake}(article×domain)))),$ \n",
    "$\\textbf{π}_{authors}(\\textbf{σ}_{COUNT(authors)=max\\_aut}(\\textbf{γ}_{authors}(\\textbf{σ}_{type=fake}(article×domain)))).$ \n",
    "\n",
    "SQL:\n",
    "```\n",
    "SELECT authors \n",
    "FROM ((aut INNER JOIN w_by USING(aut_id))\n",
    "INNER JOIN article USING(id)\n",
    "INNER JOIN is_type USING(id))\n",
    "INNER JOIN types USING(type_id)\n",
    "WHERE type = 'fake' \n",
    "GROUP BY authors\n",
    "HAVING COUNT(authors)=(\n",
    "  SELECT COUNT(authors) as mycount \n",
    "  FROM ((aut INNER JOIN w_by USING(aut_id))\n",
    "  INNER JOIN article USING(id)\n",
    "  INNER JOIN is_type USING(id))\n",
    "  INNER JOIN types USING(type_id)\n",
    "  WHERE type = 'fake' \n",
    "  GROUP BY authors \n",
    "  ORDER BY mycount desc limit 1\n",
    ")\n",
    "```\n",
    "\n"
   ]
  },
  {
   "cell_type": "code",
   "execution_count": 4,
   "metadata": {
    "colab": {
     "base_uri": "https://localhost:8080/"
    },
    "id": "xUSHfpV0KkIL",
    "outputId": "fd310e9f-85ff-48b7-b2fc-91693247a1be"
   },
   "outputs": [
    {
     "output_type": "stream",
     "name": "stdout",
     "text": [
      "John Rolls\n"
     ]
    }
   ],
   "source": [
    "con = psycopg2.connect(database='postgres', user='postgres',password='postgres',host=\"127.0.0.1\", port=\"5432\")\n",
    "cur = con.cursor()\n",
    "cur.execute(\"SELECT authors FROM ((aut INNER JOIN w_by USING(aut_id)) INNER JOIN article USING(id) INNER JOIN is_type USING(id)) INNER JOIN types USING(type_id) WHERE type = 'fake' GROUP BY authors HAVING COUNT(authors)=(SELECT COUNT(authors) as mycount FROM ((aut INNER JOIN w_by USING(aut_id)) INNER JOIN article USING(id) INNER JOIN is_type USING(id)) INNER JOIN types USING(type_id) WHERE type = 'fake' GROUP BY authors ORDER BY mycount desc limit 1)\")\n",
    "print(cur.fetchall()[0][0])"
   ]
  },
  {
   "cell_type": "markdown",
   "metadata": {
    "id": "Z2R8Y2OZHOJP"
   },
   "source": [
    "**3. Count the pairs of article IDs that exhibit the exact same set of meta-keywords, but only return the pairs where the set of meta-keywords is not empty.** *Language: SQL*\n",
    "```\n",
    "SELECT a1.id, a2.id, a1.meta_keywords  \n",
    "FROM article a1  \n",
    "JOIN article a2  \n",
    "ON a1.meta_keywords = a2.meta_keywords AND a1.id != a2.id   \n",
    "WHERE char_length(a1.meta_keywords)>4 AND char_length(a2.meta_keywords)>4  \n",
    "group by a1.id, a2.id, a1.meta_keywords  \n",
    "LIMIT 100\n",
    "```\n",
    "Since there are too many results, we only print first 100 pairs."
   ]
  },
  {
   "cell_type": "code",
   "execution_count": 5,
   "metadata": {
    "colab": {
     "base_uri": "https://localhost:8080/"
    },
    "id": "qC9Dv5BlJQeq",
    "outputId": "9b03c562-d305-4deb-b071-271a876dcd6e"
   },
   "outputs": [
    {
     "output_type": "execute_result",
     "data": {
      "text/plain": [
       "    id 1    id 2                                      meta_keywords\n",
       "0     19  813075  ['planned parenthood', 'minorities', 'black cu...\n",
       "1     19  813090  ['planned parenthood', 'minorities', 'black cu...\n",
       "2     19  813091  ['planned parenthood', 'minorities', 'black cu...\n",
       "3     19  813092  ['planned parenthood', 'minorities', 'black cu...\n",
       "4     19  813093  ['planned parenthood', 'minorities', 'black cu...\n",
       "..   ...     ...                                                ...\n",
       "95   109    5146    ['Conservative News', 'Conservative Newspaper']\n",
       "96   109    5147    ['Conservative News', 'Conservative Newspaper']\n",
       "97   109    5148    ['Conservative News', 'Conservative Newspaper']\n",
       "98   109    5149    ['Conservative News', 'Conservative Newspaper']\n",
       "99   109    5150    ['Conservative News', 'Conservative Newspaper']\n",
       "\n",
       "[100 rows x 3 columns]"
      ],
      "text/html": "<div>\n<style scoped>\n    .dataframe tbody tr th:only-of-type {\n        vertical-align: middle;\n    }\n\n    .dataframe tbody tr th {\n        vertical-align: top;\n    }\n\n    .dataframe thead th {\n        text-align: right;\n    }\n</style>\n<table border=\"1\" class=\"dataframe\">\n  <thead>\n    <tr style=\"text-align: right;\">\n      <th></th>\n      <th>id 1</th>\n      <th>id 2</th>\n      <th>meta_keywords</th>\n    </tr>\n  </thead>\n  <tbody>\n    <tr>\n      <th>0</th>\n      <td>19</td>\n      <td>813075</td>\n      <td>['planned parenthood', 'minorities', 'black cu...</td>\n    </tr>\n    <tr>\n      <th>1</th>\n      <td>19</td>\n      <td>813090</td>\n      <td>['planned parenthood', 'minorities', 'black cu...</td>\n    </tr>\n    <tr>\n      <th>2</th>\n      <td>19</td>\n      <td>813091</td>\n      <td>['planned parenthood', 'minorities', 'black cu...</td>\n    </tr>\n    <tr>\n      <th>3</th>\n      <td>19</td>\n      <td>813092</td>\n      <td>['planned parenthood', 'minorities', 'black cu...</td>\n    </tr>\n    <tr>\n      <th>4</th>\n      <td>19</td>\n      <td>813093</td>\n      <td>['planned parenthood', 'minorities', 'black cu...</td>\n    </tr>\n    <tr>\n      <th>...</th>\n      <td>...</td>\n      <td>...</td>\n      <td>...</td>\n    </tr>\n    <tr>\n      <th>95</th>\n      <td>109</td>\n      <td>5146</td>\n      <td>['Conservative News', 'Conservative Newspaper']</td>\n    </tr>\n    <tr>\n      <th>96</th>\n      <td>109</td>\n      <td>5147</td>\n      <td>['Conservative News', 'Conservative Newspaper']</td>\n    </tr>\n    <tr>\n      <th>97</th>\n      <td>109</td>\n      <td>5148</td>\n      <td>['Conservative News', 'Conservative Newspaper']</td>\n    </tr>\n    <tr>\n      <th>98</th>\n      <td>109</td>\n      <td>5149</td>\n      <td>['Conservative News', 'Conservative Newspaper']</td>\n    </tr>\n    <tr>\n      <th>99</th>\n      <td>109</td>\n      <td>5150</td>\n      <td>['Conservative News', 'Conservative Newspaper']</td>\n    </tr>\n  </tbody>\n</table>\n<p>100 rows × 3 columns</p>\n</div>"
     },
     "metadata": {},
     "execution_count": 5
    }
   ],
   "source": [
    "con = psycopg2.connect(database='postgres', user='postgres',password='postgres',host=\"127.0.0.1\", port=\"5432\")\n",
    "cur = con.cursor()\n",
    "cur.execute(\"SELECT a1.id, a2.id, a1.meta_keywords FROM article a1 JOIN article a2 ON a1.meta_keywords = a2.meta_keywords AND a1.id != a2.id AND char_length(a1.meta_keywords)>4 AND char_length(a2.meta_keywords)>4 group by a1.id, a2.id, a1.meta_keywords limit 100\")\n",
    "pairs = pd.DataFrame(cur.fetchall(), columns=['id 1', 'id 2','meta_keywords'])\n",
    "pairs"
   ]
  },
  {
   "cell_type": "markdown",
   "metadata": {
    "id": "nW74ovxCU1o-"
   },
   "source": [
    "## **Task 4** (To be done)\n",
    "\n",
    "Now that we have our data in a database, let’s revisit the “interesting observations” task from Milestone 1 - but now using queries to the database. The idea is to write database queries (e.g. using GROUP BY and COUNT) that explore features of the data set that are relevant to the fake news prediction task: outliers, artefacts. It’s OK to investigate the same issues as in Milestone 1 (now using database queries) - but you are also very welcome to come up with completely new queries. You should write at least 3 such queries."
   ]
  },
  {
   "cell_type": "code",
   "execution_count": 8,
   "metadata": {
    "colab": {
     "base_uri": "https://localhost:8080/"
    },
    "id": "uCoqWJcEr7pn",
    "outputId": "3b0dbba4-43fa-4350-b2d9-f45c8de9a160"
   },
   "outputs": [
    {
     "name": "stdout",
     "output_type": "stream",
     "text": [
      "All 'scraped_at', 'inserted_at' and 'updated_at' of news are identical\n"
     ]
    },
    {
     "data": {
      "text/plain": [
       "<function connection.close>"
      ]
     },
     "execution_count": 8,
     "metadata": {
      "tags": []
     },
     "output_type": "execute_result"
    }
   ],
   "source": [
    "con = psycopg2.connect(database='postgres', user='postgres',password='postgres',host=\"127.0.0.1\", port=\"5432\")\n",
    "cur = con.cursor()\n",
    "# Are 'scraped_at', 'inserted_at' and 'updated_at' identical?\n",
    "cur.execute('SELECT DISTINCT scraped_at, inserted_at, updated_at FROM news')\n",
    "if len(cur.fetchall())==1:\n",
    "  print(\"All 'scraped_at', 'inserted_at' and 'updated_at' of news are identical\")"
   ]
  },
  {
   "cell_type": "code",
   "execution_count": 8,
   "metadata": {
    "colab": {
     "base_uri": "https://localhost:8080/"
    },
    "id": "DjDujoqPp27Y",
    "outputId": "87fc15a6-015a-434d-e355-2d20e7fca696"
   },
   "outputs": [
    {
     "name": "stdout",
     "output_type": "stream",
     "text": [
      "457564 rows in 'authors' are null.\n"
     ]
    },
    {
     "data": {
      "text/plain": [
       "<function connection.close>"
      ]
     },
     "execution_count": 8,
     "metadata": {
      "tags": []
     },
     "output_type": "execute_result"
    }
   ],
   "source": [
    "con = psycopg2.connect(database='postgres', user='postgres',password='postgres',host=\"127.0.0.1\", port=\"5432\")\n",
    "cur = con.cursor()\n",
    "# does 'authors' has NULL?\n",
    "cur.execute('select count(id) from news where authors IS NULL')\n",
    "null_rows = cur.fetchall()\n",
    "if null_rows!=[]:\n",
    "  print(null_rows[0][0],\"rows in 'authors' are null.\")"
   ]
  },
  {
   "cell_type": "code",
   "execution_count": 39,
   "metadata": {
    "colab": {
     "base_uri": "https://localhost:8080/"
    },
    "id": "zuDPwcwVmP3P",
    "outputId": "24437c4e-8db8-4700-ab73-38a2ae9d5e7f"
   },
   "outputs": [
    {
     "output_type": "stream",
     "name": "stdout",
     "text": [
      "One domain only has one type.\n"
     ]
    },
    {
     "output_type": "execute_result",
     "data": {
      "text/plain": [
       "<function connection.close>"
      ]
     },
     "metadata": {},
     "execution_count": 39
    }
   ],
   "source": [
    "# Does one domain only has one type?\n",
    "con = psycopg2.connect(database='postgres', user='postgres',password='postgres',host=\"127.0.0.1\", port=\"5432\")\n",
    "cur = con.cursor()\n",
    "cur.execute('select distinct domain, count(distinct type) from news group by domain having count( distinct type)>1 order by domain')\n",
    "if cur.fetchall()==[]:\n",
    "  print(\"One domain only has one type.\")\n",
    "con.close"
   ]
  }
 ],
 "metadata": {
  "colab": {
   "name": "Untitled-1.ipynb",
   "provenance": []
  },
  "kernelspec": {
   "display_name": "Python 3",
   "language": "python",
   "name": "python3"
  },
  "language_info": {
   "codemirror_mode": {
    "name": "ipython",
    "version": 3
   },
   "file_extension": ".py",
   "mimetype": "text/x-python",
   "name": "python",
   "nbconvert_exporter": "python",
   "pygments_lexer": "ipython3",
   "version": "3.8.5"
  },
  "toc": {
   "base_numbering": 1,
   "nav_menu": {},
   "number_sections": true,
   "sideBar": true,
   "skip_h1_title": false,
   "title_cell": "Table of Contents",
   "title_sidebar": "Contents",
   "toc_cell": false,
   "toc_position": {},
   "toc_section_display": true,
   "toc_window_display": false
  },
  "varInspector": {
   "cols": {
    "lenName": 16,
    "lenType": 16,
    "lenVar": 40
   },
   "kernels_config": {
    "python": {
     "delete_cmd_postfix": "",
     "delete_cmd_prefix": "del ",
     "library": "var_list.py",
     "varRefreshCmd": "print(var_dic_list())"
    },
    "r": {
     "delete_cmd_postfix": ") ",
     "delete_cmd_prefix": "rm(",
     "library": "var_list.r",
     "varRefreshCmd": "cat(var_dic_list()) "
    }
   },
   "types_to_exclude": [
    "module",
    "function",
    "builtin_function_or_method",
    "instance",
    "_Feature"
   ],
   "window_display": false
  }
 },
 "nbformat": 4,
 "nbformat_minor": 1
}