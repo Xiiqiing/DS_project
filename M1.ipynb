{
  "nbformat": 4,
  "nbformat_minor": 0,
  "metadata": {
    "colab": {
      "name": "M1",
      "provenance": []
    },
    "kernelspec": {
      "name": "python3",
      "display_name": "Python 3"
    }
  },
  "cells": [
    {
      "cell_type": "code",
      "metadata": {
        "id": "Q7XknU2TYrmk"
      },
      "source": [
        "import pandas as pd"
      ],
      "execution_count": 114,
      "outputs": []
    },
    {
      "cell_type": "code",
      "metadata": {
        "colab": {
          "base_uri": "https://localhost:8080/"
        },
        "id": "pgOmOoJxZk7B",
        "outputId": "da0bfa4e-81df-443b-c060-280ac1e735a0"
      },
      "source": [
        "news = pd.read_csv(\"https://raw.githubusercontent.com/several27/FakeNewsCorpus/master/news_sample.csv\", index_col = 0)\r\n",
        "news.shape"
      ],
      "execution_count": 115,
      "outputs": [
        {
          "output_type": "execute_result",
          "data": {
            "text/plain": [
              "(250, 15)"
            ]
          },
          "metadata": {
            "tags": []
          },
          "execution_count": 115
        }
      ]
    },
    {
      "cell_type": "code",
      "metadata": {
        "colab": {
          "base_uri": "https://localhost:8080/",
          "height": 471
        },
        "id": "5HV-jAQlaQ7i",
        "outputId": "5a8826c0-40c8-43b6-fed5-a798bb84437a"
      },
      "source": [
        "news.head()"
      ],
      "execution_count": 116,
      "outputs": [
        {
          "output_type": "execute_result",
          "data": {
            "text/html": [
              "<div>\n",
              "<style scoped>\n",
              "    .dataframe tbody tr th:only-of-type {\n",
              "        vertical-align: middle;\n",
              "    }\n",
              "\n",
              "    .dataframe tbody tr th {\n",
              "        vertical-align: top;\n",
              "    }\n",
              "\n",
              "    .dataframe thead th {\n",
              "        text-align: right;\n",
              "    }\n",
              "</style>\n",
              "<table border=\"1\" class=\"dataframe\">\n",
              "  <thead>\n",
              "    <tr style=\"text-align: right;\">\n",
              "      <th></th>\n",
              "      <th>id</th>\n",
              "      <th>domain</th>\n",
              "      <th>type</th>\n",
              "      <th>url</th>\n",
              "      <th>content</th>\n",
              "      <th>scraped_at</th>\n",
              "      <th>inserted_at</th>\n",
              "      <th>updated_at</th>\n",
              "      <th>title</th>\n",
              "      <th>authors</th>\n",
              "      <th>keywords</th>\n",
              "      <th>meta_keywords</th>\n",
              "      <th>meta_description</th>\n",
              "      <th>tags</th>\n",
              "      <th>summary</th>\n",
              "    </tr>\n",
              "  </thead>\n",
              "  <tbody>\n",
              "    <tr>\n",
              "      <th>0</th>\n",
              "      <td>141</td>\n",
              "      <td>awm.com</td>\n",
              "      <td>unreliable</td>\n",
              "      <td>http://awm.com/church-congregation-brings-gift...</td>\n",
              "      <td>Sometimes the power of Christmas will make you...</td>\n",
              "      <td>2018-01-25 16:17:44.789555</td>\n",
              "      <td>2018-02-02 01:19:41.756632</td>\n",
              "      <td>2018-02-02 01:19:41.756664</td>\n",
              "      <td>Church Congregation Brings Gift to Waitresses ...</td>\n",
              "      <td>Ruth Harris</td>\n",
              "      <td>NaN</td>\n",
              "      <td>['']</td>\n",
              "      <td>NaN</td>\n",
              "      <td>NaN</td>\n",
              "      <td>NaN</td>\n",
              "    </tr>\n",
              "    <tr>\n",
              "      <th>1</th>\n",
              "      <td>256</td>\n",
              "      <td>beforeitsnews.com</td>\n",
              "      <td>fake</td>\n",
              "      <td>http://beforeitsnews.com/awakening-start-here/...</td>\n",
              "      <td>AWAKENING OF 12 STRANDS of DNA – “Reconnecting...</td>\n",
              "      <td>2018-01-25 16:17:44.789555</td>\n",
              "      <td>2018-02-02 01:19:41.756632</td>\n",
              "      <td>2018-02-02 01:19:41.756664</td>\n",
              "      <td>AWAKENING OF 12 STRANDS of DNA – “Reconnecting...</td>\n",
              "      <td>Zurich Times</td>\n",
              "      <td>NaN</td>\n",
              "      <td>['']</td>\n",
              "      <td>NaN</td>\n",
              "      <td>NaN</td>\n",
              "      <td>NaN</td>\n",
              "    </tr>\n",
              "    <tr>\n",
              "      <th>2</th>\n",
              "      <td>700</td>\n",
              "      <td>cnnnext.com</td>\n",
              "      <td>unreliable</td>\n",
              "      <td>http://www.cnnnext.com/video/18526/never-hike-...</td>\n",
              "      <td>Never Hike Alone: A Friday the 13th Fan Film U...</td>\n",
              "      <td>2018-01-25 16:17:44.789555</td>\n",
              "      <td>2018-02-02 01:19:41.756632</td>\n",
              "      <td>2018-02-02 01:19:41.756664</td>\n",
              "      <td>Never Hike Alone - A Friday the 13th Fan Film ...</td>\n",
              "      <td>NaN</td>\n",
              "      <td>NaN</td>\n",
              "      <td>['']</td>\n",
              "      <td>Never Hike Alone: A Friday the 13th Fan Film  ...</td>\n",
              "      <td>NaN</td>\n",
              "      <td>NaN</td>\n",
              "    </tr>\n",
              "    <tr>\n",
              "      <th>3</th>\n",
              "      <td>768</td>\n",
              "      <td>awm.com</td>\n",
              "      <td>unreliable</td>\n",
              "      <td>http://awm.com/elusive-alien-of-the-sea-caught...</td>\n",
              "      <td>When a rare shark was caught, scientists were ...</td>\n",
              "      <td>2018-01-25 16:17:44.789555</td>\n",
              "      <td>2018-02-02 01:19:41.756632</td>\n",
              "      <td>2018-02-02 01:19:41.756664</td>\n",
              "      <td>Elusive ‘Alien Of The Sea ‘ Caught By Scientis...</td>\n",
              "      <td>Alexander Smith</td>\n",
              "      <td>NaN</td>\n",
              "      <td>['']</td>\n",
              "      <td>NaN</td>\n",
              "      <td>NaN</td>\n",
              "      <td>NaN</td>\n",
              "    </tr>\n",
              "    <tr>\n",
              "      <th>4</th>\n",
              "      <td>791</td>\n",
              "      <td>bipartisanreport.com</td>\n",
              "      <td>clickbait</td>\n",
              "      <td>http://bipartisanreport.com/2018/01/21/trumps-...</td>\n",
              "      <td>Donald Trump has the unnerving ability to abil...</td>\n",
              "      <td>2018-01-25 16:17:44.789555</td>\n",
              "      <td>2018-02-02 01:19:41.756632</td>\n",
              "      <td>2018-02-02 01:19:41.756664</td>\n",
              "      <td>Trump’s Genius Poll Is Complete &amp; The Results ...</td>\n",
              "      <td>Gloria Christie</td>\n",
              "      <td>NaN</td>\n",
              "      <td>['']</td>\n",
              "      <td>NaN</td>\n",
              "      <td>NaN</td>\n",
              "      <td>NaN</td>\n",
              "    </tr>\n",
              "  </tbody>\n",
              "</table>\n",
              "</div>"
            ],
            "text/plain": [
              "    id                domain  ... tags summary\n",
              "0  141               awm.com  ...  NaN     NaN\n",
              "1  256     beforeitsnews.com  ...  NaN     NaN\n",
              "2  700           cnnnext.com  ...  NaN     NaN\n",
              "3  768               awm.com  ...  NaN     NaN\n",
              "4  791  bipartisanreport.com  ...  NaN     NaN\n",
              "\n",
              "[5 rows x 15 columns]"
            ]
          },
          "metadata": {
            "tags": []
          },
          "execution_count": 116
        }
      ]
    },
    {
      "cell_type": "code",
      "metadata": {
        "colab": {
          "base_uri": "https://localhost:8080/"
        },
        "id": "oImaWqlPaTC4",
        "outputId": "f5d44ca0-e9dc-41b7-d0a1-8f0851807db9"
      },
      "source": [
        "news.info()"
      ],
      "execution_count": 117,
      "outputs": [
        {
          "output_type": "stream",
          "text": [
            "<class 'pandas.core.frame.DataFrame'>\n",
            "Int64Index: 250 entries, 0 to 249\n",
            "Data columns (total 15 columns):\n",
            " #   Column            Non-Null Count  Dtype  \n",
            "---  ------            --------------  -----  \n",
            " 0   id                250 non-null    int64  \n",
            " 1   domain            250 non-null    object \n",
            " 2   type              238 non-null    object \n",
            " 3   url               250 non-null    object \n",
            " 4   content           250 non-null    object \n",
            " 5   scraped_at        250 non-null    object \n",
            " 6   inserted_at       250 non-null    object \n",
            " 7   updated_at        250 non-null    object \n",
            " 8   title             250 non-null    object \n",
            " 9   authors           170 non-null    object \n",
            " 10  keywords          0 non-null      float64\n",
            " 11  meta_keywords     250 non-null    object \n",
            " 12  meta_description  54 non-null     object \n",
            " 13  tags              27 non-null     object \n",
            " 14  summary           0 non-null      float64\n",
            "dtypes: float64(2), int64(1), object(12)\n",
            "memory usage: 31.2+ KB\n"
          ],
          "name": "stdout"
        }
      ]
    },
    {
      "cell_type": "code",
      "metadata": {
        "colab": {
          "base_uri": "https://localhost:8080/"
        },
        "id": "ce9iGp8UbSrl",
        "outputId": "fc25b898-a344-4571-a717-28866d3de913"
      },
      "source": [
        "news.groupby('type').size().sort_values(ascending = False)"
      ],
      "execution_count": 118,
      "outputs": [
        {
          "output_type": "execute_result",
          "data": {
            "text/plain": [
              "type\n",
              "fake          155\n",
              "conspiracy     31\n",
              "political      23\n",
              "unreliable      6\n",
              "unknown         6\n",
              "junksci         6\n",
              "bias            6\n",
              "reliable        3\n",
              "hate            1\n",
              "clickbait       1\n",
              "dtype: int64"
            ]
          },
          "metadata": {
            "tags": []
          },
          "execution_count": 118
        }
      ]
    },
    {
      "cell_type": "code",
      "metadata": {
        "colab": {
          "base_uri": "https://localhost:8080/"
        },
        "id": "raFatGdrdLz5",
        "outputId": "baad5370-d8b1-4e5a-aaff-6142a73cf204"
      },
      "source": [
        "# some news may same\r\n",
        "news.drop_duplicates('content', 'first', inplace = True)\r\n",
        "news.groupby('type').size().sort_values(ascending = False)"
      ],
      "execution_count": 119,
      "outputs": [
        {
          "output_type": "execute_result",
          "data": {
            "text/plain": [
              "type\n",
              "fake          146\n",
              "conspiracy     31\n",
              "political      22\n",
              "unreliable      6\n",
              "unknown         6\n",
              "bias            6\n",
              "junksci         5\n",
              "reliable        3\n",
              "hate            1\n",
              "clickbait       1\n",
              "dtype: int64"
            ]
          },
          "metadata": {
            "tags": []
          },
          "execution_count": 119
        }
      ]
    },
    {
      "cell_type": "code",
      "metadata": {
        "colab": {
          "base_uri": "https://localhost:8080/"
        },
        "id": "Afa3UiJ8dqSV",
        "outputId": "2198a71c-a641-4aa7-8a22-81b7e1b6b01c"
      },
      "source": [
        "news.columns"
      ],
      "execution_count": 120,
      "outputs": [
        {
          "output_type": "execute_result",
          "data": {
            "text/plain": [
              "Index(['id', 'domain', 'type', 'url', 'content', 'scraped_at', 'inserted_at',\n",
              "       'updated_at', 'title', 'authors', 'keywords', 'meta_keywords',\n",
              "       'meta_description', 'tags', 'summary'],\n",
              "      dtype='object')"
            ]
          },
          "metadata": {
            "tags": []
          },
          "execution_count": 120
        }
      ]
    },
    {
      "cell_type": "code",
      "metadata": {
        "colab": {
          "base_uri": "https://localhost:8080/",
          "height": 197
        },
        "id": "a6QP3Z6Cdqmd",
        "outputId": "f3941f43-b6f4-4501-a39a-0dd92738c3d9"
      },
      "source": [
        "df = pd.DataFrame(news, columns = ['id', 'type', 'content', 'title', 'domain'])\r\n",
        "df.head()"
      ],
      "execution_count": 126,
      "outputs": [
        {
          "output_type": "execute_result",
          "data": {
            "text/html": [
              "<div>\n",
              "<style scoped>\n",
              "    .dataframe tbody tr th:only-of-type {\n",
              "        vertical-align: middle;\n",
              "    }\n",
              "\n",
              "    .dataframe tbody tr th {\n",
              "        vertical-align: top;\n",
              "    }\n",
              "\n",
              "    .dataframe thead th {\n",
              "        text-align: right;\n",
              "    }\n",
              "</style>\n",
              "<table border=\"1\" class=\"dataframe\">\n",
              "  <thead>\n",
              "    <tr style=\"text-align: right;\">\n",
              "      <th></th>\n",
              "      <th>id</th>\n",
              "      <th>type</th>\n",
              "      <th>content</th>\n",
              "      <th>title</th>\n",
              "      <th>domain</th>\n",
              "    </tr>\n",
              "  </thead>\n",
              "  <tbody>\n",
              "    <tr>\n",
              "      <th>0</th>\n",
              "      <td>141</td>\n",
              "      <td>unreliable</td>\n",
              "      <td>Sometimes the power of Christmas will make you...</td>\n",
              "      <td>Church Congregation Brings Gift to Waitresses ...</td>\n",
              "      <td>awm.com</td>\n",
              "    </tr>\n",
              "    <tr>\n",
              "      <th>1</th>\n",
              "      <td>256</td>\n",
              "      <td>fake</td>\n",
              "      <td>AWAKENING OF 12 STRANDS of DNA – “Reconnecting...</td>\n",
              "      <td>AWAKENING OF 12 STRANDS of DNA – “Reconnecting...</td>\n",
              "      <td>beforeitsnews.com</td>\n",
              "    </tr>\n",
              "    <tr>\n",
              "      <th>2</th>\n",
              "      <td>700</td>\n",
              "      <td>unreliable</td>\n",
              "      <td>Never Hike Alone: A Friday the 13th Fan Film U...</td>\n",
              "      <td>Never Hike Alone - A Friday the 13th Fan Film ...</td>\n",
              "      <td>cnnnext.com</td>\n",
              "    </tr>\n",
              "    <tr>\n",
              "      <th>3</th>\n",
              "      <td>768</td>\n",
              "      <td>unreliable</td>\n",
              "      <td>When a rare shark was caught, scientists were ...</td>\n",
              "      <td>Elusive ‘Alien Of The Sea ‘ Caught By Scientis...</td>\n",
              "      <td>awm.com</td>\n",
              "    </tr>\n",
              "    <tr>\n",
              "      <th>4</th>\n",
              "      <td>791</td>\n",
              "      <td>clickbait</td>\n",
              "      <td>Donald Trump has the unnerving ability to abil...</td>\n",
              "      <td>Trump’s Genius Poll Is Complete &amp; The Results ...</td>\n",
              "      <td>bipartisanreport.com</td>\n",
              "    </tr>\n",
              "  </tbody>\n",
              "</table>\n",
              "</div>"
            ],
            "text/plain": [
              "    id  ...                domain\n",
              "0  141  ...               awm.com\n",
              "1  256  ...     beforeitsnews.com\n",
              "2  700  ...           cnnnext.com\n",
              "3  768  ...               awm.com\n",
              "4  791  ...  bipartisanreport.com\n",
              "\n",
              "[5 rows x 5 columns]"
            ]
          },
          "metadata": {
            "tags": []
          },
          "execution_count": 126
        }
      ]
    },
    {
      "cell_type": "code",
      "metadata": {
        "colab": {
          "base_uri": "https://localhost:8080/"
        },
        "id": "j8Rp9Y07fH8S",
        "outputId": "371a6459-4edd-4b86-9ed1-4100e803e64c"
      },
      "source": [
        "df.isnull().sum()"
      ],
      "execution_count": 127,
      "outputs": [
        {
          "output_type": "execute_result",
          "data": {
            "text/plain": [
              "id          0\n",
              "type       12\n",
              "content     0\n",
              "title       0\n",
              "domain      0\n",
              "dtype: int64"
            ]
          },
          "metadata": {
            "tags": []
          },
          "execution_count": 127
        }
      ]
    },
    {
      "cell_type": "code",
      "metadata": {
        "id": "8OjfBA1xgKMu"
      },
      "source": [
        "df = df.dropna()"
      ],
      "execution_count": 128,
      "outputs": []
    },
    {
      "cell_type": "code",
      "metadata": {
        "colab": {
          "base_uri": "https://localhost:8080/",
          "height": 497
        },
        "id": "XLjd31wjiGTU",
        "outputId": "c2e7c854-605f-4cc2-a34c-d8e414108e28"
      },
      "source": [
        "import seaborn as sns\r\n",
        "import matplotlib.pyplot as plt\r\n",
        "type_plot = sns.catplot('type', data = df, kind = 'count')\r\n",
        "(type_plot.set_xticklabels(rotation=30)\r\n",
        "          .ax.set_title('Number of articles by type'))"
      ],
      "execution_count": 129,
      "outputs": [
        {
          "output_type": "stream",
          "text": [
            "/usr/local/lib/python3.6/dist-packages/seaborn/_decorators.py:43: FutureWarning: Pass the following variable as a keyword arg: x. From version 0.12, the only valid positional argument will be `data`, and passing other arguments without an explicit keyword will result in an error or misinterpretation.\n",
            "  FutureWarning\n"
          ],
          "name": "stderr"
        },
        {
          "output_type": "execute_result",
          "data": {
            "text/plain": [
              "Text(0.5, 1.0, 'Number of articles by type')"
            ]
          },
          "metadata": {
            "tags": []
          },
          "execution_count": 129
        },
        {
          "output_type": "display_data",
          "data": {
            "image/png": "[encoded data removed]",
            "text/plain": [
              "<Figure size 360x360 with 1 Axes>"
            ]
          },
          "metadata": {
            "tags": []
          }
        }
      ]
    },
    {
      "cell_type": "code",
      "metadata": {
        "id": "_cbbrRhtzsNr"
      },
      "source": [
        "# Some types of samples are insufficient, merge labels\r\n",
        "df['type'].replace(\r\n",
        "    ['conspiracy', 'bias', 'junksci', 'rumor', 'satire', 'hate', 'unreliable', 'fake'], 'fake', inplace = True)\r\n",
        "df['type'].replace(\r\n",
        "    ['reliable', 'political'], 'truth', inplace = True)\r\n",
        "df['type'].replace(\r\n",
        "    ['clickbait', 'unknown'], 'others', inplace = True)"
      ],
      "execution_count": 130,
      "outputs": []
    },
    {
      "cell_type": "code",
      "metadata": {
        "colab": {
          "base_uri": "https://localhost:8080/",
          "height": 485
        },
        "id": "L2peCrR_53Ie",
        "outputId": "66423462-7c32-4f3a-9afb-c9b59833ed3c"
      },
      "source": [
        "type_plot2 = sns.catplot('type', data = df, kind = 'count')\r\n",
        "(type_plot2.set_xticklabels(rotation=30)\r\n",
        "          .ax.set_title('Number of articles by merged type'))"
      ],
      "execution_count": 131,
      "outputs": [
        {
          "output_type": "stream",
          "text": [
            "/usr/local/lib/python3.6/dist-packages/seaborn/_decorators.py:43: FutureWarning: Pass the following variable as a keyword arg: x. From version 0.12, the only valid positional argument will be `data`, and passing other arguments without an explicit keyword will result in an error or misinterpretation.\n",
            "  FutureWarning\n"
          ],
          "name": "stderr"
        },
        {
          "output_type": "execute_result",
          "data": {
            "text/plain": [
              "Text(0.5, 1.0, 'Number of articles by merged type')"
            ]
          },
          "metadata": {
            "tags": []
          },
          "execution_count": 131
        },
        {
          "output_type": "display_data",
          "data": {
            "image/png": "[encoded data removed]",
            "text/plain": [
              "<Figure size 360x360 with 1 Axes>"
            ]
          },
          "metadata": {
            "tags": []
          }
        }
      ]
    },
    {
      "cell_type": "code",
      "metadata": {
        "colab": {
          "base_uri": "https://localhost:8080/",
          "height": 467
        },
        "id": "hq48h8Gs6qFB",
        "outputId": "f785fb56-65a2-4a9b-ac62-b1c304ce43af"
      },
      "source": [
        "domain_plot = sns.catplot(x=\"domain\", hue=\"type\", data=df, kind=\"count\", legend_out=False)\r\n",
        "(domain_plot.set_xticklabels(rotation = 90)\r\n",
        "            .set(yscale = \"log\")\r\n",
        "            .set(title = 'Number of articles by domain')\r\n",
        "            .fig.set_size_inches(15,4))"
      ],
      "execution_count": 155,
      "outputs": [
        {
          "output_type": "display_data",
          "data": {
            "image/png": "[encoded data removed]",
            "text/plain": [
              "<Figure size 1080x288 with 1 Axes>"
            ]
          },
          "metadata": {
            "tags": []
          }
        }
      ]
    },
    {
      "cell_type": "code",
      "metadata": {
        "id": "FZ7utbwsk_Ua"
      },
      "source": [
        "import re\r\n",
        "from nltk.tokenize import RegexpTokenizer"
      ],
      "execution_count": 72,
      "outputs": []
    },
    {
      "cell_type": "code",
      "metadata": {
        "id": "dY7Pl_f6pzIV"
      },
      "source": [
        "def clean(text):\r\n",
        "    #Remove URLs\r\n",
        "    text = re.sub(r'http\\S+', '', text)\r\n",
        "    #lower texts\r\n",
        "    text = re.sub(r'[^\\w\\s]', '', text).lower()\r\n",
        "    tokenizer = RegexpTokenizer('\\w+[\\d\\.]+|\\S+')\r\n",
        "    tokens = tokenizer.tokenize(text)\r\n",
        "    #only keep vocabulary\r\n",
        "    voc = [i for i in tokens if i.isalpha()]    \r\n",
        "    return voc"
      ],
      "execution_count": 87,
      "outputs": []
    },
    {
      "cell_type": "code",
      "metadata": {
        "id": "4PaHmJb1x9Ph"
      },
      "source": [
        "df['content'] = df.apply(lambda x: clean(x['content']), axis=1)\r\n",
        "df['title'] = df.apply(lambda x: clean(x['title']), axis=1)"
      ],
      "execution_count": 164,
      "outputs": []
    },
    {
      "cell_type": "code",
      "metadata": {
        "colab": {
          "base_uri": "https://localhost:8080/",
          "height": 197
        },
        "id": "bpg9qjfwH2Ic",
        "outputId": "f8aae523-cc65-4465-e5c5-1a82ecefeb1e"
      },
      "source": [
        "df.head()"
      ],
      "execution_count": 165,
      "outputs": [
        {
          "output_type": "execute_result",
          "data": {
            "text/html": [
              "<div>\n",
              "<style scoped>\n",
              "    .dataframe tbody tr th:only-of-type {\n",
              "        vertical-align: middle;\n",
              "    }\n",
              "\n",
              "    .dataframe tbody tr th {\n",
              "        vertical-align: top;\n",
              "    }\n",
              "\n",
              "    .dataframe thead th {\n",
              "        text-align: right;\n",
              "    }\n",
              "</style>\n",
              "<table border=\"1\" class=\"dataframe\">\n",
              "  <thead>\n",
              "    <tr style=\"text-align: right;\">\n",
              "      <th></th>\n",
              "      <th>id</th>\n",
              "      <th>type</th>\n",
              "      <th>content</th>\n",
              "      <th>title</th>\n",
              "      <th>domain</th>\n",
              "    </tr>\n",
              "  </thead>\n",
              "  <tbody>\n",
              "    <tr>\n",
              "      <th>0</th>\n",
              "      <td>141</td>\n",
              "      <td>fake</td>\n",
              "      <td>[sometimes, the, power, of, christmas, will, m...</td>\n",
              "      <td>[church, congregation, brings, gift, to, waitr...</td>\n",
              "      <td>awm.com</td>\n",
              "    </tr>\n",
              "    <tr>\n",
              "      <th>1</th>\n",
              "      <td>256</td>\n",
              "      <td>fake</td>\n",
              "      <td>[awakening, of, strands, of, dna, reconnecting...</td>\n",
              "      <td>[awakening, of, strands, of, dna, reconnecting...</td>\n",
              "      <td>beforeitsnews.com</td>\n",
              "    </tr>\n",
              "    <tr>\n",
              "      <th>2</th>\n",
              "      <td>700</td>\n",
              "      <td>fake</td>\n",
              "      <td>[never, hike, alone, a, friday, the, th, fan, ...</td>\n",
              "      <td>[never, hike, alone, a, friday, the, th, fan, ...</td>\n",
              "      <td>cnnnext.com</td>\n",
              "    </tr>\n",
              "    <tr>\n",
              "      <th>3</th>\n",
              "      <td>768</td>\n",
              "      <td>fake</td>\n",
              "      <td>[when, a, rare, shark, was, caught, scientists...</td>\n",
              "      <td>[elusive, alien, of, the, sea, caught, by, sci...</td>\n",
              "      <td>awm.com</td>\n",
              "    </tr>\n",
              "    <tr>\n",
              "      <th>4</th>\n",
              "      <td>791</td>\n",
              "      <td>others</td>\n",
              "      <td>[donald, trump, has, the, unnerving, ability, ...</td>\n",
              "      <td>[trumps, genius, poll, is, complete, the, resu...</td>\n",
              "      <td>bipartisanreport.com</td>\n",
              "    </tr>\n",
              "  </tbody>\n",
              "</table>\n",
              "</div>"
            ],
            "text/plain": [
              "    id  ...                domain\n",
              "0  141  ...               awm.com\n",
              "1  256  ...     beforeitsnews.com\n",
              "2  700  ...           cnnnext.com\n",
              "3  768  ...               awm.com\n",
              "4  791  ...  bipartisanreport.com\n",
              "\n",
              "[5 rows x 5 columns]"
            ]
          },
          "metadata": {
            "tags": []
          },
          "execution_count": 165
        }
      ]
    },
    {
      "cell_type": "code",
      "metadata": {
        "id": "Yv2kj9s7JjOX"
      },
      "source": [
        ""
      ],
      "execution_count": null,
      "outputs": []
    }
  ]
}